{
 "cells": [
  {
   "cell_type": "markdown",
   "metadata": {},
   "source": [
    "![Logo](../logo.png)\n",
    "\n",
    "# Introduction ②\n",
    "\n",
    "Pour le second cours d'introduction, nous allons continuer à apprendre les bases du langage tout en commençant à utiliser des fonctions, qui apportent leur lot de notions complexes mais essentielles à comprendre.\n",
    "\n",
    "# Notions de ce cours\n",
    "\n",
    "* 🖊️ Les constantes\n",
    "* 🔨 Manipuler une chaîne de caractères\n",
    "* 🔨 ️Manipuler une liste\n",
    "* 🔨 ️Manipuler un dictionnaire\n",
    "* 🔨 Fonctions built-in - len()\n",
    "* ️🖊️ ️La boucle while\n",
    "* 🖊️ ️Variables mutables et immutables\n",
    "* 🔨 ️Lire et manipuler un set\n",
    "* ️🖊️ Les fonctions\n",
    "* ⚙️ Le passage des variables\n",
    "* ⚙️ La portée des variables\n",
    "* 🔨 Fonctions built-in - dir()\n",
    "* 🖊️ L'opérateur ternaire conditionnel\n",
    "* 🖊️ Le point-virgule\n",
    "* ⚙️ Débugger avec PDB\n",
    "* ⚙️ Présence dans un script\n"
   ]
  },
  {
   "cell_type": "markdown",
   "metadata": {},
   "source": [
    "---\n",
    "## 🖊️ Les constantes\n",
    "\n",
    "Pour des variables dont on est certaines qu'elles ne seront jamais amenées à être changées, comme de la configuration ou des constantes scientifiques, on a l'habitude d'utiliser des variables dites \"constantes\".\n",
    "\n",
    "Pour ce faire, on définie des variables avec un nom tout en majuscules. Attention cependant, car la notion de variable n'existant techniquement pas dans le langage, donc rien ne vous empêchera de changer le contenu de ces variables par erreur."
   ]
  },
  {
   "cell_type": "code",
   "execution_count": 28,
   "metadata": {},
   "outputs": [],
   "source": [
    "SERVER_HTTP_PORT = 8080\n",
    "SERVER_AUTHORIZED_URL = \"localhost\""
   ]
  },
  {
   "cell_type": "markdown",
   "metadata": {},
   "source": [
    "---\n",
    "## 🔨 Manipuler une chaîne de caractères\n",
    "\n",
    "Chaque type de valeur a son lot de fonctions très utiles, que l'on peut appeler directement sur la valeur ou la variable du type concerné.\n",
    "\n",
    "Pour le type `str`, nous avons par exemple :\n",
    "\n",
    "* `isdigit()` pour savoir si le contenu n'est composé que de chiffres\n",
    "* `join(list)` pour coller les chaînes d'une liste avec cette chaîne\n",
    "* `replace()` pour basiquement remplacer un texte par un autre\n",
    "* `split(separateur)` pour découper une chaîne selon un séparateur et la transformer en liste\n",
    "* `upper()` pour tout passer en majuscules, et sa fonction inverse `lower()`\n",
    "\n",
    "N'hésitez pas à consulter la [documentation officielle](https://docs.python.org/3/library/stdtypes.html#string-methods) pour voir le reste des fonctions, dont certaines sont bien utiles."
   ]
  },
  {
   "cell_type": "code",
   "execution_count": 29,
   "metadata": {},
   "outputs": [
    {
     "output_type": "stream",
     "name": "stdout",
     "text": [
      "True\nun,deux,trois\nil neige\n['un', 'deux', 'trois']\nbonjour à tous\n"
     ]
    }
   ],
   "source": [
    "userinput = \"418\"\n",
    "print(userinput.isdigit())\n",
    "print(\",\".join([\"un\", \"deux\", \"trois\"]))\n",
    "print(\"il pleut\".replace(\"pleut\", \"neige\"))\n",
    "print(\"un,deux,trois\".split(\",\"))\n",
    "print(\"bonjour à TOUS\".lower())"
   ]
  },
  {
   "cell_type": "markdown",
   "metadata": {},
   "source": [
    "---\n",
    "## 🔨 ️Manipuler une liste\n",
    "\n",
    "Maintenant que nous savons utiliser et parcourir une liste, voyons comment la manipuler.\n",
    "\n",
    "### Ajouter un élément \n",
    "\n",
    "Le plus commun est d'ajouter un élément à la fin d'une liste avec `.append(element)`.\n",
    "\n",
    "La fonction `.insert(index, element)` nous permet d'insérer un nouvel élément dans la liste à la position que l'on veut. Si `index` vaut `0`, cela l'ajoutera donc en début de liste."
   ]
  },
  {
   "cell_type": "code",
   "execution_count": 30,
   "metadata": {},
   "outputs": [
    {
     "output_type": "stream",
     "name": "stdout",
     "text": [
      "['iPhone 12', 'iPhone 12 Pro']\n['iPhone 12 Mini', 'iPhone 12', 'iPhone 12 Pro']\n"
     ]
    }
   ],
   "source": [
    "phones = [\"iPhone 12\"]\n",
    "phones.append(\"iPhone 12 Pro\")\n",
    "print(phones)\n",
    "\n",
    "phones.insert(0, \"iPhone 12 Mini\")\n",
    "print(phones)"
   ]
  },
  {
   "cell_type": "markdown",
   "metadata": {},
   "source": [
    "### Remplacer un élément\n",
    "\n",
    "Vu qu'une liste est un type _mutable_, on peut aller directement modifier chacun de ses éléments. Pour cela, on utilise la même écriture que pour la lecture d'un élément, mais on considère ça comme une variable que l'on peut réassigner.\n"
   ]
  },
  {
   "cell_type": "code",
   "execution_count": 31,
   "metadata": {},
   "outputs": [
    {
     "output_type": "stream",
     "name": "stdout",
     "text": [
      "['iPhone 12 Mini', 'iPhone XS', 'iPhone 12 Pro']\n"
     ]
    }
   ],
   "source": [
    "phones[1] = \"iPhone XS\"\n",
    "print(phones)"
   ]
  },
  {
   "cell_type": "markdown",
   "metadata": {},
   "source": [
    "### Supprimer un élément\n",
    "\n",
    "Il y a plusieurs façons de supprimer un élément d'une liste. La première est d'utiliser le mot clé `del` devant un élément de liste pour qu'il soit immédiatement supprimé.\n",
    "\n",
    "La seconde est d'utiliser la fonction `.pop()` qui va supprimer le dernier élément de la liste ET vous le renvoyer. On peut y passer un index optionnel pour supprimer autre chose que le dernier élément."
   ]
  },
  {
   "cell_type": "code",
   "execution_count": 32,
   "metadata": {},
   "outputs": [
    {
     "output_type": "stream",
     "name": "stdout",
     "text": [
      "['iOS 13', 'iOS 14.5']\niOS 13\n['iOS 14.5']\n"
     ]
    }
   ],
   "source": [
    "versions = [\"iOS 13\", \"iOS 14\", \"iOS 14.5\"]\n",
    "del versions[1]\n",
    "print(versions)\n",
    "\n",
    "old_version = versions.pop(0)\n",
    "print(old_version)\n",
    "print(versions)"
   ]
  },
  {
   "cell_type": "markdown",
   "metadata": {},
   "source": [
    "### Ordonner la liste\n",
    "\n",
    "On a la fonction `.sort()` qui est bien pratique pour trier une liste par ordre de grandeur, croissant si les éléments sont des nombres, alphabétique s'ils sont des chaînes de caractères.\n",
    "\n",
    "Autre fonction utile, `.reverse()` inversera simplement l'ordre de tous les éléments de la liste."
   ]
  },
  {
   "cell_type": "code",
   "execution_count": 33,
   "metadata": {},
   "outputs": [
    {
     "output_type": "stream",
     "name": "stdout",
     "text": [
      "['a', 'b', 'd', 'q']\n['q', 'd', 'b', 'a']\n"
     ]
    }
   ],
   "source": [
    "#points = [87, 53, 41, 79, 98]\n",
    "points = [\"a\", \"d\", \"q\", \"b\"]\n",
    "points.sort()\n",
    "print(points)\n",
    "points.reverse()\n",
    "print(points)"
   ]
  },
  {
   "cell_type": "markdown",
   "metadata": {},
   "source": [
    "---\n",
    "## 🔨 ️Manipuler un dictionnaire\n",
    "\n",
    "Comme nous l'avons vu, un dictionnaire a la particularité de définir ses éléments avec des clés, qui sont uniques car elles identifient chaque élément.\n",
    "\n",
    "### Ajouter un élément\n",
    "\n",
    "Pour rajouter un élément, il suffit d'assigner une valeur à une clé du dictionnaire qui n'existe pas encore."
   ]
  },
  {
   "cell_type": "code",
   "execution_count": 34,
   "metadata": {},
   "outputs": [
    {
     "output_type": "stream",
     "name": "stdout",
     "text": [
      "{'Paris': 21.5, 'Tokyo': 18.1, 'Taipei': 17.5}\n"
     ]
    }
   ],
   "source": [
    "cities_temperatures = {\"Paris\": 21.5, \"Tokyo\": 18.1}\n",
    "cities_temperatures[\"Taipei\"] = 17.5\n",
    "print(cities_temperatures)"
   ]
  },
  {
   "cell_type": "markdown",
   "metadata": {},
   "source": [
    "### Remplacer un élément\n",
    "\n",
    "De la même façon, il suffit d'assigner une nouvelle valeur à un élément en utilisant sa clé. Pour rappel, les clés sont sensibles à la casse, donc attention à ne pas créer une nouvelle valeur au lieu d'en remplacer une existante !"
   ]
  },
  {
   "cell_type": "code",
   "execution_count": 35,
   "metadata": {},
   "outputs": [
    {
     "output_type": "stream",
     "name": "stdout",
     "text": [
      "{'Paris': 21.3, 'Tokyo': 18.1, 'Taipei': 17.5}\n"
     ]
    }
   ],
   "source": [
    "cities_temperatures[\"Paris\"] = 21.3\n",
    "print(cities_temperatures)"
   ]
  },
  {
   "cell_type": "markdown",
   "metadata": {},
   "source": [
    "### Supprimer un élément\n",
    "\n",
    "Comme une liste, on peut utiliser soit le mot-clé `del`, soit la fonction `.pop()` pour supprimer un élément d'un dictionnaire à partir de sa clé. La fonction `.pop()` renverra bien sûr la valeur de l'élément supprimé et non sa clé."
   ]
  },
  {
   "cell_type": "code",
   "execution_count": 36,
   "metadata": {},
   "outputs": [
    {
     "output_type": "stream",
     "name": "stdout",
     "text": [
      "{'Paris': 21.5, 'Osaka': 19.2}\n21.5\n{'Osaka': 19.2}\n"
     ]
    }
   ],
   "source": [
    "cities_temperatures = {\"Paris\": 21.5, \"Tokyo\": 18.1, \"Osaka\": 19.2}\n",
    "del cities_temperatures[\"Tokyo\"]\n",
    "print(cities_temperatures)\n",
    "\n",
    "old_temperature = cities_temperatures.pop(\"Paris\")\n",
    "print(old_temperature)\n",
    "print(cities_temperatures)"
   ]
  },
  {
   "cell_type": "markdown",
   "metadata": {},
   "source": [
    "---\n",
    "## 🔨 Fonctions built-in - len()\n",
    "\n",
    "La fonction `len()`, raccourci de \"length\", accepte de nombreuses choses comme argument pour en renvoyer la longueur. Cela marche aussi bien pour une chaîne de caractère (nombre de caractères), une liste, un tuple, un dictionnaire... et également pour les _itérateurs_ que l'on a aperçu dans le cours précédent."
   ]
  },
  {
   "cell_type": "code",
   "execution_count": 37,
   "metadata": {},
   "outputs": [
    {
     "output_type": "stream",
     "name": "stdout",
     "text": [
      "11\n",
      "4\n"
     ]
    }
   ],
   "source": [
    "print(len(\"Hello world\"))\n",
    "print(len([1996, 2001, 2007, 2012]))"
   ]
  },
  {
   "cell_type": "markdown",
   "metadata": {},
   "source": [
    "---\n",
    "## 🖊️ ️La boucle while\n",
    "\n",
    "Dans certains cas, on veut exécuter plusieurs fois un bout de code tant qu'une expression booléenne est vraie, jusqu'à ce que quelque chose rendre cette expression fausse, ou que l'on force la sortie de la boucle. On peut lire le `while` comme voulant dire \"tant que...\".\n",
    "\n",
    "![Représentation du while](../assets/while.png)\n",
    "\n",
    "C'est ici le premier point très important à propos du `while` : il faut toujours prévoir un moyen de s'en échapper, sinon l'on rentre alors dans une boucle infinie qui peut être difficile à arrêter, et que l'on ne veut surtout pas provoquer sur un service Python en production par exemple.\n",
    "\n",
    "Généralement, on utilise ce genre de boucle avec un compteur numéraire, ou avec "
   ]
  },
  {
   "cell_type": "code",
   "execution_count": 38,
   "metadata": {
    "tags": []
   },
   "outputs": [
    {
     "output_type": "stream",
     "name": "stdout",
     "text": [
      "4\n",
      "3\n",
      "2\n",
      "1\n",
      "0\n",
      "end\n"
     ]
    }
   ],
   "source": [
    "i = 5\n",
    "while i > 0:\n",
    "    i -= 1\n",
    "    print(i)\n",
    "print(\"end\")"
   ]
  },
  {
   "cell_type": "markdown",
   "metadata": {},
   "source": [
    "Notez sur l'exemple ci-dessus que l'expression booléenne est toujours exécutée à la fin du bloc de code. Lors de la dernière itération, `i` passe à zéro et est affiché, puis seulement ensuite on revient à la ligne où le `while` est défini, l'expression booléenne est désormais fausse, et donc le `while` s'arrête.\n",
    "\n",
    "Exactement comme avec les boucles `for`, on peut utiliser les mots clés `continue` et `break` pour contrôler l'exécution d'un `while`. Leur usage est toujours utile, par exemple si votre code a plusieurs cas très différents et que certains peuvent mener à sauter une itération ou bien à arrêter la boucle complète.\n",
    "\n",
    "Dans le cas où l'on veuille justement arrêter tout le `while` ou juste l'itération, à l'aide de plusieurs `if` par exemple, on peut créer une boucle infinie avec `while True`. Il y est donc très important d'avoir toujours un moyen de l'arrêter, donc faites toujours très attention avec ce genre de boucle !\n",
    "\n",
    "On peut imaginer l'exemple simple de faire deviner un nombre au hasard à un utiliateur, qui peut écrire un nombre dans le terminal : tant qu'il n'a pas trouvé OU tant qu'il n'écrit pas \"abandonner\", la boucle continue à l'infini.\n"
   ]
  },
  {
   "cell_type": "code",
   "execution_count": 39,
   "metadata": {},
   "outputs": [
    {
     "output_type": "stream",
     "name": "stdout",
     "text": [
      "Commande à passer pour : stylo\n",
      "Commande à passer pour : chaise\n",
      "Les chats ne se commandent pas !\n",
      "Commande à passer pour : clavier\n",
      "Recherche... 7\n",
      "Recherche... 8\n",
      "Recherche... 9\n",
      "Multiple de 5 trouvé : 10\n"
     ]
    }
   ],
   "source": [
    "bon_de_commande = [\"stylo\", \"chaise\", \"chat\", \"clavier\"]\n",
    "while len(bon_de_commande) > 0: # Tant qu'il y a au moins 1 élément dans la liste...\n",
    "    objet = bon_de_commande[0] # On mets de côté le premier élément de la liste\n",
    "    del bon_de_commande[0] # On supprime le premier élément de la liste\n",
    "    if objet == \"chat\":\n",
    "        print(\"Les chats ne se commandent pas !\")\n",
    "        continue\n",
    "    print(f\"Commande à passer pour : {objet}\")\n",
    "\n",
    "number = 7\n",
    "while number < 20:\n",
    "    if number % 5 == 0: # On vérifie le reste d'une division par 5 \n",
    "        print(f\"Multiple de 5 trouvé : {number}\")\n",
    "        break\n",
    "    print(f\"Recherche... {number}\")\n",
    "    number += 1"
   ]
  },
  {
   "cell_type": "markdown",
   "metadata": {},
   "source": [
    "---\n",
    "## 🖊️ Variables mutables et immutables\n",
    "\n",
    "Avant d'arriver aux fonctions, il nous faut regarder une chose essentielle au sujet des variables : les types dits _mutables_ ou _immutables_.\n",
    "\n",
    "Une valeur avec un type _mutable_ peut être modifié, alors que ce n'est strictement pas possible avec un type _immutable_.\n",
    "\n",
    "* Les types _mutables_ sont : `list`, `dict`, `set`\n",
    "* Les types _immutables_ sont : `int`, `float`, `str`, `tuple`, `frozenset`\n",
    "\n",
    "<details>\n",
    "  <summary>【💡 Spoiler】</summary>\n",
    "  Il y a bien sûr d'autres types que l'on n'a pas encore vus qui sont soit l'un, soit l'autre.\n",
    "</details>\n",
    "\n",
    "💬 «Mais, on peut bien modifier une variable de type `str` ou `int` pourtant non ? Pourquoi sont-ils immutables alors ?»\n",
    "\n",
    "En réalité, on ré-attribue la valeur d'une variable par un autre texte, ou un autre nombre, mais ce n'est pas en soi une valeur que l'on modifie : c'est un remplacement d'une valeur par une autre. C'est comme dire qu'il n'y a qu'un seul nombre `12` qui existe, et que si l'on utilise `13`, et bien c'est un tout autre nombre. Lorsque l'on verra comment manipuler une chaîne de caractères `str`, chaque opération crééra une nouvelle copie avec les modifications voulues, car ce type est immutable.\n",
    "\n",
    "Voyons désormais deux nouveaux types de valeurs :\n",
    "\n",
    "* `set` : une liste non ordonnée de valeurs, et dont toute valeur doublon y est automatiquement supprimée.\n",
    "* `frozenset` : exactement pareil qu'un `set`, mais immutable, on ne peut donc pas changer ses valeurs.\n",
    "\n",
    "Bien que ces types ressemblent à des listes, elles en sont très différentes. Leur principal intérêt est de supprimer tout duplicata, et d'empêcher d'en ajouter également. Les `set` sont aussi très adaptés pour vérifier la présence d'un élément dedans (+ rapide que la même opération sur une `list`), ou pour y effectuer des opérations mathématiques diverses (unions, intersections...).\n",
    "\n",
    "Aussi, on ne peut y insérer que des valeurs _immutables_."
   ]
  },
  {
   "cell_type": "code",
   "execution_count": 40,
   "metadata": {},
   "outputs": [
    {
     "output_type": "stream",
     "name": "stdout",
     "text": [
      "{'intérieur', 'souris', 'bureau', 'ordinateur'}\nfrozenset({'intérieur', 'souris', 'bureau', 'ordinateur'})\n"
     ]
    }
   ],
   "source": [
    "photo_tags = {\"bureau\", \"ordinateur\", \"intérieur\", \"souris\", \"bureau\"}\n",
    "print(photo_tags)\n",
    "\n",
    "photo_frozen_tags = frozenset(photo_tags)\n",
    "print(photo_frozen_tags)"
   ]
  },
  {
   "cell_type": "markdown",
   "metadata": {},
   "source": [
    "---\n",
    "## 🔨 ️L️i️r️e️ ️e️t️ manipuler un set\n",
    "\n",
    "Bien que ressemblant à une liste, le `set` a des fonctions complètement différentes, son objectif étant différent à la base. Par exemple, on ne peut pas sélectionner un élément en particulier d'un `set`. Son usage étant si particulier, nous n'allons en voir que les usages de bases pour l'instant."
   ]
  },
  {
   "cell_type": "code",
   "execution_count": 41,
   "metadata": {},
   "outputs": [
    {
     "output_type": "stream",
     "name": "stdout",
     "text": [
      "True\n"
     ]
    }
   ],
   "source": [
    "print(\"souris\" in photo_tags)"
   ]
  },
  {
   "cell_type": "markdown",
   "metadata": {},
   "source": [
    "### Ajouter un élément\n",
    "\n",
    "Pour cela, la fonction `.add()` permet d'ajouter un seul élément au `set`, quand la fonction `.update()` permet d'ajouter plusieurs éléments à la fois en donnant une liste d'élements (chaque élément sera ajouté au `set` à moins qu'il n'y soit déjà présent).\n",
    "\n",
    "Bien sûr, on ne peut rien ajouter à un `frozenset`.\n"
   ]
  },
  {
   "cell_type": "code",
   "execution_count": 42,
   "metadata": {},
   "outputs": [
    {
     "output_type": "stream",
     "name": "stdout",
     "text": [
      "{'téléphone', 'bureau', 'lampe', 'souris', 'intérieur', 'ordinateur', 'clavier'}\n"
     ]
    }
   ],
   "source": [
    "photo_tags.add(\"clavier\")\n",
    "photo_tags.update([\"lampe\", \"téléphone\"])\n",
    "print(photo_tags)"
   ]
  },
  {
   "cell_type": "markdown",
   "metadata": {},
   "source": [
    "### Supprimer un élément\n",
    "\n",
    "Vu que l'on ne peut pas sélectionner l'élément d'un `set` à l'aide d'un index, on le fait en passant explicitement la valeur que l'on veut supprimer à la fonction `.discard()`."
   ]
  },
  {
   "cell_type": "code",
   "execution_count": 43,
   "metadata": {},
   "outputs": [
    {
     "output_type": "stream",
     "name": "stdout",
     "text": [
      "{'bureau', 'lampe', 'souris', 'intérieur', 'ordinateur', 'clavier'}\n"
     ]
    }
   ],
   "source": [
    "photo_tags.discard(\"téléphone\")\n",
    "print(photo_tags)"
   ]
  },
  {
   "cell_type": "markdown",
   "metadata": {},
   "source": [
    "---\n",
    "## 🖊️ Les fonctions\n",
    "\n",
    "Premier outil du développeur pour découper son code en morceaux réutilisables, les fonctions permettent de réaliser des tâches précises. Elles peuvent optionnellement accepter des valeurs que l'on appellera alors \"arguments\", et peuvent renvoyer ou non une ou plusieurs valeurs.\n",
    "\n",
    "![Explication d'une fonction](../assets/function.png)\n",
    "\n",
    "### Définir une fonction\n",
    "\n",
    "Une fonction se définit avant tout à l'aide du mot clé `def` que l'on fera suivre d'un nom, puis de parenthèses et enfin de `:` pour indiquer qu'une fonction débute sur les lignes à suivre. Comme tout \"bloc\", il faudra alors rajouter une indentation sur les lignes de code faisant partie de la fonction.\n",
    "\n",
    "Tout étant défini par l'indentation en Python, créer une fonction sans code indenté en son sein génèrerait une erreur de synthaxe. Dans ce cas là, on peut écrire le mot-clé `pass` qui sert juste à meubler en attendant que l'on écrire du vrai code."
   ]
  },
  {
   "cell_type": "code",
   "execution_count": 44,
   "metadata": {},
   "outputs": [],
   "source": [
    "def parler():\n",
    "    pass"
   ]
  },
  {
   "cell_type": "markdown",
   "metadata": {},
   "source": [
    "Commençons à remplir notre fonction, et faisons un appel de cette dernière. Par convention, on peut écrire un commentaire décrivant la fonction avec une chaîne de caractères utilisant les triples guillemets `\"\"\"`.\n",
    "\n",
    "À ce sujet, il faut toujours appeler une fonction après qu'elle ait été déclarée."
   ]
  },
  {
   "cell_type": "code",
   "execution_count": 45,
   "metadata": {},
   "outputs": [
    {
     "output_type": "stream",
     "name": "stdout",
     "text": [
      "Le personnage dit : Hello\n"
     ]
    }
   ],
   "source": [
    "def parler():\n",
    "    \"\"\" Afficher un message \"\"\"\n",
    "    print(\"Le personnage dit : Hello\")\n",
    "\n",
    "parler()"
   ]
  },
  {
   "cell_type": "markdown",
   "metadata": {},
   "source": [
    "### Définir avec des arguments positionnels\n",
    "\n",
    "Pour accepter des arguments dans notre fonction, on va remplir les parenthèses `()`. Chaque mot que l'on y écrira signifiera qu'il faudra passer autant de valeurs lors de l'appel de la fonction, et ce dans le même ordre : ce sont des \"arguments positionnels\".\n",
    "\n",
    "À vous de choisir les noms les plus adaptés pour nommer les arguments, afin que l'on sache facilement comment utiliser cette fonction.\n",
    "\n",
    "Au sein du code de la fonction :\n",
    "\n",
    "* Chaque argument sera alors une variable contenant la valeur écrite lors de l'appel de la fonction.\n",
    "* Si l'on veut utiliser un argument ayant le même nom qu'une variable déjà déclarée auparavant dans le code, on aura toujours bien la valeur de l'argument. (on verra pourquoi juste après)\n",
    "\n",
    "Ci-dessous, on souhaite accepter deux arguments, le premier s'appellera \"nom\" et le second \"message\"."
   ]
  },
  {
   "cell_type": "code",
   "execution_count": 46,
   "metadata": {},
   "outputs": [
    {
     "output_type": "stream",
     "name": "stdout",
     "text": [
      "Naruto a dit : Dattebayo !\n"
     ]
    }
   ],
   "source": [
    "nom = \"Test\"\n",
    "\n",
    "# nom = \"Naruto\", message = \"Dattebayo\"\n",
    "def parler(nom, message):\n",
    "    print(f\"{nom} a dit : {message}\")\n",
    "\n",
    "parler(\"Naruto\", \"Dattebayo !\")"
   ]
  },
  {
   "cell_type": "markdown",
   "metadata": {},
   "source": [
    "### Appeler avec des arguments à mot-clé\n",
    "\n",
    "Il existe un moyen de ne pas avoir à forcément respecter l'ordre des arguments positionnels, et cela implique l'usage des \"arugments à mots-clés\", communément appelés \"keyword arguments\".\n",
    "\n",
    "Lors de l'appel de la fonction, devant chaque valeur, on précise le nom de l'argument visé à l'aide d'un `=`.\n",
    "\n",
    "Attention, dans ce cas là, il faudra toujours écrire les arguments à mot-clé après les arguments positionnels. De toute façon, si vous vous emmêlez dans l'ordre, Python génèrera une erreur explicite."
   ]
  },
  {
   "cell_type": "code",
   "execution_count": 47,
   "metadata": {},
   "outputs": [
    {
     "output_type": "stream",
     "name": "stdout",
     "text": [
      "Saskue a dit : Baka\nSaskue a dit : Baka\n"
     ]
    }
   ],
   "source": [
    "def parler(nom, message):\n",
    "    print(f\"{nom} a dit : {message}\")\n",
    "\n",
    "parler(\"Saskue\", \"Baka\")\n",
    "parler(message=\"Baka\", nom=\"Saskue\")"
   ]
  },
  {
   "cell_type": "markdown",
   "metadata": {},
   "source": [
    "### Définir des arguments à valeur par défaut (arguments optionnels)\n",
    "\n",
    "Pour des arguments que l'on souhaite être optionnels, c'est à dire qu'il n'y aura pas forcément besoin de les fournir lors de l'appel d'une fonction, il faut alors écrire à l'avance une valeur par défaut.\n",
    "\n",
    "Pour cela, on utilise la même écriture que les arguments à mot-clé, en suivant le nom de l'argument d'un `=` puis d'une valeur qui peut être de tout type. Mais attention cependant à ne pas confondre les deux malgré la même écriture !\n",
    "\n",
    "L'ordre des arguments étant important, lorsque l'on va écrire les arguments que l'on souhaite recevoir dans la fonction que l'on définit, les arguments à valeur par défaut doivent _toujours_ se trouver après les arguments positionnels. Même chose lorsque l'on va appeller la fonction, il faudra toujours rigoureusement respecter l'ordre des arguments tels qu'ils sont définis.\n",
    "\n",
    "Ainsi, lorsque l'on va appeler la fonction en omettant un argument optionnel, ce dernier prendra automatiquement la valeur par défaut lorsque l'on s'en servira au sein de la fonction. Cela permet au final de pouvoir appeler la même fonction de plusieurs façons."
   ]
  },
  {
   "cell_type": "code",
   "execution_count": 48,
   "metadata": {},
   "outputs": [
    {
     "output_type": "stream",
     "name": "stdout",
     "text": [
      "Sakura a dit : ...\nSakura a dit : Dis-moi, Naruto...\n"
     ]
    }
   ],
   "source": [
    "# Lorsque l'argument \"message\" n'est pas précisé, il prend la valeur par défaut \"...\"\n",
    "def parler(nom, message=\"...\"):\n",
    "    print(f\"{nom} a dit : {message}\")\n",
    "\n",
    "# Passage d'un seul argument au lieu de deux\n",
    "parler(\"Sakura\")\n",
    "# Passage des deux arguments\n",
    "parler(\"Sakura\", \"Dis-moi, Naruto...\")"
   ]
  },
  {
   "source": [
    "L'usage d'une valeur par défaut permet aussi de changer sensiblement le comportement de votre fonction. Comme souvent en informatique, on peut prévoir la valeur `None` par défaut sur un argument optionnel, pour ensuite prévoir un comportement spécifique.\n",
    "\n",
    "Dans l'exemple suivant, on va sensiblement changer le comportement de la fonction selon si un message est passé ou non."
   ],
   "cell_type": "markdown",
   "metadata": {}
  },
  {
   "cell_type": "code",
   "execution_count": 49,
   "metadata": {},
   "outputs": [
    {
     "output_type": "stream",
     "name": "stdout",
     "text": [
      "(Sakura ne dit rien...)\nSakura a dit : Dis-moi, Sasuke...\n"
     ]
    }
   ],
   "source": [
    "def parler(nom, message=None):\n",
    "    if message == None:\n",
    "        print(f\"({nom} ne dit rien...)\")\n",
    "    else:\n",
    "        print(f\"{nom} a dit : {message}\")\n",
    "\n",
    "parler(\"Sakura\")\n",
    "parler(\"Sakura\", \"Dis-moi, Sasuke...\")"
   ]
  },
  {
   "cell_type": "markdown",
   "metadata": {},
   "source": [
    "### Retourner une valeur\n",
    "\n",
    "Pour l'instant, aucune de nos fonctions ne renvoient de résulat. Dans ce cas là, elles renvoient tout de même la valeur `None`.\n",
    "\n",
    "Afin de renvoyer quelque chose, on utilise le mot clé `return` suivi d'une valeur, variable, expression... Celle ligne marquera alors la fin de la fonction : impossible ensuite d'y écrire quoi que ce soit en son sein, car l'on aura déjà retourné quelque chose.\n",
    "\n",
    "La valeur renvoyée par une fonction peut être utilisée telle quelle, ou bien peut être assignée à une variable."
   ]
  },
  {
   "cell_type": "code",
   "execution_count": 50,
   "metadata": {},
   "outputs": [
    {
     "output_type": "stream",
     "name": "stdout",
     "text": [
      "Aujourd'hui il fait 12°C, soit 53.6°F\nAujourd'hui il fait 23°C, soit 73.4°F\n"
     ]
    }
   ],
   "source": [
    "def celcius_to_fahrenheit(celcius):\n",
    "    return celcius * 1.8 + 32 # Comme en mathématiques, la multiplication a la priorité\n",
    "\n",
    "print(f\"Aujourd'hui il fait 12°C, soit {celcius_to_fahrenheit(12)}°F\")\n",
    "\n",
    "fahrenheit = celcius_to_fahrenheit(23)\n",
    "print(f\"Aujourd'hui il fait 23°C, soit {fahrenheit}°F\")"
   ]
  },
  {
   "cell_type": "markdown",
   "metadata": {},
   "source": [
    "---\n",
    "## ⚙️ Le passage des variables\n",
    "\n",
    "Revenons sur les fonctions qui acceptent des valeurs grâce à leurs aguments. Il existe en réalité une particularité sur la façon par laquelle les variables sont transmises aux fonctions, et cela dépend de leur type :\n",
    "\n",
    "* Type _mutable_ : passage par référence\n",
    "* Type _immutable_ : passage par valeur\n",
    "\n",
    "Concrètement, cela veut dire que si l'on veut passer une variable existante de type `str` (_immutable_) à une fonction, cette dernière va en recevoir la valeur et va techniquement la \"ré-encapsuler\" dans une variable différente, une opération invisible à nos yeux. Si l'on modifie cette variable au sein de cette fonction, cela n'aura aucun effet sur la variable originale.\n",
    "\n",
    "(Bien sûr, vous pouvez utiliser un `return` pour influencer la variable originale, mais nous nous focalisons ici sur le fonctionnement du langage plutôt que sur la logique pure)"
   ]
  },
  {
   "cell_type": "code",
   "execution_count": 51,
   "metadata": {},
   "outputs": [
    {
     "output_type": "stream",
     "name": "stdout",
     "text": [
      "dans la fonction : world\nhello\n"
     ]
    }
   ],
   "source": [
    "def change(data):\n",
    "    data = \"world\"\n",
    "    print(f\"dans la fonction : {data}\")\n",
    "\n",
    "mystr = \"hello\"\n",
    "change(mystr) # Seule la valeur de mystr est passée à la fonction\n",
    "print(mystr)"
   ]
  },
  {
   "cell_type": "markdown",
   "metadata": {},
   "source": [
    "Pour ce qui est des types _mutables_ cependant, étant donné que ce sont des valeurs directement modifiables, Python va transmettre une référence à ces variables aux fonctions. La fonction reçoit alors comme argument l'équivalent de la variable originale, et si l'on modifie leur valeur au sein de la fonction, cela revient à toucher la variable originale."
   ]
  },
  {
   "cell_type": "code",
   "execution_count": 52,
   "metadata": {},
   "outputs": [
    {
     "output_type": "stream",
     "name": "stdout",
     "text": [
      "dans la fonction : ['x', 'y']\n['x']\n"
     ]
    }
   ],
   "source": [
    "def change(data):\n",
    "    data = list(data)\n",
    "    data.append(\"y\")\n",
    "    print(f\"dans la fonction : {data}\")\n",
    "\n",
    "mylist = [\"x\"]\n",
    "change(mylist) # La référence à la variable mylist est passée à la fonction\n",
    "print(mylist)"
   ]
  },
  {
   "cell_type": "markdown",
   "metadata": {},
   "source": [
    "---\n",
    "\n",
    "## ⚙️ La portée des variables\n",
    "\n",
    "Avec l'usage des fonctions (et plus tard, des classes) apparaît un nouveau concept du langage : ce qu'on appelle la \"portée\" des variables.\n",
    "\n",
    "Lorsque l'on définit une variable, elle est alors accessible selon une certaine portée (\"scope\").\n",
    "\n",
    "Il existe toujours une portée par défaut, le \"scope global\", au niveau de votre fichier Python. Toute variable qui y est définie a alors une \"portée globale\" et l'on peut parler de \"variables globales\".\n",
    "\n",
    "Cependant, écrire de nombreuses choses dans notre code vont délimiter de nouvelles portées, on parle alors de \"scope local\" :\n",
    "\n",
    "* Les structures conditionnelles `if`...\n",
    "* Les boucles `for`, `while`...\n",
    "* Les fonctions\n",
    "* Les classes\n",
    "\n",
    "Écrire l'une de ces choses créera donc en son sein un scope local. \n",
    "\n",
    "On aura alors accès, depuis ce nouveau scope, aux variables du scope dans lequel il a été créé (le scope \"parent\"), et l'on pourra autant les lire que les modifier.\n",
    "\n",
    "Ci-dessous, on voit la structure `if` créer son propre scope local, et qui peut accéder à toutes les variables de son scope parent, qui est ici le scope global.\n",
    "\n",
    "![Scope global et local](../assets/scope_first.png)"
   ]
  },
  {
   "cell_type": "code",
   "execution_count": 53,
   "metadata": {},
   "outputs": [
    {
     "output_type": "stream",
     "name": "stdout",
     "text": [
      "25\n10\n"
     ]
    }
   ],
   "source": [
    "a = 25\n",
    "if a > 20:\n",
    "    print(a)\n",
    "    a = 10\n",
    "print(a)"
   ]
  },
  {
   "cell_type": "markdown",
   "metadata": {},
   "source": [
    "Lorsqu'une variable est définie dans un scope local, sa portée est limitée à ce dernier, et donc aussi aux éventuels scopes déclarés en son sein (scopes \"enfants\").\n",
    "\n",
    "Le principe des scopes est ce qui permet aux langages d'avoir des variables portant le même nom mais ne se mélangeant pas : si vous voulez accéder à la variable `a`, le langage va d'abord vérifier son existance ou non dans le scope local. Si la variable existe, vous en aurez sa valeur, sinon, le langage ira vérifier son existence dans le scope parent, etc, jusqu'à arriver au scope global.\n",
    "\n",
    "L'argument attendu par une fonction équivaut à déclarer une variable dans son propre scope, comme montré ci-dessous. Vu que la variable `b` est définie dans le scope local de `fonction_x`, on ne peut pas y accéder depuis le scope parent, et tenter d'y accéder génèrera une erreur.\n",
    "\n",
    "![Scope local](../assets/scope_local.png)"
   ]
  },
  {
   "cell_type": "code",
   "execution_count": 54,
   "metadata": {},
   "outputs": [
    {
     "output_type": "stream",
     "name": "stdout",
     "text": [
      "42\n25\n"
     ]
    },
    {
     "output_type": "error",
     "ename": "NameError",
     "evalue": "name 'b' is not defined",
     "traceback": [
      "\u001b[1;31m---------------------------------------------------------------------------\u001b[0m",
      "\u001b[1;31mNameError\u001b[0m                                 Traceback (most recent call last)",
      "\u001b[1;32m<ipython-input-54-689073079af2>\u001b[0m in \u001b[0;36m<module>\u001b[1;34m\u001b[0m\n\u001b[0;32m      5\u001b[0m \u001b[0mfonction_x\u001b[0m\u001b[1;33m(\u001b[0m\u001b[1;36m42\u001b[0m\u001b[1;33m)\u001b[0m\u001b[1;33m\u001b[0m\u001b[1;33m\u001b[0m\u001b[0m\n\u001b[0;32m      6\u001b[0m \u001b[0mprint\u001b[0m\u001b[1;33m(\u001b[0m\u001b[0ma\u001b[0m\u001b[1;33m)\u001b[0m\u001b[1;33m\u001b[0m\u001b[1;33m\u001b[0m\u001b[0m\n\u001b[1;32m----> 7\u001b[1;33m \u001b[0mprint\u001b[0m\u001b[1;33m(\u001b[0m\u001b[0mb\u001b[0m\u001b[1;33m)\u001b[0m\u001b[1;33m\u001b[0m\u001b[1;33m\u001b[0m\u001b[0m\n\u001b[0m",
      "\u001b[1;31mNameError\u001b[0m: name 'b' is not defined"
     ]
    }
   ],
   "source": [
    "a = 25\n",
    "def fonction_x(a):\n",
    "    print(a)\n",
    "    b = 77\n",
    "fonction_x(42)\n",
    "print(a)\n",
    "print(b)"
   ]
  },
  {
   "cell_type": "markdown",
   "metadata": {},
   "source": [
    "Assez logiquement, les scopes peuvent s'imbriquer et les mêmes règles s'appliquent alors.\n",
    "\n",
    "![Scope nested](../assets/scope_nested.png)"
   ]
  },
  {
   "cell_type": "code",
   "execution_count": 68,
   "metadata": {},
   "outputs": [
    {
     "name": "stdout",
     "output_type": "stream",
     "text": [
      "25\n",
      "77\n"
     ]
    }
   ],
   "source": [
    "a = 25\n",
    "\n",
    "if a > 20:\n",
    "    b = 77\n",
    "    print(a)\n",
    "\n",
    "    if b > 50:\n",
    "        c = 42\n",
    "        print(b)"
   ]
  },
  {
   "cell_type": "markdown",
   "metadata": {},
   "source": [
    "---\n",
    "## 🔨 Fonctions built-in - len()\n",
    "\n",
    "La fonction `len()`, raccourci de \"length\", accepte de nombreuses choses comme argument pour en renvoyer la longueur. Cela marche aussi bien pour une chaîne de caractère (nombre de caractères), une liste, un tuple, un dictionnaire... et également pour les _itérateurs_ que l'on a aperçu dans le cours précédent."
   ]
  },
  {
   "cell_type": "code",
   "execution_count": 69,
   "metadata": {},
   "outputs": [
    {
     "name": "stdout",
     "output_type": "stream",
     "text": [
      "11\n",
      "4\n"
     ]
    }
   ],
   "source": [
    "print(len(\"Hello world\"))\n",
    "print(len([1996, 2001, 2007, 2012]))"
   ]
  },
  {
   "cell_type": "markdown",
   "metadata": {},
   "source": [
    "---\n",
    "## 🔨 Fonctions built-in - dir()\n",
    "\n",
    "Petite fonction utilitaire dont on se sert surtout dans le Python REPL, ou lorsque l'on débug un script, `dir()` est une fonction qui va nous renvoyer une liste de toute les méthodes attachées à une valeur, une variable, etc.\n",
    "\n",
    "Souvent, cela renverra aussi toutes les \"méthodes magiques\" (que l'on verra plus tard) ayant des `__` dans leur nom. C'est surtout une fonction utile lorsque l'on travaille avec des bibliothèques, des framework qui ont des objects de type très précis, dont on ne connaît parfois pas par coeur toutes les méthodes que l'on peut appeler dessus."
   ]
  },
  {
   "cell_type": "code",
   "execution_count": 70,
   "metadata": {},
   "outputs": [
    {
     "name": "stdout",
     "output_type": "stream",
     "text": [
      "['__add__', '__class__', '__contains__', '__delattr__', '__dir__', '__doc__', '__eq__', '__format__', '__ge__', '__getattribute__', '__getitem__', '__getnewargs__', '__gt__', '__hash__', '__init__', '__init_subclass__', '__iter__', '__le__', '__len__', '__lt__', '__mod__', '__mul__', '__ne__', '__new__', '__reduce__', '__reduce_ex__', '__repr__', '__rmod__', '__rmul__', '__setattr__', '__sizeof__', '__str__', '__subclasshook__', 'capitalize', 'casefold', 'center', 'count', 'encode', 'endswith', 'expandtabs', 'find', 'format', 'format_map', 'index', 'isalnum', 'isalpha', 'isascii', 'isdecimal', 'isdigit', 'isidentifier', 'islower', 'isnumeric', 'isprintable', 'isspace', 'istitle', 'isupper', 'join', 'ljust', 'lower', 'lstrip', 'maketrans', 'partition', 'removeprefix', 'removesuffix', 'replace', 'rfind', 'rindex', 'rjust', 'rpartition', 'rsplit', 'rstrip', 'split', 'splitlines', 'startswith', 'strip', 'swapcase', 'title', 'translate', 'upper', 'zfill']\n"
     ]
    }
   ],
   "source": [
    "print(dir(\"World hello\"))"
   ]
  },
  {
   "cell_type": "markdown",
   "metadata": {},
   "source": [
    "---\n",
    "## 🖊️ L'opérateur ternaire conditionnel\n",
    "\n",
    "Il existe un moyen très simplifié d'écrire une condition `if/else` lorsqu'elle reste simple, par exemple si l'on veut attribuer à une variable telle ou telle valeur selon si la condition est vraie ou fausse.\n",
    "\n",
    "On appelle ça un opérateur ternaire conditionnel, ou \"ternary conditional expression\", et cela prends la forme suivante :\n",
    "\n",
    "`[valeur si vrai] if [condition] else [valeur si faux]`\n",
    "\n",
    "Cela peut paraître un peu étrange au début, mais on s'y fait vite, et ça peut devenir très utile pour garder un code concis."
   ]
  },
  {
   "cell_type": "code",
   "execution_count": 1,
   "metadata": {},
   "outputs": [
    {
     "name": "stdout",
     "output_type": "stream",
     "text": [
      "Ça chauffe...\n"
     ]
    }
   ],
   "source": [
    "temperature_eau = 89\n",
    "message = \"Ça bouille !\" if temperature_eau >= 100 else \"Ça chauffe...\"\n",
    "\n",
    "# Au lieu de :\n",
    "#message = None\n",
    "#if temperature_eau >= 100:\n",
    "#    message = \"Ça bouille !\"\n",
    "#else:\n",
    "#    message = \"Ça chauffe\"\n",
    "\n",
    "print(message)"
   ]
  },
  {
   "cell_type": "markdown",
   "metadata": {},
   "source": [
    "---\n",
    "## 🖊️ Le point-virgule\n",
    "\n",
    "Il arrive que l'on veuille enchaîner plusieurs expressions sur la même ligne, on peut alors les séparer en utilisant un point-virgule.\n",
    "\n",
    "Cela dit, c'est assez rare d'avoir à s'en servir."
   ]
  },
  {
   "cell_type": "code",
   "execution_count": 72,
   "metadata": {},
   "outputs": [],
   "source": [
    "a = 5; b = 10"
   ]
  },
  {
   "cell_type": "markdown",
   "metadata": {},
   "source": [
    "---\n",
    "## ⚙️ Débugger avec PDB\n",
    "\n",
    "Un outil extrêmement utile à tout moment est le PDB, aussi appelé \"Python DeBugger\". En l'insérant en plein milieu de notre code, à l'endroit où ça nous arrange le plus, il va tout mettre en pause au moment même où il est appelé, et nous offre un REPL Python.\n",
    "\n",
    "Pour l'insérer dans notre code, on doit écrire ceci : `import pdb; pdb.set_trace()`\n",
    "\n",
    "Python 3.7 simplifie la chose et permet désormais juste d'écrire `breakpoint()`\n",
    "\n",
    "La particularité de ce REPL est qu'il se trouve réellement à l'endroit même de notre code où nous avons appelé PDB : toutes les variables, les fonctions, les choses importées, sont disponibles. On peut donc observer la valeur de certaines variables, en modifier à la volée, etc.\n",
    "\n",
    "Il existe certainnes commandes disponibles uniquement dans ce REPL.\n",
    "\n",
    "* `q` (quit) pour faire s'arrêter l'exécution du code qui a appelé PDB\n",
    "* `c` (continue) pour reprendre l'exécution normale du code\n",
    "* `n` (next) pour n'exécuter que la ligne suivante dans le code et pauser à nouveau\n",
    "* `pp` (prettyprint) pour afficher \"joliement\" dans le terminal la valeur d'une variable\n",
    "\n",
    "Il suffit juste d'écrire ces courtes commandes et d'appuyer sur Entrée, comme si c'était des fonctions."
   ]
  },
  {
   "cell_type": "markdown",
   "metadata": {},
   "source": [
    "---\n",
    "## ⚙️ Présence dans un script\n",
    "\n",
    "Pour les fichiers Pyhton qui sont explicitement destinés à être des scripts que l'on appelle à l'aide de l'interpréteur Python, il existe quelque chose nous permettant d'être certain que notre fichier est bien appelé en tant que script, et non importé par un autre fichier (notion que l'on verra plus tard).\n",
    "\n",
    "Python met à disposition la variable magique `__name__` qui permet de connaître le nom du script dans lequel on se trouve. Sa valeur est par défaut à `__main__`, à moins que notre script ne soit importé par un autre script, dans quel cas sa valeur serait alors égale au nom du fichier dans leque lse trouve le code.\n",
    "\n",
    "Voilà pourquoi il suffit donc de vérifier que la variable `__name__` soit égale à `__main__` pour être certain que notre script est exécuté de façon indépendante.\n",
    "\n",
    "```\n",
    "if __name__ == \"__main__\":\n",
    "    (code à exécuter ici)\n",
    "```"
   ]
  },
  {
   "source": [
    "---\n",
    "\n",
    "# Exercice\n",
    "\n",
    "Après ce cours, l'exercice à réaliser est celui du dossier `textadventure`. Nous avons désormais assez de connaissance du langage pour réaliser un petit [jeu vidéo textuel](https://fr.wikipedia.org/wiki/Jeu_vid%C3%A9o_textuel) comme à l'époque ! "
   ],
   "cell_type": "markdown",
   "metadata": {}
  }
 ],
 "metadata": {
  "kernelspec": {
   "name": "python392jvsc74a57bd0d94eb1066f04d8685077601812ddd3c592b7f56086c802177159e4b57cd392de",
   "display_name": "Python 3.9.2 64-bit"
  },
  "language_info": {
   "codemirror_mode": {
    "name": "ipython",
    "version": 3
   },
   "file_extension": ".py",
   "mimetype": "text/x-python",
   "name": "python",
   "nbconvert_exporter": "python",
   "pygments_lexer": "ipython3",
   "version": "3.9.2"
  },
  "metadata": {
   "interpreter": {
    "hash": "d94eb1066f04d8685077601812ddd3c592b7f56086c802177159e4b57cd392de"
   }
  }
 },
 "nbformat": 4,
 "nbformat_minor": 4
}