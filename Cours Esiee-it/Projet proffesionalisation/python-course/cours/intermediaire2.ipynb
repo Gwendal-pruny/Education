{
 "cells": [
  {
   "cell_type": "markdown",
   "metadata": {},
   "source": [
    "![Logo](../logo.png)\n",
    "\n",
    "# Intermédiaire ②\n",
    "\n",
    "Il nous reste plus que quelques choses à voir pour être opérationnel dans l'usage du langage et de tout ce qui l'entoure. Après l'étude de quelques bibliothèques standard majeures et l'installation d'une première bibliothèque tierce, vous devriez être capable de créer des projets Python de plus grande ampleur.\n",
    "\n",
    "# Notions de ce cours\n",
    "\n",
    "* 🖊️ Les décorateurs\n",
    "* 🖊️ La levée d'exceptions\n",
    "* 🧰 Bibliothèque standard - os.path\n",
    "* 🧰 Bibliothèque standard - datetime\n",
    "* 🧰 Bibliothèque standard - json\n",
    "* ⚙️ Les environnements virtuels\n",
    "* ⚙️ Installer un paquet avec PIP\n",
    "* 📚 Bibliothèque tierce - Pillow"
   ]
  },
  {
   "cell_type": "markdown",
   "metadata": {},
   "source": [
    "---\n",
    "\n",
    "## 🖊️ Les décorateurs\n",
    "\n",
    "Il existe en Python un moyen de créer et utiliser des \"fonctions d'ordre supérieur\" (high-order functions). Derrière ce nom étrange se cache le fait de créer une fonction qui accepte une fonction existante pour permettre plus tard de l'appeler comme d'habitude, mais en réalisant au passage certaines opérations supplémentaires. L'intérêt est donc de pouvoir rajouter à la volée un comportement sur des fonctions existantes sans avoir à modifier ces dernières.\n",
    "\n",
    "En Python, ces fonctions d'ordre supérieur sont appelées des \"décorateurs\". Lorsque l'on écrit une fonction \"décoratrice\", elle va accepter en argument la fonction que l'on souhaite \"décrorer\", puis renvoie une nouvelle fonction créée à la volée qui elle appellera la fonction d'origine (celle qu'on décore), tout en exécutant un nouveau comportement juste avant ou juste après.\n",
    "\n",
    "Ensuite, c'est lorsque l'on écrit la défintion d'une fonction que l'on peut demander à Python de la décorer, à l'aide d'un décorateur donc.\n",
    "\n",
    "![Explication des décorateurs](../assets/decorator.png)\n",
    "\n",
    "Étant une notion un peu complexe à concevoir, explorons-la petit à petit. Tout d'abord, écrivons une fonction décoratrice qui s'occupera juste d'afficher un message avant d'appeler la fonction que l'on souhaite décorer."
   ]
  },
  {
   "cell_type": "code",
   "execution_count": 14,
   "metadata": {},
   "outputs": [],
   "source": [
    "# On crée notre fonction décoratrice acceptant en argument la fonction à décorer\n",
    "def mon_decorateur(fonction_a_decorer):\n",
    "    # Au sein de la fonction, on va créer une nouvelle fonction...\n",
    "    def wrapper():\n",
    "        # Ici, le comportement que l'on veut ajouter\n",
    "        print(\"Une fonction va être appeleée et ce message s'affiche avant.\")\n",
    "        # Puis l'on finit par exécuter la fonction décorée, tout en renvoyant son résultat\n",
    "        return fonction_a_decorer()\n",
    "    # Au lieu de renvoyer la fonction décorée, on renvoie justement notre nouvelle fonction\n",
    "    return wrapper"
   ]
  },
  {
   "cell_type": "markdown",
   "metadata": {},
   "source": [
    "Comme dans d'autres langages, on peut définir une fonction au sein d'une fonction, qui n'existera donc que dans un scope local. C'est pour cela qu'on va retourner cette fonction tout juste créée, afin qu'elle soit récupérée et appelée plus tard."
   ]
  },
  {
   "cell_type": "code",
   "execution_count": 15,
   "metadata": {},
   "outputs": [
    {
     "name": "stdout",
     "output_type": "stream",
     "text": [
      "Aloha !\n"
     ]
    }
   ],
   "source": [
    "# La fonction que l'on voudra décorer\n",
    "def bonjour():\n",
    "    print(\"Aloha !\")\n",
    "\n",
    "bonjour()"
   ]
  },
  {
   "cell_type": "markdown",
   "metadata": {},
   "source": [
    "Pour l'instant, on définit simplement une fonction et l'on teste son comportement en l'appelant."
   ]
  },
  {
   "cell_type": "code",
   "execution_count": 16,
   "metadata": {},
   "outputs": [
    {
     "name": "stdout",
     "output_type": "stream",
     "text": [
      "Une fonction va être appeleée et ce message s'affiche avant.\n",
      "Aloha !\n"
     ]
    }
   ],
   "source": [
    "# La déclaration originale de notre fonction\n",
    "def bonjour():\n",
    "    print(\"Aloha !\")\n",
    "\n",
    "# On écrase ici la déclaration originale de la fonction par sa version décorée\n",
    "# Notez d'ailleurs que, ici, on passe la fonction en tant que variable, on ne l'appelle pas (car pas de parenthèses après son nom) \n",
    "#                         ↓\n",
    "bonjour = mon_decorateur(bonjour)\n",
    "\n",
    "# On appelle notre fonction comme si de rien n'était !\n",
    "bonjour()"
   ]
  },
  {
   "cell_type": "markdown",
   "metadata": {},
   "source": [
    "Pour décorer notre fonction, on va donc écraser sa définition originale, en la réattribuant avec ce que renvoie notre décorateur.\n",
    "\n",
    "Lorsque l'on appelera notre fonction à l'avenir, on appellera en réalité sa version \"décorée\", avec le comportement supplémentaire désiré !\n",
    "\n",
    "Voyons désormais la façon la plus pratique de décorer une fonction."
   ]
  },
  {
   "cell_type": "code",
   "execution_count": 17,
   "metadata": {},
   "outputs": [
    {
     "name": "stdout",
     "output_type": "stream",
     "text": [
      "Une fonction va être appeleée et ce message s'affiche avant.\n",
      "Aloha !\n"
     ]
    }
   ],
   "source": [
    "# On demande à Python d'utiliser le décorateur \"mon_decorateur\" pour la déclaration\n",
    "# de fonction qui se trouvera à la ligne suivante\n",
    "@mon_decorateur\n",
    "def bonjour():\n",
    "    print(\"Aloha !\")\n",
    "\n",
    "bonjour()"
   ]
  },
  {
   "cell_type": "markdown",
   "metadata": {},
   "source": [
    "Comme vous avez pu le constater, on écrit directement le nom de notre décorateur précédé d'un arobase `@` juste au-dessus de la déclaration de notre fonction.\n",
    "\n",
    "C'est la syntaxe propre à Python qui permet de décorer immédiatement une fonction que l'on va déclarer, c'est donc en général la façon la plus simple d'utiliser un décorateur lorsqu'il s'agit du code que l'on écrit nous-même."
   ]
  },
  {
   "cell_type": "markdown",
   "metadata": {},
   "source": [
    "---\n",
    "\n",
    "## 🖊️ La levée d'exceptions\n",
    "\n",
    "Après avoir vu comment attraper les exceptions qui peuvent se produire lors de l'exécution de notre code, il est temps d'apprendre à créer nos propres exceptions. Lorsqu'il arrive une erreur suffisemment importante pour vouloir la \"remonter\", la \"propager\" à travers notre code, on dit que l'on va \"lever\" (raise) une exception.\n",
    "\n",
    "La façon la plus simple de lever une exception, dans le cas où quelque chose ne se passe vraiment pas comme prévu, est d'utiliser le mot-clé `assert` : on donne une expression booléenne censée être vraie lorsque tout va bien, et lorsqu'elle est fausse, Python lèvera une exception crée à la volée, de type `AssertionError` (classe hériant de `Exception`).\n",
    "\n",
    "Son usage se fait sous la forme `assert [expression booléenne], [message de l'exception]`"
   ]
  },
  {
   "cell_type": "code",
   "execution_count": 20,
   "metadata": {},
   "outputs": [
    {
     "ename": "AssertionError",
     "evalue": "On n'accepte que les paiements en euro !",
     "output_type": "error",
     "traceback": [
      "\u001b[1;31m---------------------------------------------------------------------------\u001b[0m",
      "\u001b[1;31mAssertionError\u001b[0m                            Traceback (most recent call last)",
      "\u001b[1;32m<ipython-input-20-c9493b0b49b4>\u001b[0m in \u001b[0;36m<module>\u001b[1;34m\u001b[0m\n\u001b[0;32m      1\u001b[0m \u001b[0morder_card_currency\u001b[0m \u001b[1;33m=\u001b[0m \u001b[1;34m\"yen\"\u001b[0m\u001b[1;33m\u001b[0m\u001b[1;33m\u001b[0m\u001b[0m\n\u001b[0;32m      2\u001b[0m \u001b[1;33m\u001b[0m\u001b[0m\n\u001b[1;32m----> 3\u001b[1;33m \u001b[1;32massert\u001b[0m \u001b[0morder_card_currency\u001b[0m \u001b[1;33m==\u001b[0m \u001b[1;34m\"euro\"\u001b[0m\u001b[1;33m,\u001b[0m \u001b[1;34m\"On n'accepte que les paiements en euro !\"\u001b[0m\u001b[1;33m\u001b[0m\u001b[1;33m\u001b[0m\u001b[0m\n\u001b[0m",
      "\u001b[1;31mAssertionError\u001b[0m: On n'accepte que les paiements en euro !"
     ]
    }
   ],
   "source": [
    "order_card_currency = \"yen\"\n",
    "\n",
    "assert order_card_currency == \"euro\", \"On n'accepte que les paiements en euro !\"\n",
    "\n",
    "print(\"\")"
   ]
  },
  {
   "cell_type": "markdown",
   "metadata": {},
   "source": [
    "L'erreur affichée par Python vous montre clairement où s'est déroulée l'exception, son type `AssertionError`, puis le message que l'on voulait afficher.\n",
    "\n",
    "C'est une manière rapide de générer des exceptions, mais souvenez-vous que l'on capture des exceptions selon leur type pour pouvoir correctement réagir selon. `assert` génère toujours le même type d'exception `AssertionError`, donc ce n'est pas très pratique pour ça.\n",
    "\n",
    "Une solution est tout simplement de créer un type d'exception correspondant à un cas d'erreur précis, ce qui se traduit concrètment par :\n",
    "\n",
    "* La création d'une classe vide, héritant de `Exception` et au nom explicite représentant notre cas d'erreur\n",
    "* La levée d'une instance de cette exception au moment où le cas d'erreur survient "
   ]
  },
  {
   "cell_type": "code",
   "execution_count": 21,
   "metadata": {},
   "outputs": [
    {
     "ename": "PaymentBadCurrency",
     "evalue": "On n'accepte que les paiements en euro !",
     "output_type": "error",
     "traceback": [
      "\u001b[1;31m---------------------------------------------------------------------------\u001b[0m",
      "\u001b[1;31mPaymentBadCurrency\u001b[0m                        Traceback (most recent call last)",
      "\u001b[1;32m<ipython-input-21-f4cc3d8a6e68>\u001b[0m in \u001b[0;36m<module>\u001b[1;34m\u001b[0m\n\u001b[0;32m      6\u001b[0m \u001b[1;32mif\u001b[0m \u001b[0mcard_currency\u001b[0m \u001b[1;33m!=\u001b[0m \u001b[1;34m\"euro\"\u001b[0m\u001b[1;33m:\u001b[0m\u001b[1;33m\u001b[0m\u001b[1;33m\u001b[0m\u001b[0m\n\u001b[0;32m      7\u001b[0m     \u001b[1;31m# Levée d'une nouvelle instance de notre exception\u001b[0m\u001b[1;33m\u001b[0m\u001b[1;33m\u001b[0m\u001b[1;33m\u001b[0m\u001b[0m\n\u001b[1;32m----> 8\u001b[1;33m     \u001b[1;32mraise\u001b[0m \u001b[0mPaymentBadCurrency\u001b[0m\u001b[1;33m(\u001b[0m\u001b[1;34m\"On n'accepte que les paiements en euro !\"\u001b[0m\u001b[1;33m)\u001b[0m\u001b[1;33m\u001b[0m\u001b[1;33m\u001b[0m\u001b[0m\n\u001b[0m",
      "\u001b[1;31mPaymentBadCurrency\u001b[0m: On n'accepte que les paiements en euro !"
     ]
    }
   ],
   "source": [
    "# Déclaration de la classe de notre exception\n",
    "class PaymentBadCurrency(Exception):\n",
    "    pass\n",
    "\n",
    "card_currency = \"yen\"\n",
    "if card_currency != \"euro\":\n",
    "    # Levée d'une nouvelle instance de notre exception\n",
    "    raise PaymentBadCurrency(\"On n'accepte que les paiements en euro !\")"
   ]
  },
  {
   "cell_type": "markdown",
   "metadata": {},
   "source": [
    "L'intérêt des exceptions est que, même levées dans une fonction qui appelle une fonction qui en appelle un autre, on pourra toujours finir par la capturer grâce au `try/except` vu dans le chapitre précédent.\n",
    "\n",
    "Voyons un exemple avec un enchaînement de fonctions imbriquées, et une exception qui est levée au sein de l'une d'entre elles."
   ]
  },
  {
   "cell_type": "code",
   "execution_count": 23,
   "metadata": {},
   "outputs": [
    {
     "name": "stdout",
     "output_type": "stream",
     "text": [
      "1. Lecture du formulaire...\n",
      "2. Gestion de la commande...\n",
      "3. Vérification du paiement...\n",
      "Le paiement a échoué sur la devise : On n'accepte que les paiements en euro !\n"
     ]
    },
    {
     "data": {
      "text/plain": [
       "'Code HTTP 500 (Internal Server Error)'"
      ]
     },
     "execution_count": 23,
     "metadata": {},
     "output_type": "execute_result"
    }
   ],
   "source": [
    "# 3ème fonction appelée\n",
    "def verifier_paiement(devise):\n",
    "    print(\"3. Vérification du paiement...\")\n",
    "    if devise != \"euro\":\n",
    "        # Levée de l'exception\n",
    "        raise PaymentBadCurrency(\"On n'accepte que les paiements en euro !\")\n",
    "\n",
    "# 2ème fonction appelée\n",
    "def gerer_commande(devise):\n",
    "    print(\"2. Gestion de la commande...\")\n",
    "    verifier_paiement(devise)\n",
    "\n",
    "# 1ère fonction appelée\n",
    "def lire_formulaire(devise):\n",
    "    print(\"1. Lecture du formulaire...\")\n",
    "    # Avant d'appeler la 2ème fonction, on se prépare à la capture\n",
    "    # d'une éventuelle exception plus loin dans le code\n",
    "    try:\n",
    "        gerer_commande(devise)\n",
    "    except PaymentBadCurrency as err:\n",
    "        print(f\"Le paiement a échoué sur la devise : {err}\")\n",
    "        return \"Code HTTP 500 (Internal Server Error)\"\n",
    "    print(\"Formulaire géré avec succès.\")\n",
    "    return \"Code HTTP 200 (OK)\"\n",
    "\n",
    "# Remplacez \"yen\" par \"euro\" pour tester le comportement sans erreur\n",
    "lire_formulaire(\"yen\")"
   ]
  },
  {
   "cell_type": "markdown",
   "metadata": {},
   "source": [
    "---\n",
    "## 🧰 Bibliothèque standard - os.path\n",
    "\n",
    "Cette petite bibliothèque sert à réaliser de nombreuses opérations en rapport avec des chemins de fichiers ou de dossiers.\n",
    "\n",
    "Bien que cela peut paraître trivial, souvenez-vous que les systèmes d'exploitation ont des façons différentes de gérer les répertoires, allant même jusqu'à ne pas utiliser le même séparateur des dossiers : `\\` pour Windows, `/` pour Unix (et donc aussi Linux et macOS)...\n",
    "\n",
    "Parmi toutes les fonctions de cette bibliothèque, voici les plus utiles :\n",
    "\n",
    "* `.join()` : construit un chemin en utilisant le bon séparateur du système d'exploitation actuel\n",
    "* `.exists()` : renvoie si le chemin passé est un fichier ou dossier qui existe\n",
    "* `.isfile()` : renvoie si le chemin passé est un fichier\n",
    "* `.isdir()` : renvoie si le chemin passé est un dossier\n",
    "* `.splitext()` : à partir d'un chemin, renvoie séparément le chemin complet du fichier, puis l'extension du fichier"
   ]
  },
  {
   "cell_type": "code",
   "execution_count": 24,
   "metadata": {},
   "outputs": [
    {
     "name": "stdout",
     "output_type": "stream",
     "text": [
      "..\\assets\\testfile.txt\n",
      "Existe ? True\n",
      "Fichier ? True\n",
      "Dossier ? False\n",
      "Le fichier ..\\assets\\testfile a pour extension .txt\n"
     ]
    }
   ],
   "source": [
    "import os\n",
    "\n",
    "testpath = os.path.join(\"..\", \"assets\", \"testfile.txt\")\n",
    "print(testpath)\n",
    "print(f\"Existe ? {os.path.exists(testpath)}\")\n",
    "print(f\"Fichier ? {os.path.isfile(testpath)}\")\n",
    "print(f\"Dossier ? {os.path.isdir(testpath)}\")\n",
    "filename, ext = os.path.splitext(testpath)\n",
    "print(f\"Le fichier {filename} a pour extension {ext}\")"
   ]
  },
  {
   "cell_type": "markdown",
   "metadata": {},
   "source": [
    "---\n",
    "\n",
    "## 🧰 Bibliothèque standard - datetime\n",
    "\n",
    "Depuis très longtemps, l'informatique a choisi de stocker facilement une date et une heure donnée en comptant le nombre de secondes écoulées depuis l'[époque Unix](https://fr.wikipedia.org/wiki/Heure_Unix) située au 1er janvier 1970 à minuit (UTC). Mais en plus de ne pas être une mesure très rigoureuse, le stockage d'un nombre de secondes sous-entends le fuseau horaire UTC sans réellement l'expliciter : ce qui peut porter à confusion lors de son usage dans une base de donnes ou dans une application.\n",
    "\n",
    "Autant pour facilier la gestion des dates que pour assurer une rigueur dans leur usage, Python propose la bibliothèque standard `datetime`, avec laquelle on utilise des objets et des méthodes pour manipuler des dates et des heures.\n",
    "\n",
    "Cette dernière propose notamment des moyens de représenter facilement soit juste une date, soit juste un horodatage, soit une date avec horodatage. Voyons tout d'abord comment avoir la date ou l'horodatage de \"maintenant\" :"
   ]
  },
  {
   "cell_type": "code",
   "execution_count": 26,
   "metadata": {},
   "outputs": [
    {
     "name": "stdout",
     "output_type": "stream",
     "text": [
      "2021-04-19\n",
      "2021-04-19 18:54:59.223200\n"
     ]
    }
   ],
   "source": [
    "from datetime import date, datetime\n",
    "\n",
    "date_instance = date.today()\n",
    "datetime_instance = datetime.now()\n",
    "\n",
    "print(date_instance)\n",
    "print(datetime_instance)"
   ]
  },
  {
   "cell_type": "markdown",
   "metadata": {},
   "source": [
    "Grâce à ces fonctions, vous rencontrez déjà des instances des types `date` et `datetime` sur lesquels on peut réaliser énormément d'opérations.\n",
    "\n",
    "On peut accéder très simplement à une valeur en particulier, par exemple :\n",
    "\n",
    "* Sur les `date` et `datetime` : `.day` pour le jour, `.month` pour le mois, `.year` pour l'année\n",
    "* Sur les `time` et `datetime` : `.hour` pour les heures, `.minute` pour les minutes, `.second` pour les secondes"
   ]
  },
  {
   "cell_type": "code",
   "execution_count": 27,
   "metadata": {},
   "outputs": [
    {
     "name": "stdout",
     "output_type": "stream",
     "text": [
      "Nous sommes en l'année 2021.\n",
      "Il est 19 heures et 3 minutes.\n"
     ]
    }
   ],
   "source": [
    "print(f\"Nous sommes en l'année {date.today().year}.\")\n",
    "print(f\"Il est {datetime.now().hour} heures et {datetime.now().minute} minutes.\")"
   ]
  },
  {
   "cell_type": "markdown",
   "metadata": {},
   "source": [
    "Il est également possible de créer un de ces objets en passant chaque valeur une à une, comme ci-dessous où l'on va créer une instance de chaque type existant."
   ]
  },
  {
   "cell_type": "code",
   "execution_count": 28,
   "metadata": {},
   "outputs": [
    {
     "name": "stdout",
     "output_type": "stream",
     "text": [
      "2022-07-14\n",
      "13:14:31\n",
      "2020-01-31 13:14:31\n"
     ]
    }
   ],
   "source": [
    "from datetime import date, time, datetime\n",
    "\n",
    "date_instance = date(year=2022, month=7, day=14)\n",
    "time_instance = time(hour=13, minute=14, second=31)\n",
    "datetime_instance = datetime(year=2020, month=1, day=31, hour=13, minute=14, second=31)\n",
    "\n",
    "print(date_instance)\n",
    "print(time_instance)\n",
    "print(datetime_instance)"
   ]
  },
  {
   "cell_type": "markdown",
   "metadata": {},
   "source": [
    "Vous avez sûrement constaté que l'affichage de ces types, une fois implicitement convertis en `str` par la fonction `print()`, est assez rudimentaire.\n",
    "\n",
    "Il existe un moyen de choisir comment ces types seront convertis en chaîne de caractères grâce au _formatage_. En utilisant certaines _directives_ dont la liste est sur la [documentation Python](https://docs.python.org/fr/3/library/datetime.html#strftime-and-strptime-format-codes), on peut rapidement indiquer les valeurs que l'on veut afficher, et surtout comment.\n",
    "\n",
    "Par exemple, si l'on veut afficher le nom complet ou abbrégé du jour, ou encore l'année sous le format de 2 ou 4 chiffres, on utilisera des _directives_ différentes.\n",
    "\n",
    "Il suffit donc de passer notre \"gabarit\" à la méthode `.strftime()` sur l'instance d'un type proposé par la bibliothèque `datetime`, et les directives seront remplacées par les valeurs désirées."
   ]
  },
  {
   "cell_type": "code",
   "execution_count": 55,
   "metadata": {},
   "outputs": [
    {
     "name": "stdout",
     "output_type": "stream",
     "text": [
      "Wednesday 14 April, à 21:49:15\n"
     ]
    }
   ],
   "source": [
    "from datetime import datetime\n",
    "\n",
    "datetime_instance = datetime.now()\n",
    "\n",
    "print(datetime_instance.strftime(\"%A %d %B, à %H:%M:%S\"))"
   ]
  },
  {
   "cell_type": "markdown",
   "metadata": {},
   "source": [
    "Ce _formatage_ peut également s'utiliser dans le cas où l'on veuille utiliser les types proposés par la bibliothèque `datetime` en partant de quelque chose écrit dans une simple chaîne de caractère. On utilisera alors aussi des _directives_ pour indiquer quelle valeur est écrite à quel endroit, et la fonction `datetime.strptime()` s'occupera de réaliser la conversion."
   ]
  },
  {
   "cell_type": "code",
   "execution_count": 59,
   "metadata": {},
   "outputs": [
    {
     "name": "stdout",
     "output_type": "stream",
     "text": [
      "2021-04-13 13:37:10\n"
     ]
    }
   ],
   "source": [
    "from datetime import datetime\n",
    "\n",
    "created_at = \"13/04/2021 13:37:10\"\n",
    "\n",
    "converted_created_at = datetime.strptime(created_at, \"%d/%m/%Y %H:%M:%S\")\n",
    "print(converted_created_at)"
   ]
  },
  {
   "cell_type": "markdown",
   "metadata": {},
   "source": [
    "Il existe également un moyen d'additionner ou soustraire des valeurs à l'aide du type [timedelta](https://docs.python.org/fr/3/library/datetime.html#timedelta-objects), qui représente uniquement une durée. Par exemple, si l'on veut savoir quel jour il sera dans 2 semaines, ou dans 48 heures, etc. Il suffit d'instancier le type `timedelta` à l'image des autres types, puis de le soustraire ou de l'additionner à autre chose."
   ]
  },
  {
   "cell_type": "code",
   "execution_count": 29,
   "metadata": {},
   "outputs": [
    {
     "name": "stdout",
     "output_type": "stream",
     "text": [
      "La migration de votre serveur sera terminée d'ici le 03/05/2021.\n"
     ]
    }
   ],
   "source": [
    "from datetime import timedelta\n",
    "\n",
    "migration_duration = timedelta(weeks=2)\n",
    "# Addition d'un datetime ave un timedelta\n",
    "migration_end = date.today() + migration_duration\n",
    "\n",
    "print(f\"La migration de votre serveur sera terminée d'ici le {migration_end.strftime('%d/%m/%Y')}.\")"
   ]
  },
  {
   "cell_type": "markdown",
   "metadata": {},
   "source": [
    "Mais il est également possible de calculer une durée en réalisant des opérations entre dates, par exemple entre aujourd'hui et une date future : on obtient alors le nombre de jours restant avant d'y arriver."
   ]
  },
  {
   "cell_type": "code",
   "execution_count": 30,
   "metadata": {},
   "outputs": [
    {
     "name": "stdout",
     "output_type": "stream",
     "text": [
      "Il reste 95 jours avant les jeux de Tokyo.\n"
     ]
    }
   ],
   "source": [
    "from datetime import date\n",
    "\n",
    "countdown = date(day=23, month=7, year=2021) - date.today()\n",
    "\n",
    "print(f\"Il reste {countdown.days} jours avant les jeux de Tokyo.\")"
   ]
  },
  {
   "cell_type": "markdown",
   "metadata": {},
   "source": [
    "---\n",
    "\n",
    "## 🧰 Bibliothèque standard - json\n",
    "\n",
    "Né du monde JavaScript, JSON s'est plus ou moins imposé face au XML comme étant un format d'échange de données plus léger que ce dernier et surtout plus pratique à implémenter dans les langages qui souhaitent l'utiliser. Techniquement, JSON est un \"sous-ensemble limité\" du langage JavaScript, d'où le fait que son écriture ressemble à ce dernier, tout en ayant des restrictions (inexistence des commentaires...). De ce fait, vous pouvez écrire un objet JSON au milieu d'un code JavaScript et le manipuler directement.\n",
    "\n",
    "Ce format est donc fréquemment utilisé pour échanger des informations de manière structurée avec des API, mais on peut également s'en servir pour stocker des données dans des fichiers sous un format lisible autant par les humains que par des applications. On parle alors de \"document JSON\", sans que l'extension de fichier `.json` ne soit imposée. La preuve, le notebook Jyputer que vous êtes en train de regarder est en réalité un document JSON !\n",
    "\n",
    "Lorsque l'on travaille avec ce format dans un autre langage que JavaScript, on doit forcément convertir les données au format JSON en données lisibles par le langage que nous utilisons. L'action de conversion depuis le format JSON se dit _désérialiser_, et la conversion vers le format JSON se dit _sérialiser_.\n",
    "\n",
    "Il y a peu de méthodes sur cette bibliothèque, mais leur orthographe peut semer la confusion :\n",
    "\n",
    "* `.load()` déserialise du JSON en Python, à partir d'un fichier ouvert (avec `open()` par exemple)\n",
    "* `.dump()` sérialise du Python en JSON, dans un fichier ouvert (avec `open()` par exemple)\n",
    "* `.loads()` déserialise du JSON en Python, à partir d'une chaîne de caractères\n",
    "* `.dumps()` sérialise du Python en JSON, dans une chaîne de caractères\n",
    "\n",
    "Les méthodes au singulier s'utilisent donc avec des fichiers, quand celles au pluriel s'utilisent avec des chaînes de caractères.\n",
    "\n",
    "Importons la bibliothèque puis effectuons une sérialisation toute simple d'une valeur Python :"
   ]
  },
  {
   "cell_type": "code",
   "execution_count": 14,
   "metadata": {},
   "outputs": [
    {
     "name": "stdout",
     "output_type": "stream",
     "text": [
      "null\n",
      "<class 'str'>\n"
     ]
    }
   ],
   "source": [
    "import json\n",
    "\n",
    "serialized = json.dumps(None)\n",
    "\n",
    "print(serialized)\n",
    "print(type(serialized))"
   ]
  },
  {
   "cell_type": "markdown",
   "metadata": {},
   "source": [
    "On obtiens donc \"null\", stockée dans une chaîne de caractères, et l'on voit bien que le type de valeur en Python a été correctement \"traduite\" vers le type correspondant en JavaScript. `True` deviendra par exemple `true`, tout en minuscules. Pour le reste des valeurs, comme les nombres, les listes ou dictionnaires, leur écriture en JSON est assez similaire au Python.\n",
    "\n",
    "Faisons désormais la sérialisation d'une valeur Python un peu plus complexe :"
   ]
  },
  {
   "cell_type": "code",
   "execution_count": 31,
   "metadata": {},
   "outputs": [
    {
     "name": "stdout",
     "output_type": "stream",
     "text": [
      "[{\"name\": \"john\", \"year\": 2013, \"is_debug\": true}]\n"
     ]
    }
   ],
   "source": [
    "import json\n",
    "\n",
    "py_list = [\n",
    "    {\n",
    "        \"name\": \"john\",\n",
    "        \"year\": 2013,\n",
    "        \"is_debug\": True\n",
    "    }\n",
    "]\n",
    "\n",
    "json_serialized = json.dumps(py_list)\n",
    "\n",
    "print(json_serialized)"
   ]
  },
  {
   "cell_type": "markdown",
   "metadata": {},
   "source": [
    "Ici, toute la liste et son contenu ont été converties en valeurs JSON, et réduites en une simple ligne (une chaîne de caractères). On peut donc ensuite très facilement la transmettre ou encore la sauvegarder.\n",
    "\n",
    "Procédons maintenant à l'opération inverse, c'est à dire la désérialisation d'un objet JSON vers du Python."
   ]
  },
  {
   "cell_type": "code",
   "execution_count": 37,
   "metadata": {},
   "outputs": [
    {
     "name": "stdout",
     "output_type": "stream",
     "text": [
      "{'site_url': 'www.superwebsite.dev', 'site_port': 8080, 'debug_mode': False}\n",
      "www.superwebsite.dev\n"
     ]
    }
   ],
   "source": [
    "import json\n",
    "\n",
    "# Pour rappel, les trois guillemets permettent des chaînes multi-lignes\n",
    "json_data = \"\"\"\n",
    "{\n",
    "    \"site_url\": \"www.superwebsite.dev\",\n",
    "    \"site_port\": 8080,\n",
    "    \"debug_mode\": false\n",
    "}\n",
    "\"\"\"\n",
    "\n",
    "python_data = json.loads(json_data)\n",
    "\n",
    "print(python_data)\n",
    "print(python_data[\"site_url\"])"
   ]
  },
  {
   "cell_type": "markdown",
   "metadata": {},
   "source": [
    "Après la déserialisation de cet objet JSON, qui était un dictionnaire, on obtient également un dicitonnaire Python et l'on peut s'en servir directement en tant que tel. Bien sûr, toute modification réalisée en Python ne sera pas répliquée sur l'objet JSON original et vice-versa : il faudra à nouveau sérialiser ou désérialiser au moment voulu.\n",
    "\n",
    "Pour ce qui est des méthodes au singulier `json.load()` et `json.dump()`, elles nécessitent donc d'être utilisées avec un fichier qui est ouvert. C'est ce que nous permet la fonction built-in `open()` vue au dernier chapitre !\n",
    "\n",
    "Étant donné que l'on souhaite généralement stocker plusieurs valeurs dans un fichier, on utilisera alors un dictionnaire dans lequel on rangera toutes les valeurs souhaitées."
   ]
  },
  {
   "cell_type": "code",
   "execution_count": 33,
   "metadata": {},
   "outputs": [
    {
     "name": "stdout",
     "output_type": "stream",
     "text": [
      "{'cities': [{'name_ja': '東京都', 'name_latin': 'Tōkyō', 'population': 13960236}, {'name_ja': '大阪市', 'name_latin': 'Osaka', 'population': 2751862}, {'name_ja': '福岡市', 'name_latin': 'Fukuoka', 'population': 1603043}]}\n",
      "\n",
      "Tōkyō a une population de 13960236 habitants.\n",
      "\n",
      "Osaka a une population de 2751862 habitants.\n",
      "\n",
      "Fukuoka a une population de 1603043 habitants.\n"
     ]
    }
   ],
   "source": [
    "import json\n",
    "\n",
    "path = os.path.join(\"..\", \"assets\", \"testdata.json\")\n",
    "# On déclare la variable en dehors du scope du \"with\" pour pouvoir y accéder\n",
    "python_data = None\n",
    "\n",
    "# Ouverture d'un fichier...\n",
    "with open(path, \"r\", encoding=\"utf-8\") as f:\n",
    "    # Lecture et conversion du JSON en même temps\n",
    "    python_data = json.load(f)\n",
    "\n",
    "print(python_data)\n",
    "\n",
    "for city in python_data['cities']:\n",
    "    print(f\"\\n{city['name_latin']} a une population de {city['population']} habitants.\")"
   ]
  },
  {
   "cell_type": "markdown",
   "metadata": {},
   "source": [
    "Quant à la fonction `json.dump()`, on peut lui passer la valeur Python que l'on souhaite sérialiser ainsi que le fichier de destination que l'on vient d'ouvrir en mode écriture.\n"
   ]
  },
  {
   "cell_type": "code",
   "execution_count": 11,
   "metadata": {},
   "outputs": [],
   "source": [
    "import json\n",
    "\n",
    "path = os.path.join(\"..\", \"assets\", \"serialized.json\")\n",
    "python_data = {\n",
    "    \"languages\": [\"Python\", \"Java\", \"C#\", \"JavaScript\", \"HTML\", \"CSS\"]\n",
    "}\n",
    "\n",
    "# Le mode \"w\" (write) va écrire dans le fichier en remplaçant tout son contenu\n",
    "with open(path, \"w\", encoding=\"utf-8\") as f:\n",
    "    # Conversion et écriture du JSON en même temps\n",
    "    json.dump(python_data, f)"
   ]
  },
  {
   "cell_type": "markdown",
   "metadata": {},
   "source": [
    "Vous pouvez désormais ouvrir le fichier `serialized.json` du dossier `assets` pour y voir nos données converties au format JSON."
   ]
  },
  {
   "cell_type": "markdown",
   "metadata": {},
   "source": [
    "---\n",
    "\n",
    "## ⚙️ Les environnements virtuels\n",
    "\n",
    "Derrière ce nom se cache un moyen d'avoir  facilement une copie de votre installation de Python afin de travailler de façon \"isolée\". Le premier intérêt en utilisant cette installation isolée, cet \"environnement virtuel\" comme on dit, est le fait que les paquets que vous installerez avec PIP seront alors cantonés à cet environnement.\n",
    "\n",
    "Ainsi, on évite toutes les contraintes liées au fait que les paquets soient installés d'habitude au niveau de tout votre système. Si vous avez un projet nécessitant le paquet Django en verison 2.0, puis un autre projet nécessitant sa version 3.0, le fait que chaque projet ait son propre environnement permettra d'y installer juste les paquets nécessaires, et dans les versions demandées pour un bon fonctionnement.\n",
    "\n",
    "Bien que l'on ait l'habitude d'utiliser un projet tiers nommé `virtualenv` pour créer ces environnements, le module `venv` qui est désormais inclus à partir de Python 3.4 : nous utiliserons ce dernier par simplicité.\n"
   ]
  },
  {
   "cell_type": "markdown",
   "metadata": {},
   "source": [
    "\n",
    "### Créer un environnement virtuel\n",
    "\n",
    "La création d'un environnement virtuel se fait avec la commande suivante dans un terminal :\n",
    "\n",
    "`python -m venv [nom]` \n",
    "\n",
    "Une fois situé dans le dossier racine de votre projet, la création d'un envionnement nommé par exemple \"monenv\" se fera alors comme ceci :\n",
    "\n",
    "`python -m venv monenv` \n",
    "\n",
    "![Arborescence d'un projet avec venv](../assets/venv.png)\n",
    "\n",
    "Comme indiqué sur l'image ci-dessus, votre environnement prend simplement la forme d'un dossier. C'est là-dedans que sont stockées les informations relatives à votre envionnement, les paquets qui y seront installés, etc.\n",
    "\n",
    "Pour information, ce dossier n'est pas à inclure dans un dépôt Git : il faut laisser les personnes (ou les scripts automatisés) qui accèdent au projet le soin de créer eux-mêmes un environnement virtuel.\n"
   ]
  },
  {
   "cell_type": "markdown",
   "metadata": {},
   "source": [
    "### Utiliser un environnement virtuel\n",
    "\n",
    "Pour utiliser un environnement virtuel, on dit que l'on va activer ce dernier. Toujours dans un terminal, exécuter un certain fichier fera en sorte que l'on soit désormais \"dans\" l'environnement virtuel lorsque l'on fera appel à `python` ou à `pip`. Le fichier d'activation n'est pas le même selon l'invite de commande que vous utilisez :\n",
    "\n",
    "\n",
    "* Pour l'invite de commande Windows par défaut (cmd)\n",
    "\n",
    "`.\\monenv\\Scripts\\activate.bat`\n",
    "\n",
    "* Pour l'invite de commande Windows PowerShell\n",
    "\n",
    "`.\\monenv\\Scripts\\activate.ps1`\n",
    "\n",
    "* Pour un invite de commande `bash` et dérivés (Linux, macOS, WSL...)\n",
    "\n",
    "`source .\\monenv\\Scripts\\activate`\n",
    "\n",
    "![Activation dans des terminaux](../assets/venv_activate.png)\n",
    "\n",
    "Tel que montré ci-dessus, que notre environnement virtuel soit activé dans PowerShell ou dans cmd, on voit visuellement la différence avec l'ajout du nom de notre environnement au début de chaque ligne. Cela permet de nous souvenir que nous sommes actuellement \"dans\" notre environnement virtuel.\n",
    "\n",
    "<details>\n",
    "  <summary>【💡 Spoiler】</summary>\n",
    "  En réalité, l'activation simplement va faire en sorte que, lorsque vous appelez python ou pip dans votre terminal, ce dernier aille utiliser les éxécutables correspondants dans le dossier de votre environnement, plutôt que d'utiliser les exécutables installés sur votre système d'exploitation.\n",
    "</details>\n",
    "\n",
    "Pour \"sortir\" de votre environnement virtuel, vous pouvez bien sûr soit quitter votre invite de commande, soit taper tout simplement ceci :\n",
    "\n",
    "`deactivate`\n",
    "\n",
    "![Désactivation dans un terminal](../assets/venv_deactivate.png)\n",
    "\n",
    "Pareil, vous pouvez constater visuellement la sortie de l'environnement virtuel."
   ]
  },
  {
   "cell_type": "markdown",
   "metadata": {},
   "source": [
    "---\n",
    "\n",
    "## ⚙️ Installer un paquet avec PIP\n",
    "\n",
    "Lorsque l'on souhaite utiliser des projets tiers qui ne sont pas inclus dans le langage que l'on utilise, il faudra toujours installer ce qu'on appelle des \"paquets\", et ce à l'aide d'un gestionnaire de paquets.\n",
    "\n",
    "Dans le cas de Python, l'intégralité des paquets installables sont recensés sur [PyPI](https://pypi.org/), et le gestionnaire de paquets s'appelle PIP.\n",
    "\n",
    "Contrairement à d'autres langages, un paquet installé en Python sera installé \"globalement\", c'est à dire que le paquet sera lié à votre installation de Python plutôt qu'à votre projet ou répertoire en cours. Nous verrons plus tard une façon de résoudre ce problème. \n",
    "\n",
    "PIP s'appelle dans un terminal comme n'importe quelle autre application, et possède plusieurs commandes pour gérer des paquets tiers. En voici quelques-unes :\n",
    "\n",
    "* `pip list` : liste tous les paquets installés\n",
    "* `pip install [paquet]` : installe un paquet\n",
    "* `pip uninstall [paquet]` : désinstalle un paquet \n",
    "\n",
    "Ainsi, si vous souhaitez installer le paquet `Pillow`, il suffira d'écrire `pip install Pillow`"
   ]
  },
  {
   "cell_type": "markdown",
   "metadata": {},
   "source": [
    "### Le fichier requirements.txt\n",
    "\n",
    "Pour garder une trace des paquets tiers dont on a besoin dans un projet, on utilise un fichier `requirements.txt` qui peut être écrit et lu par PIP. Combiné aux environnements virtuels, c'est donc quelque chose d'extrêmement pratique. \n",
    "\n",
    "Après avoir installé les paquets nécessaires à votre projet au sein d'un environnement virtuel, vous pouvez rapidement exporter la liste de ces paquets puis l'écrire dans le fichier `requirements.txt` en exécutant ceci :\n",
    "\n",
    "`pip freeze > requirements.txt`\n",
    "\n",
    "Techniquement, cela va y inscrire la version exacte des paquets installés, afin d'être certain d'assuré la compatibilité avec votre code.\n",
    "\n",
    "Ensuite, lorsqu'il sera l'occasion de devoir installer tous les paquets nécessaires au projet, la commande `install` pourra lire ce fichier de cette façon :\n",
    "\n",
    "`pip install -r requirements.txt`"
   ]
  },
  {
   "cell_type": "markdown",
   "metadata": {},
   "source": [
    "---\n",
    "\n",
    "## 📚 Bibliothèque tierce - Pillow\n",
    "\n",
    "Maintenant que nous savons installer des paquets pour utiliser des projets tiers, essayons le projet \"Pillow\". C'est un dérivé moderne d'une ancienne bibliothèque nommée \"PIL\" visant à manipuler des images en Python. Aujourd'hui, [Pillow](https://pillow.readthedocs.io/en/stable/index.html) est une bibliothèque de référence lorsqu'il s'agit de lire et manipuler des images.\n",
    "\n",
    "Pour l'installer, ouvrez un invite de commandes sur votre ordinateur et tapez `pip install Pillow` (il faudra peut-être fermer et rouvrir le notebook après installation).\n",
    "\n",
    "Commençons l'usage de la bibliothèque par un premier exemple très simple : ouvrir une image, réduire son nombre de couleurs, puis l'afficher."
   ]
  },
  {
   "cell_type": "code",
   "execution_count": 2,
   "metadata": {},
   "outputs": [],
   "source": [
    "import os\n",
    "from PIL import Image\n",
    "\n",
    "# Construction du chemin vers l'image à l'aide de os.path\n",
    "image_path = os.path.join(\"..\", \"assets\", \"osaka.jpg\")\n",
    "\n",
    "# Ouverture de l'image en tant que variable \"im\"\n",
    "with Image.open(image_path) as im:\n",
    "    # Réduction des couleurs, puis affichage\n",
    "    im.quantize(colors=60).show()"
   ]
  },
  {
   "cell_type": "markdown",
   "metadata": {},
   "source": [
    "Une fois une image ouverte avec Pillow, on a alors une instance de la classe `Image` sur laquelle de nombreuses fonctions sont disponibles. Référez-vous à sa page dans la [documentation](https://pillow.readthedocs.io/en/stable/reference/Image.html) pour une liste exhaustive.\n",
    "\n",
    "Bien sûr, la méthode `.show()` affichant une image n'est à utiliser qu'en conditions de test comme ici. En temps normal, on voudra plutôt sauvegarder notre image après l'avoir modifiée, et idéalement sous un autre nom pour ne pas écraser l'image originale."
   ]
  },
  {
   "cell_type": "code",
   "execution_count": 4,
   "metadata": {},
   "outputs": [],
   "source": [
    "import os\n",
    "from PIL import Image\n",
    "\n",
    "path = os.path.join(\"..\", \"assets\", \"osaka.jpg\")\n",
    "\n",
    "with Image.open(path) as im:\n",
    "    # Réduction de l'image à une taille de 256x256 maximum\n",
    "    im.thumbnail((256, 256))\n",
    "    # Récupération du chemin vers le fichier, et de son extension\n",
    "    filename, ext = os.path.splitext(path)\n",
    "    # Le nom du nouveau fichier utilise le chemin et l'extension du fichier original\n",
    "    destination = f\"{filename}_thumbnail{ext}\"\n",
    "    # Sauvegarde de l'image au format JPEG\n",
    "    im.save(destination, \"JPEG\")"
   ]
  },
  {
   "cell_type": "markdown",
   "metadata": {},
   "source": [
    "Grâce à une méthode `.thumbnail()`, nous avons rapidement créé une version miniature d'une image existante. C'est quelque chose qui pourra être utile si vous êtes amené à gérer un upload d'image, par exemple.\n",
    "\n",
    "Une autre façon de manipuler nos images est de dessiner par-dessus. Pour cela, il faudra importer le module `ImageDraw` pour y passer notre image et utiliser [ses nombreuses méthodes](https://pillow.readthedocs.io/en/stable/reference/ImageDraw.html).\n",
    "\n",
    "Avant de continuer, il faut voir comment fonctionnent le passage de coordonées lorsque l'on appelle des méthodes de ce module. Pour dessiner un rectangle par exemple, au lieu de donner les coordonnées de départ puis une taille en largeur/hauteur, on passe des coordonnées de départ puis des coordonnées d'arrivée, le tout dans un seul tuple.\n",
    "\n",
    "Pour ce qui est de l'origine des coordonnées, elle est toujours en haut à gauche.\n",
    "\n",
    "![Explication des coordonnées](../assets/pillow.png)"
   ]
  },
  {
   "cell_type": "code",
   "execution_count": 5,
   "metadata": {},
   "outputs": [],
   "source": [
    "import os\n",
    "from PIL import Image, ImageDraw\n",
    "\n",
    "path = os.path.join(\"..\", \"assets\", \"osaka.jpg\")\n",
    "\n",
    "with Image.open(path) as im:\n",
    "    # On transmet notre image à une classe permettant d'y dessiner dessus\n",
    "    draw = ImageDraw.Draw(im)\n",
    "    # Le premier argument est un tuple indiquant les positions x et y de départ,\n",
    "    # puis les positions x et y d'arrivée. Pour la couleur de remplissage (fill),\n",
    "    # il faut l'écrire au format RVB.\n",
    "    draw.rectangle((280, 150, 700, 220), fill=(29, 49, 72))\n",
    "    im.show()"
   ]
  },
  {
   "cell_type": "markdown",
   "metadata": {},
   "source": [
    "Dans le dernier exemple, on a donc dessiné un rectangle à un endroit précis et avec une couleur.\n",
    "\n",
    "Une autre méthode très utile de `ImageDraw` nous permet d'écrire le texte de notre choix sur une image, en précisant également sa couleur."
   ]
  },
  {
   "cell_type": "code",
   "execution_count": 6,
   "metadata": {},
   "outputs": [],
   "source": [
    "import os\n",
    "from PIL import Image, ImageDraw\n",
    "\n",
    "path = os.path.join(\"..\", \"assets\", \"osaka.jpg\")\n",
    "\n",
    "color_white = (255, 255, 255)\n",
    "color_black = (0, 0, 0)\n",
    "\n",
    "with Image.open(path) as im:\n",
    "    draw = ImageDraw.Draw(im)\n",
    "    draw.rectangle((280, 150, 700, 220), fill=color_white)\n",
    "    # Une position et un texte suffisent à écrire sur l'image\n",
    "    draw.text((400, 180), \"Fukuoka\", fill=color_black)\n",
    "    im.show()"
   ]
  },
  {
   "cell_type": "markdown",
   "metadata": {},
   "source": [
    "Bien que la fonction d'écriture de texte fonctionne, la police par défaut est assez petite, et sans spécialement être belle non plus.\n",
    "\n",
    "Pour cela, le module `ImageFont` de Pillow permet d'utiliser un fichier de police d'écriture afin d'écrire du texte en l'utilisant. Le seul petit inconvénient est qu'une police est ouverte à une taille définie : si vous voulez donc utiliser la même police à des tailles différentes, il faudra la préparer à l'avance avec ces tailles."
   ]
  },
  {
   "cell_type": "code",
   "execution_count": 7,
   "metadata": {},
   "outputs": [],
   "source": [
    "import os\n",
    "from PIL import Image, ImageDraw, ImageFont\n",
    "\n",
    "path = os.path.join(\"..\", \"assets\", \"osaka.jpg\")\n",
    "path_font = os.path.join(\"..\", \"assets\", \"OpenSans-Bold.ttf\")\n",
    "\n",
    "color_white = (255, 255, 255)\n",
    "color_black = (0, 0, 0)\n",
    "# On prépare l'usage d'une police, en précisant la taille qui est ici à 42\n",
    "font_opensans_42pt = ImageFont.truetype(path_font, 42)\n",
    "\n",
    "with Image.open(path) as im:\n",
    "    draw = ImageDraw.Draw(im)\n",
    "    draw.rectangle((280, 150, 700, 220), fill=color_white)\n",
    "    draw.text((400, 155), \"Fukuoka\", font=font_opensans_42pt, fill=color_black)\n",
    "    im.show()"
   ]
  },
  {
   "cell_type": "markdown",
   "metadata": {},
   "source": [
    "---\n",
    "\n",
    "# Exercice\n",
    "\n",
    "Une fois ce cours terminé, vous pourrez réaliser l'exercice du dossier `rugby`."
   ]
  }
 ],
 "metadata": {
  "kernelspec": {
   "display_name": "Python 3",
   "language": "python",
   "name": "python3"
  },
  "language_info": {
   "codemirror_mode": {
    "name": "ipython",
    "version": 3
   },
   "file_extension": ".py",
   "mimetype": "text/x-python",
   "name": "python",
   "nbconvert_exporter": "python",
   "pygments_lexer": "ipython3",
   "version": "3.9.2"
  },
  "metadata": {
   "interpreter": {
    "hash": "d94eb1066f04d8685077601812ddd3c592b7f56086c802177159e4b57cd392de"
   }
  }
 },
 "nbformat": 4,
 "nbformat_minor": 4
}