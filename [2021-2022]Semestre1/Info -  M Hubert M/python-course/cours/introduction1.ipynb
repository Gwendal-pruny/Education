{
 "cells": [
  {
   "cell_type": "markdown",
   "metadata": {},
   "source": [
    "![Logo](../logo.png)\n",
    "\n",
    "# Introduction ①\n",
    "\n",
    "Bienvenue sur le premier chapitre de ce cours. Pour le début, nous allons voir les grandes bases du langage et quelques fonctions incluses, tout juste de quoi pouvoir réaliser un exercice avec un minimum de logique.\n",
    "\n",
    "# Notions de ce cours\n",
    "\n",
    "* ⚙️ Lexique\n",
    "* 🖊️ L'indentation\n",
    "* 🖊️ Écrire un commentaire\n",
    "* 🖊️ Assigner une variable\n",
    "* 🖊️ Les types de valeurs\n",
    "* 🖊️ Opérateurs arithmétiques\n",
    "* 🔨 Fonctions built-in - print()\n",
    "* 🖊️ ️Lire une liste ou un tuple\n",
    "* 🖊️ ️Lire un dictionnaire\n",
    "* 🖊️ Concaténation\n",
    "* 🔨 Fonctions built-in - Conversions de types\n",
    "* 🔨 Fonctions built-in - input()\n",
    "* 🖊️ Formatage de chaînes de caractères\n",
    "* ️🖊️ Expressions booléennes\n",
    "* 🖊️ ️Les structures conditionnelles - if/elif/else\n",
    "* 🖊️ La boucle for\n",
    "* 🔨 Fonctions built-in - range()\n",
    "* 🔨 Fonctions built-in - enumerate()\n",
    "* ⚙️ Créer et utiliser un script Python"
   ]
  },
  {
   "cell_type": "markdown",
   "metadata": {},
   "source": [
    "---\n",
    "## ⚙️ Lexique\n",
    "\n",
    "* REPL : Read Evaluate Print Loop\n",
    "* Chaîne de caractères : string\n",
    "* Indenter : le fait de rajouter un indentation à une ou plusieurs lignes\n",
    "* Valeur : la donnée en elle-même, qui possède un type\n",
    "* Variable : stockage d'une valeur sous le nom de notre choix\n",
    "* Affecter / Assigner : donner une (nouvelle) valeur à une variable\n",
    "* Méthode : fonction rattachée à un objet et qui agit sur ce dernier\n",
    "\n",
    "---\n",
    "## 🖊️ L'indentation\n",
    "\n",
    "Le fait que Python n'utilise pas de ponctuation implique deux choses : les lignes se terminent par un retour à la ligne, l'indentation sert à délimiter les blocs de code, et de nombreux mots-clés ne sont donc pas utilisables comme nom de variable car ils définissent la logique du code. On y trouve par exemple la valeur `None` équivalente à `null` dans d'autres langages, ou les valeurs `True` et `False` pour définir des booléens. Ces mots sont d'ailleurs à écrire impérativement avec leur majuscule, sinon Python ne les reconnaîtra pas.\n",
    "\n",
    "Pour l'indentation donc, on recommande d'utiliser 4 espaces, ce que les éditeurs de code comprennent bien aujourd'hui. Il y a aussi l'art et la manière d'indenter \"joliment\" des définitions de fonctions ou de variables qu'on préfèrera étaler sur plusieurs lignes, mais l'on verra ça au fur et à mesure.\n",
    "\n",
    "---\n",
    "\n",
    "## 🖊️ Écrire un commentaire\n",
    "\n",
    "On commence par `#` pour écrire un commentaire sur une seule ligne. Il y a un autre moyen d'écrire de longs commentaires mais on verra plus tard comment et pourquoi."
   ]
  },
  {
   "cell_type": "code",
   "execution_count": 3,
   "metadata": {},
   "outputs": [],
   "source": [
    "# Ceci est un commentaire !"
   ]
  },
  {
   "cell_type": "markdown",
   "metadata": {},
   "source": [
    "---\n",
    "## 🖊️ Assigner une variable\n",
    "\n",
    "Pour le nom des variables, on utilise généralement le [snake case](https://en.wikipedia.org/wiki/Snake_case), c'est à dire des mots en minuscules séparés par des underscores `_`. On peut parfois coller certains mots si l'on juge que ça évite d'avoir un nom de variable trop long avec trop de séparateurs, ou quand on veut se servir du `_` pour préfixer/suffixer quelque chose.\n",
    "\n",
    "La liste des [mots-clés réservés](https://docs.python.org/3/reference/lexical_analysis.html#keywords) n'est pas bien longue, donc autant s'en souvenir !\n",
    "\n",
    "On verra le comportement réel plus en détail mais, pour l'instant, dites-vous que toute variable qui est assignée devient disponible à partir des lignes de code qui suivent. On ne peut donc pas utiliser une variable avant qu'elle soit définie."
   ]
  },
  {
   "cell_type": "code",
   "execution_count": 4,
   "metadata": {},
   "outputs": [],
   "source": [
    "league_name = \"J. League\"\n",
    "league_teams = 20"
   ]
  },
  {
   "cell_type": "markdown",
   "metadata": {},
   "source": [
    "---\n",
    "## 🖊️ Les types de valeurs\n",
    "\n",
    "Notez que je parle de \"valeur\" et non de variable : il est important de bien comprendre les deux choses comme séparées. Pourquoi, car il y a de nombreux cas dans le code où l'on peut utiliser une valeur directement l'assigner à une variable au préalable. \n",
    "\n",
    "Voici les principaux types à connaître :\n",
    "\n",
    "* `None` : c'est à la fois un type et une valeur de variable, qui représente \"rien\"\n",
    "* `bool` : un booléen à la valeur `True` ou `False`\n",
    "* `str` : une chaîne de caractères\n",
    "* `int` : un nombre entier\n",
    "* `float` : un nombre flottant\n",
    "* `list` : une liste de valeurs\n",
    "* `tuple` : une liste de valeurs ordonnée qui ne peut pas être modifiée\n",
    "* `dict` : une liste de valeurs liées à des clés (semblable aux \"tableaux associatifs\" de certains langages)\n",
    "\n",
    "Bien sûr, tout ce qui est `list`, `tuple` et `dict` peuvent contenir des valeurs de types différents.\n",
    "\n",
    "On utilise par exemple `None` pour déclarer à l'avance une variable que l'on modifiera par la suite, on verra pourquoi plus tard.\n",
    "\n",
    "<details>\n",
    "  <summary>【💡 Spoiler】</summary>\n",
    "  Pour qu'un variable soit accessible à travers plusieurs scopes, par exemple.\n",
    "</details>"
   ]
  },
  {
   "cell_type": "code",
   "execution_count": 5,
   "metadata": {},
   "outputs": [],
   "source": [
    "season_startdate = None # valeur de type None\n",
    "season_has_started = False # bool\n",
    "lastseason_winner = \"Kawasaki Frontale\" # str\n",
    "league_creation = 1993 # int\n",
    "tomorrow_temperature = 12.5 # float\n",
    "\n",
    "# list\n",
    "# Défini avec des crochets []\n",
    "tokyo_biggest_stations = [\n",
    "    \"Shinjuku\",\n",
    "    \"Shibuya\",\n",
    "    \"Ikebukuro\"\n",
    "]\n",
    "\n",
    "# tuple\n",
    "# Défini avec des parenthèses ()\n",
    "postes_annexes = (\"Arbitre\",) # S'il n'y a qu'un seul élément, il faut toujours laisser une virgule après\n",
    "postes_terrain = (\"Gardien\", \"Défenseur\", \"Milieu de terrain\", \"Attaquant\")\n"
   ]
  },
  {
   "source": [
    "Les dictionnaires sont donc une liste de valeurs définies par des clés, forcément des `str`. Ils ne peuvent pas contenir deux éléments avec la même clé car elles sont uniques, servant justement à identifier chaque élément.\n",
    "\n",
    "Aussi, faites attention car les clés sont sensibles à la casse : les majuscules et minuscules ont toute leur importance lorsque vous irez lire ou manipuler les éléments d'un dictionnaire."
   ],
   "cell_type": "markdown",
   "metadata": {}
  },
  {
   "cell_type": "code",
   "execution_count": 6,
   "metadata": {},
   "outputs": [],
   "source": [
    "\n",
    "# dict\n",
    "# Défini avec des accolades {}\n",
    "teams_points = {\n",
    "    \"Kawasaki Frontale\": 15,\n",
    "    \"Nagoya Grampus\": 12,\n",
    "    \"Sagan Tosu\": 12\n",
    "}"
   ]
  },
  {
   "cell_type": "markdown",
   "metadata": {},
   "source": [
    "Revenons sur l'écriture de chaînes de caractères `str`.\n",
    "\n",
    "En Python, on peut les écrire soit avec des apostrophes `'` soit avec des guillemets `\"`. Bien qu'il n'y ait pas de recommandation, le plus important est de rester cohérant à travers son code sur l'usage de l'un ou de l'autre.\n",
    "\n",
    "Si vous devez absolument écrire un `'` ou `\"` dans une chaîne définie par l'un ou l'autre, vous pouvez \"échapper\" le caractère pour que Python comprenne qu'il fasse partie de la valeur.\n",
    "\n",
    "Une autre solution est d'utiliser les triples guillemets `\"\"\"`, qui élimine ce problème, et permet surtout d'écrire sur plusieurs lignes ! Utilisez-le cependant que lorsque nécessaire, car cela fait beaucoup de caractères pour \"juste\" écrire une chaîne de caractères."
   ]
  },
  {
   "cell_type": "code",
   "execution_count": 7,
   "metadata": {},
   "outputs": [],
   "source": [
    "article_title = 'Découvez le \"musée des ramen\" qui vient de s\\'ouvrir à Yokohama' # Avec apostrophes\n",
    "article_title = \"Découvez le \\\"musée des ramen\\\" qui vient de s'ouvrir à Yokohama\" # Avec guillemets\n",
    "article_title = \"\"\"Découvez le \"musée des ramen\" qui vient de s'ouvrir à Yokohama\"\"\" # Avec triples quillemets"
   ]
  },
  {
   "cell_type": "markdown",
   "metadata": {},
   "source": [
    "---\n",
    "## 🖊️ Opérateurs arithmétiques\n",
    "\n",
    "Rien de bien compliqué pour les opérateurs de base :\n",
    "\n",
    "* `+` : additionne des valeurs ou des variables\n",
    "* `-` : soustrait des valeurs ou des variables\n",
    "* `*` : multiplie des valeurs ou des variables\n",
    "* `/` : divise des valeurs ou des variables\n",
    "* `%` : modulo (reste) d'une division de valeurs ou de variables\n",
    "* `//` : partie entière d'une division de valeurs ou de variables\n",
    "* `**` : exposant pour élever un nombre à une puissance donnée\n",
    "\n",
    "\n"
   ]
  },
  {
   "cell_type": "code",
   "execution_count": 8,
   "metadata": {},
   "outputs": [],
   "source": [
    "addition = 10 + 5\n",
    "soustraction = 52 - 10\n",
    "reste = 11 % 2"
   ]
  },
  {
   "source": [
    "Lorsque l'on veut simplement additionner ou soustraire quelque chose à une variable existante, il existe quelques raccourcis comme `+=` ou `-=`."
   ],
   "cell_type": "markdown",
   "metadata": {}
  },
  {
   "cell_type": "code",
   "execution_count": 9,
   "metadata": {},
   "outputs": [],
   "source": [
    "# addition = addition + 10\n",
    "addition += 10\n",
    "\n",
    "# soustraction = soustraction - 2\n",
    "soustraction -= 2"
   ]
  },
  {
   "cell_type": "markdown",
   "metadata": {},
   "source": [
    "---\n",
    "## 🔨 Fonctions built-in - print()\n",
    "\n",
    "Python inclut de nombreuses fonctions dites [built-in](https://docs.python.org/3/library/functions.html), c'est à dire toujours accessibles dans le code et à tout moment. On trouve des fonctions built-in que l'on peut appeler directement en leur passant en valeur, et des fonctions built-in disponibles sur des valeurs de certains types.\n",
    "\n",
    "Commencons à voir nos premières fonctions built-in. La plus simple est bien sûr `print()`, qui sert à afficher quelque chose dans la sortie du terminal. On peut écrire quelques caractères spéciaux dans notre texte, comme par exemple `\\n` qui représente un retour à la ligne."
   ]
  },
  {
   "cell_type": "code",
   "execution_count": 10,
   "metadata": {},
   "outputs": [
    {
     "output_type": "stream",
     "name": "stdout",
     "text": [
      "Bonjour !\nBienvenue sur mon script.\n"
     ]
    }
   ],
   "source": [
    "print(\"Bonjour !\\nBienvenue sur mon script.\")"
   ]
  },
  {
   "cell_type": "markdown",
   "metadata": {},
   "source": [
    "---\n",
    "## 🖊️ ️Lire une liste ou un tuple\n",
    "\n",
    "Le premier moyen d'utiliser d'une liste ou d'un tuple est d'accéder directement à l'un de ses éléments en utilisant des `crochets` après le nom d'une variable. On dit alors que l'on a \"découppé\" une variable en n'en sélectionnant qu'une partie, qui s'appellera alors une \"slice\". \n",
    "\n",
    "Pour cela, on utilise l'index de l'élément voulu en commençant par `0` pour le premier élément, et ainsi de suite."
   ]
  },
  {
   "cell_type": "code",
   "execution_count": 11,
   "metadata": {},
   "outputs": [
    {
     "output_type": "stream",
     "name": "stdout",
     "text": [
      "Shinjuku\nDéfenseur\n"
     ]
    }
   ],
   "source": [
    "print(tokyo_biggest_stations[0])\n",
    "print(postes_terrain[1])"
   ]
  },
  {
   "cell_type": "markdown",
   "metadata": {},
   "source": [
    "À l'inverse, si l'on veut sélectionner un élément en partant de la fin de la liste, Python a l'avantage de permettre l'utilisation d'un index négatif : `-1`."
   ]
  },
  {
   "cell_type": "code",
   "execution_count": 12,
   "metadata": {},
   "outputs": [
    {
     "output_type": "stream",
     "name": "stdout",
     "text": [
      "Shibuya\n"
     ]
    }
   ],
   "source": [
    "print(tokyo_biggest_stations[-2])"
   ]
  },
  {
   "cell_type": "markdown",
   "metadata": {},
   "source": [
    "Mais les crochets `[]` en Python sont plus puissants que dans d'autres langages. Ils permettent en réalité aussi de sélectionner plusieurs éléments, en désignant l'index du premier élément voulu, et l'index du dernier élément (exclu), sous le format `[debut:fin]`.\n",
    "\n",
    "Ci-dessous, on sélectionne le deuxième et le troisième élement d'une liste avec `[1:3]`, le `1` pour commencer avec le deuxième élément et le `3` pour s'arrêter avant le quatrième élément (qui n'existe pas dans le cas de cette liste).\n",
    "\n",
    "On sélectionne également les deux premiers éléments d'un tuple en voulant partir du début, on peut alors supprimer l'index de début.\n",
    "\n",
    "Faire une sélection sur une liste renverra une liste, et une sélection sur un tuple renverra un tuple."
   ]
  },
  {
   "cell_type": "code",
   "execution_count": 13,
   "metadata": {},
   "outputs": [
    {
     "output_type": "stream",
     "name": "stdout",
     "text": [
      "['Shibuya', 'Ikebukuro']\n('Gardien', 'Défenseur')\n"
     ]
    }
   ],
   "source": [
    "print(tokyo_biggest_stations[1:3])\n",
    "print(postes_terrain[:2])"
   ]
  },
  {
   "cell_type": "markdown",
   "metadata": {},
   "source": [
    "À l'inverse, si l'on veut sélectionner un nombre d'éléments en partant de la fin de la liste, on peut utiliser un index de début négatif correspondant au nombre d'éléments voulu, et omettre l'index de fin."
   ]
  },
  {
   "cell_type": "code",
   "execution_count": 14,
   "metadata": {},
   "outputs": [
    {
     "output_type": "stream",
     "name": "stdout",
     "text": [
      "('Milieu de terrain', 'Attaquant')\n"
     ]
    }
   ],
   "source": [
    "print(postes_terrain[-2:])"
   ]
  },
  {
   "source": [
    "Bien sûr, dans les cas où vous ayez un liste imbriquée dans une liste, il suffit de répétér l'usage des crochets `[]` pour y accéder. "
   ],
   "cell_type": "markdown",
   "metadata": {}
  },
  {
   "cell_type": "code",
   "execution_count": 15,
   "metadata": {},
   "outputs": [
    {
     "output_type": "stream",
     "name": "stdout",
     "text": [
      "Température de demain soir :\n10\n"
     ]
    }
   ],
   "source": [
    "# Liste de températures par jour avec le format : matin, après-midi, soirée\n",
    "temperatures_per_day = [\n",
    "    [12, 15, 9], # aujourd'hui\n",
    "    [5, 7, 10] # demain\n",
    "]\n",
    "print(\"Température de demain soir :\")\n",
    "print(temperatures_per_day[1][2])"
   ]
  },
  {
   "cell_type": "markdown",
   "metadata": {},
   "source": [
    "---\n",
    "## 🖊️ ️Lire un dictionnaire\n",
    "\n",
    "Pour rappel, un dictionnaire fait correspondre des valeurs à des clés. Contrairement aux listes, avec lesquelles il faille utiliser un index numérique, on utilise donc les clés d'un dictionnaire pour accéder aux valeurs associées. Bien sûr, il faudra écrire rigoureusement les clés, en respectant la casse."
   ]
  },
  {
   "cell_type": "code",
   "execution_count": 16,
   "metadata": {},
   "outputs": [
    {
     "output_type": "stream",
     "name": "stdout",
     "text": [
      "15\n"
     ]
    }
   ],
   "source": [
    "print(teams_points[\"Kawasaki Frontale\"])"
   ]
  },
  {
   "source": [
    "Un autre moyen d'accéder aux valeurs d'un dictionnaire est l'usage de la fonction `.get()`. Elle a l'avantage de ne pas générer d'erreur lorsque l'on essaye d'accéder à une clé du dictionnaire qui n'existe pas : la fonction renverra la valeur `None` dans ce cas.\n",
    "\n",
    "Le premier argument est la clé dont on essaye d'en lire la valeur associée, et on peut passer un second argument optionnel qui correspond à la valeur qui sera renvoyée dans le cas où la clé n'existe pas."
   ],
   "cell_type": "markdown",
   "metadata": {}
  },
  {
   "cell_type": "code",
   "execution_count": 17,
   "metadata": {},
   "outputs": [
    {
     "output_type": "stream",
     "name": "stdout",
     "text": [
      "12\nNone\n(inconnu)\n"
     ]
    }
   ],
   "source": [
    "# .get() avec une clé existante\n",
    "nagoya_pts = teams_points.get(\"Nagoya Grampus\")\n",
    "print(nagoya_pts)\n",
    "\n",
    "# .get() avec une clé inexistante\n",
    "tokyo_pts = teams_points.get(\"FC Tokyo\")\n",
    "print(tokyo_pts)\n",
    "\n",
    "# .get() avec une valeur par défaut si la clé n'existe pas\n",
    "kobe_pts = teams_points.get(\"Vissel Kobe\", \"(inconnu)\")\n",
    "print(kobe_pts)"
   ]
  },
  {
   "cell_type": "markdown",
   "metadata": {},
   "source": [
    "Cependant, il existe aussi des moyens d'accéder soit aux clés, soit aux valeurs d'un dictionnaire. Convertir directement un dictionnaire en liste renverra automatiquement ses clés, et appeler `.values()` fera la même chose mais pour les valeurs du dictionnaire."
   ]
  },
  {
   "cell_type": "code",
   "execution_count": 18,
   "metadata": {},
   "outputs": [
    {
     "output_type": "stream",
     "name": "stdout",
     "text": [
      "Nagoya Grampus\n12\n"
     ]
    }
   ],
   "source": [
    "# La conversion en liste est nécessaire pour récupérer les clés comme les valeurs\n",
    "teams_points_keys = list(teams_points)\n",
    "print(teams_points_keys[1])\n",
    "\n",
    "teams_points_values = list(teams_points.values())\n",
    "print(teams_points_values[1])"
   ]
  },
  {
   "cell_type": "markdown",
   "metadata": {},
   "source": [
    "---\n",
    "## 🖊️ Concaténation\n",
    "\n",
    "En plus d'être un opérateur mathématique, le `+` sert également à concaténer des valeurs ou variables entre elles.\n",
    "\n",
    "Cela marche avec de nombreux types, mais l'on ne peut pas concaténer deux choses de types différents : un nombre avec une chaîne de caractères, par exemple.\n",
    "\n",
    "Notez que Python va strictement coller les valeurs à concaténier, c'est à dire qu'il faudra prévoir à l'avance des espaces par exemple. Regardez bien ci-dessous l'espace après le `:` pour que la valeur de la variable ne soit pas collée."
   ]
  },
  {
   "cell_type": "code",
   "execution_count": 19,
   "metadata": {},
   "outputs": [
    {
     "output_type": "stream",
     "name": "stdout",
     "text": [
      "Tenant du titre : Kawasaki Frontale\n"
     ]
    }
   ],
   "source": [
    "print(\"Tenant du titre : \" + lastseason_winner)"
   ]
  },
  {
   "cell_type": "markdown",
   "metadata": {},
   "source": [
    "---\n",
    "## 🔨 Fonctions built-in - Conversions de types\n",
    "\n",
    "Pour remédier à ça, il y a justement des fonctions built-in permettant de convertir des valeurs d'un type à un autre. Chaque fonction porte alors le nom du type vers lequel on veut convertir : \n",
    "\n",
    "* `str()` pour convertir la valeur passée en `str`\n",
    "* `bool()` pour convertir la valeur passée en `bool`\n",
    "* `int()` pour convertir la valeur passée en `int`\n",
    "* etc...\n",
    "\n",
    "Certaines convertions de types vers d'autres sont impossible : un nombre ne peut pas devenir une liste par exemple. Par contre, une chaîne de caractère étant littéralement une \"chaîne\", on peut la convertir en liste, et l'on aura alors une liste de chaque caractère."
   ]
  },
  {
   "cell_type": "code",
   "execution_count": 20,
   "metadata": {},
   "outputs": [
    {
     "output_type": "stream",
     "name": "stdout",
     "text": [
      "['r', 'a', 'm', 'e', 'n']\n"
     ]
    }
   ],
   "source": [
    "ramen_as_list = list(\"ramen\")\n",
    "print(ramen_as_list)"
   ]
  },
  {
   "cell_type": "markdown",
   "metadata": {},
   "source": [
    "Chose commune dans la plupart des langages, on peut directement passer un appel d'une fonction comme argument d'une autre fonction. Si l'on combine les deux derniers exemples, on peut alors appeler la fonction `print()` en convertissant à la volée ce que l'on veut afficher.\n",
    "\n",
    "Ici, en une seule ligne, on passe la valeur `\"404\"` à la fonction `int()`, et ce qui est renvoyé par cette fonction est passé directement comme valeur pour la fonction `print()`."
   ]
  },
  {
   "cell_type": "code",
   "execution_count": 21,
   "metadata": {},
   "outputs": [
    {
     "output_type": "stream",
     "name": "stdout",
     "text": [
      "404\n"
     ]
    }
   ],
   "source": [
    "print(int(\"404\"))"
   ]
  },
  {
   "source": [
    "Aussi, les booléens sont convertibles en nombre et vice-versa : `True` équivaut à `1` et `False` équivaut à `0`."
   ],
   "cell_type": "markdown",
   "metadata": {}
  },
  {
   "cell_type": "code",
   "execution_count": 22,
   "metadata": {},
   "outputs": [
    {
     "output_type": "stream",
     "name": "stdout",
     "text": [
      "1\nFalse\n"
     ]
    }
   ],
   "source": [
    "print(int(True))\n",
    "print(bool(0))"
   ]
  },
  {
   "cell_type": "markdown",
   "metadata": {},
   "source": [
    "---\n",
    "## 🔨 Fonctions built-in - input()\n",
    "\n",
    "Ensuite, voyons la fonction built-in `input()`. Elle est utile par exemple pour les scripts s'exécutant dans un terminal, et qui veulent demander une information à l'utilisateur.\n",
    "\n",
    "Si l'on y passe une valeur, cela va l'afficher juste devant l'endroit où l'on pourra répondre.\n",
    "\n",
    "![Input dans un terminal](../assets/input.png)\n",
    "\n",
    "La particularité de cette fonction est qu'elle est _bloquante_, c'est à dire que la suite du code de n'exécutera pas tant que l'utilisateur ne valide pas son entrée. À noter que la valeur renvoyée sera toujours de type `str`, même si l'utilisateur écrit un nombre, ce sera donc à nous de la convertir manuellement si l'on a demandé un nombre par exemple.\n",
    "\n",
    "Dans le cas de ce fichier ouvert dans VS Code, une invite s'ouvrira en haut de l'écran pour y écrire du texte."
   ]
  },
  {
   "cell_type": "code",
   "execution_count": 23,
   "metadata": {},
   "outputs": [
    {
     "output_type": "stream",
     "name": "stdout",
     "text": [
      "Votre nom est : Test\n"
     ]
    }
   ],
   "source": [
    "nom = input(\"Nom : \")\n",
    "print(\"Votre nom est : \" + nom)"
   ]
  },
  {
   "cell_type": "markdown",
   "metadata": {},
   "source": [
    "---\n",
    "\n",
    "## 🖊️ Formatage de chaînes de caractères\n",
    "\n",
    "Revoyons ce que donne la concaténanation de chaînes avec l'opérateur `+` avec plusieurs valeurs différentes. Cela peut devenir vite illisible, et devoir tout convertir en `str` n'est pas pratique."
   ]
  },
  {
   "cell_type": "code",
   "execution_count": 24,
   "metadata": {},
   "outputs": [
    {
     "output_type": "execute_result",
     "data": {
      "text/plain": [
       "'Il y a 20 équipes en J. League.'"
      ]
     },
     "metadata": {},
     "execution_count": 24
    }
   ],
   "source": [
    "\"Il y a \" + str(league_teams) + \" équipes en \" + league_name + \".\""
   ]
  },
  {
   "cell_type": "markdown",
   "metadata": {},
   "source": [
    "Python nous offre donc plusieurs moyens de \"formater\" des chaînes, c'est à dire y injecter des valeurs de différent types et ce de façon propre.\n",
    "\n",
    "Le moyen le plus \"vieux\" est appelé [formatage à la printf](https://docs.python.org/fr/3/library/stdtypes.html#printf-style-string-formatting). Il nécessite d'inclure des \"repères\" dans votre chaîne, puis de la faire suivre par un tuple ou un dictionnaire. Python écrirera alors dans l'ordre les valeurs passées à la place des repères."
   ]
  },
  {
   "cell_type": "code",
   "execution_count": 25,
   "metadata": {},
   "outputs": [
    {
     "output_type": "execute_result",
     "data": {
      "text/plain": [
       "'En J. League, il y a 20 équipes.'"
      ]
     },
     "metadata": {},
     "execution_count": 25
    }
   ],
   "source": [
    "# Avec un tuple\n",
    "\"Il y a %d équipes en %s.\" % (league_teams, league_name)\n",
    "# Avec un dictionnaire\n",
    "\"En %(name)s, il y a %(count)d équipes.\" % {\"count\": league_teams, \"name\": league_name}"
   ]
  },
  {
   "cell_type": "markdown",
   "metadata": {},
   "source": [
    "Python 3.6 a apporté une nouvelle et meilleure façon de formater les chaînes : les [f-strings](https://realpython.com/python-f-strings/). Il suffit de précéder une chaîne avec la lettre `f` pour que Python sache que l'on voudra y injecter des variables, comme par exemple : `f\"\"`\n",
    "\n",
    "La force de cette méthode est que l'on peut carrément écrire des expressions au sein d'une chaîne, un peu comme lorsque l'on concaténait des chaînes.\n",
    "\n",
    "Il suffit d'insérer n'importe où dans notre chaîne des accolades `{}` pour que l'on puisse les remplir avec quelque chose : un nom de variable, quelques opérations sommaires, ou encore un appel à une fonction qui renvoie une valeur.\n",
    "\n",
    "<details>\n",
    "  <summary>【💡 Spoiler】</summary>\n",
    "    Il existe aussi une méthode avec le built-in <code>.format()</code>, vous pouvez toujours savoir qu'elle existe mais je juge pas nécessaire de l'apprendre désormais.\n",
    "</details>\n"
   ]
  },
  {
   "cell_type": "code",
   "execution_count": 26,
   "metadata": {},
   "outputs": [
    {
     "output_type": "execute_result",
     "data": {
      "text/plain": [
       "'La J. League, crée il y a 28 ans, comporte 20 équipes.'"
      ]
     },
     "metadata": {},
     "execution_count": 26
    }
   ],
   "source": [
    "f\"La {league_name}, crée il y a {2021 - league_creation} ans, comporte {league_teams} équipes.\""
   ]
  },
  {
   "source": [
    "Attention cependant à ce que vous écrivez entre les accolades `{}` : vous ne pourrez pas du tout y écrire de guillements si votre chaîne de caractères est définie par des guillements, par exemple. Comme vu précédement, une solution peut être soit d'utiliser des apostrophes (lors de la lecture d'un dictionnaire), ou de définir votre chaîne par trois guillemets."
   ],
   "cell_type": "markdown",
   "metadata": {}
  },
  {
   "cell_type": "code",
   "execution_count": 27,
   "metadata": {},
   "outputs": [
    {
     "output_type": "execute_result",
     "data": {
      "text/plain": [
       "\"Pour l'instant, les Kawasaki Frontale ont 15 points.\""
      ]
     },
     "metadata": {},
     "execution_count": 27
    }
   ],
   "source": [
    "f\"Pour l'instant, les Kawasaki Frontale ont {teams_points['Kawasaki Frontale']} points.\""
   ]
  },
  {
   "source": [
    "---\n",
    "\n",
    "## ️🖊️ Expressions booléennes\n",
    "\n",
    "Comparer des valeurs ou variables entre elles, permet logiquement d'en tirer un booléen égal à `True` ou `False`. Ces comparaisons s'appellent donc _expressions booléennes_, et on peut stocker leur résultat dans une variable ou bien s'en servir dans une structure conditionnelle.\n",
    "\n",
    "Pour comparer des valeurs, on utilise des _opérateurs de comparaison_ :\n",
    "\n",
    "* `==` : égalité de valeur\n",
    "* `!=` : inégalité de valeur\n",
    "* `>` : supérieur à\n",
    "* `<` : inférieur à\n",
    "* `>=` : supérieur ou égal à\n",
    "* `<=` : inférieur ou égal à"
   ],
   "cell_type": "markdown",
   "metadata": {}
  },
  {
   "cell_type": "code",
   "execution_count": 28,
   "metadata": {},
   "outputs": [
    {
     "output_type": "stream",
     "name": "stdout",
     "text": [
      "False\n"
     ]
    }
   ],
   "source": [
    "temperature = 5\n",
    "is_snow = temperature <= 1\n",
    "print(is_snow)"
   ]
  },
  {
   "source": [
    "Pour avoir la valeur inverse d'un booléen, on peut placer l'opérateur `not` devant, équivalent au `!` écrit devant un nom de variable dans d'autres langages."
   ],
   "cell_type": "markdown",
   "metadata": {}
  },
  {
   "cell_type": "code",
   "execution_count": 29,
   "metadata": {},
   "outputs": [
    {
     "output_type": "stream",
     "name": "stdout",
     "text": [
      "True\n"
     ]
    }
   ],
   "source": [
    "print(not is_snow)"
   ]
  },
  {
   "source": [
    "Pour sa part, l'opérateur `is` ne compare pas la valeur mais si deux variables font en réalité référence au même objet. Son inverse est donc `is not`."
   ],
   "cell_type": "markdown",
   "metadata": {}
  },
  {
   "cell_type": "code",
   "execution_count": 30,
   "metadata": {},
   "outputs": [
    {
     "output_type": "stream",
     "name": "stdout",
     "text": [
      "False\nTrue\n"
     ]
    }
   ],
   "source": [
    "premiere_liste = [404, 403, 500]\n",
    "deuxieme_liste = [404, 403, 500]\n",
    "troisieme_liste = premiere_liste\n",
    "\n",
    "print(premiere_liste is deuxieme_liste)\n",
    "print(troisieme_liste is premiere_liste)"
   ]
  },
  {
   "source": [
    "Un autre opérateur très utile, `in`, permet de savoir si quelque chose fait partie d'une chaîne de caractère, d'une liste..."
   ],
   "cell_type": "markdown",
   "metadata": {}
  },
  {
   "cell_type": "code",
   "execution_count": 31,
   "metadata": {},
   "outputs": [
    {
     "output_type": "stream",
     "name": "stdout",
     "text": [
      "False\nTrue\n"
     ]
    }
   ],
   "source": [
    "print(300 in premiere_liste)\n",
    "print(\"world\" in \"Hello world\")"
   ]
  },
  {
   "source": [
    "Bien sûr, il est possible de combiner plusieurs comparaisons en les collant avec des _opérateurs booléens_ :\n",
    "\n",
    "* `and`, équivalent à `&&`\n",
    "* `or`, équivalent à `||`\n",
    "\n",
    "À savoir que si vous enchaînez plusieurs de ces opérateurs, un peu comme en mathématiques, l'opérateur `and` aura priorité sur l'opérateur `or`. Par exemple, `temperature >= 20 or humidity > 90 and clear_sky` sera forcément interprété comme ceci : `(temperature >= 20 or humidity > 90) and clear_sky` "
   ],
   "cell_type": "markdown",
   "metadata": {}
  },
  {
   "cell_type": "code",
   "execution_count": 32,
   "metadata": {},
   "outputs": [
    {
     "output_type": "stream",
     "name": "stdout",
     "text": [
      "True\n"
     ]
    }
   ],
   "source": [
    "print(404 in premiere_liste and not is_snow)"
   ]
  },
  {
   "source": [
    "---\n",
    "## 🖊️ ️Les structures conditionnelles - if / elif / else\n",
    "\n",
    "Mettons enfin en application les expression booléennes au sein de structures conditionnelles, qui vont exécuter un bout de code ou un autre selon si l'expression équivaut à vrai ou faux. La base de tout code informatique en somme !\n",
    "\n",
    "Pour cela, il suffit d'écrire `if` suivi d'une expression booléenne puis d'un `:` final. Les lignes que l'on voudra exécuter devront alors gagner une indentation (4 espaces) pour faire comprendre à Python qu'elles sont \"à l'intérieure\" du bloc `if`.\n",
    "\n",
    "Même écrite juste après, si une ligne récupère son indentation d'origine, elle ne sera pas incluse dans le bloc `if`. Comme dit plus haut, la nécessité d'être très rigoureux sur l'indentation est la contrepartie d'une absence de ponctuation."
   ],
   "cell_type": "markdown",
   "metadata": {}
  },
  {
   "cell_type": "code",
   "execution_count": 33,
   "metadata": {},
   "outputs": [
    {
     "output_type": "stream",
     "name": "stdout",
     "text": [
      "100 est bien inférieur à 404.\nTest\n"
     ]
    }
   ],
   "source": [
    "if 100 < 404:\n",
    "    print(\"100 est bien inférieur à 404.\")\n",
    "print(\"Test\")"
   ]
  },
  {
   "source": [
    "Dans le cas où l'on veuille prévoir à la fois les cas où l'expression booléenne est vraie ou fausse, on peut rajouter un `else`, toujours suivi d'un `:`. Les lignes indentées qui le suivent seront alors exécutées si l'expression est fausse."
   ],
   "cell_type": "markdown",
   "metadata": {}
  },
  {
   "cell_type": "code",
   "execution_count": 34,
   "metadata": {},
   "outputs": [
    {
     "output_type": "stream",
     "name": "stdout",
     "text": [
      "Il fait nuageux\n"
     ]
    }
   ],
   "source": [
    "weather = \"sunny\"\n",
    "if weather == \"cloudy\":\n",
    "    print(\"Il fait nuageux\")\n",
    "else:\n",
    "    print(\"Il n'y a pas spécialement de nuages\")"
   ]
  },
  {
   "source": [
    "Si la première expression est fausse mais que l'on veut tester d'autres conditions différentes (pas forcément sur les mêmes variables d'ailleurs), on peut enchaîner avec des `elif`, qui se comportent comme des `if`. Le nom est d'ailleurs la contraction de `else if` que l'on voit dans la plupart des autres langages."
   ],
   "cell_type": "markdown",
   "metadata": {}
  },
  {
   "cell_type": "code",
   "execution_count": 35,
   "metadata": {},
   "outputs": [
    {
     "output_type": "stream",
     "name": "stdout",
     "text": [
      "Il pleut\n"
     ]
    }
   ],
   "source": [
    "weather = \"rainy\"\n",
    "if weather == \"cloudy\":\n",
    "    print(\"Il fait nuageux\")\n",
    "elif weather == \"rainy\":\n",
    "    print(\"Il pleut\")\n",
    "else:\n",
    "    print(\"Aucune idée de la météo\")"
   ]
  },
  {
   "source": [
    "À savoir : lorsque plusieurs conditions sont enchaînées, dès qu'une condition est valide, Python n'ira pas lire les suivantes pour vérifier leur véracité. L'ordre d'écriture de vos `if` et `elif` est donc très important !\n",
    "\n",
    "Si vous utilisez par exemple des comparaisons utilisant des nombres et les opérateurs d'infériorité/supériorité, il faudra donc bien penser à l'ordre. Ci-dessous, on vérifie d'abord les distances les plus petites avant d'aller sur la distance la plus grande possible. Si l'on avait vérifié `distance <= 200` dès le début, les conditions suivantes ne seraient jamais prises en compte par Python."
   ],
   "cell_type": "markdown",
   "metadata": {}
  },
  {
   "cell_type": "code",
   "execution_count": 36,
   "metadata": {},
   "outputs": [
    {
     "output_type": "stream",
     "name": "stdout",
     "text": [
      "Vous gagnez 70 miles avec votre dernier vol.\n"
     ]
    }
   ],
   "source": [
    "distance = 200\n",
    "if distance <= 50:\n",
    "    print(\"Vous gagnez 10 miles avec votre dernier vol.\")\n",
    "elif distance <= 100:\n",
    "    print(\"Vous gagnez 25 miles avec votre dernier vol.\")\n",
    "elif distance <= 200:\n",
    "    print(\"Vous gagnez 70 miles avec votre dernier vol.\")"
   ]
  },
  {
   "cell_type": "markdown",
   "metadata": {},
   "source": [
    "---\n",
    "## 🖊️ La boucle for\n",
    "\n",
    "La boucle `for` diffère un peu des autres langages, car au lieu de demander une variable, un incrémenteur et une condition d'arrêt, elle parcours intégralement l'intérateur que l'on va lui passer. C'est assez semblable au `foreach` d'autres langages, au final.\n",
    "\n",
    "Elle s'écrit de cette façon : \"Pour chaque `xxx` dans `yyy`\" où `xxx` sera le nom de votre choix pour la variable qui contiendra l'élément en cours parcouru par la boucle, et `yyy` est l'élément sur lequel vous voulez itérer.\n",
    "\n",
    "A chaque itération, la boucle for va donc prendre dans l'ordre un élément  de `yyy` et l'injecter dans la variable `xxx`, jusqu'à ce qu'elle ait parcourue tous les éléments.\n",
    "\n",
    "On peut itérer sur différents types de valeurs (chaîne de caractères, liste, tuples) ou sur ce qu'on appelle des _itérateurs_. Si vous ne voulez pas itérer sur l'intégralité d'une liste par exemple, n'oubliez pas que vous pouvez sélectionner un morceau de cette dernière !"
   ]
  },
  {
   "cell_type": "code",
   "execution_count": 37,
   "metadata": {},
   "outputs": [
    {
     "output_type": "stream",
     "name": "stdout",
     "text": [
      "H\ne\nl\nl\no\n!\nGare : Shinjuku\nGare : Shibuya\nGare : Ikebukuro\nGardien\nDéfenseur\nMilieu de terrain\n"
     ]
    }
   ],
   "source": [
    "# Boucle sur une chaîne de caractères\n",
    "for letter in \"Hello!\":\n",
    "    print(letter)\n",
    "\n",
    "# Boucle sur toute une liste\n",
    "for station in tokyo_biggest_stations:\n",
    "    print(f\"Gare : {station}\")\n",
    "\n",
    "# Boucle sur une partie d'un tuple\n",
    "for poste in postes_terrain[:3]:\n",
    "    print(poste)"
   ]
  },
  {
   "cell_type": "markdown",
   "metadata": {},
   "source": [
    "Pour ce qui est des dictionnaires, faire un `for` dessus utilisera les clés du dictionnaire. Ce qui suffit déjà bien sûr à récupérer la valeur liée à chaque clé.\n",
    "\n",
    "Un autre moyen est d'appeler l'_itérateur_ `.items()` sur le dictionnaire, ce qui renverra un tuple à chaque élément du dictionnaire avec la clé et la valeur parcourue."
   ]
  },
  {
   "cell_type": "code",
   "execution_count": 38,
   "metadata": {},
   "outputs": [
    {
     "output_type": "stream",
     "name": "stdout",
     "text": [
      "Kawasaki Frontale : 15 pts\nNagoya Grampus : 12 pts\nSagan Tosu : 12 pts\n---\nKawasaki Frontale : 15 pts\nNagoya Grampus : 12 pts\nSagan Tosu : 12 pts\n"
     ]
    }
   ],
   "source": [
    "for team in teams_points:\n",
    "    print(f\"{team} : {teams_points[team]} pts\")\n",
    "\n",
    "print(\"---\")\n",
    "\n",
    "for key, value in teams_points.items():\n",
    "    print(f\"{key} : {value} pts\")"
   ]
  },
  {
   "source": [
    "Python propose deux mots-clés spéciaux pour contrôler plus précisément le déroulement d'un `for` si besoin :\n",
    "\n",
    "* `continue` pour arrêter l'itération en cours et aller à l'itération suivante\n",
    "* `break` pour complètement stopper le `for` et passer à la suite du code"
   ],
   "cell_type": "markdown",
   "metadata": {}
  },
  {
   "cell_type": "code",
   "execution_count": 39,
   "metadata": {},
   "outputs": [
    {
     "output_type": "stream",
     "name": "stdout",
     "text": [
      "pomme\n",
      "kiwi\n",
      "a\n",
      "b\n"
     ]
    }
   ],
   "source": [
    "for fruit in [\"pomme\", \"banane\", \"kiwi\"]:\n",
    "    if fruit == \"banane\":\n",
    "        continue\n",
    "    print(fruit)\n",
    "\n",
    "for letter in [\"a\", \"b\", \"c\", \"d\"]:\n",
    "    if letter == \"c\":\n",
    "        break\n",
    "    print(letter)"
   ]
  },
  {
   "source": [
    "---\n",
    "## 🔨 Fonctions built-in - range()\n",
    "La fonction _built-in_ `range()` crée à la volée une liste qui fera en sorte que vous ayez un nombre qui s'incrémente à chaque boucle, ce qui peut être très utile dans certains cas.\n",
    "\n",
    "Pour commencer de zéro jusqu'à un nombre non-inclus, utilisez `range(fin)`. Pour commencer à un nombre précis, utilisez `range(debut, fin)`, toujours avec le nombre `fin` non-inclus. On peut y rajouter un troisième argument optionel, qui détermine le nombre ajouté à chaque boucle, ce qui donne `range(debut, fin, pas)`. Si vous mettez donc le pas à `-1`, vous aurez un nombre qui se décrémente !"
   ],
   "cell_type": "markdown",
   "metadata": {}
  },
  {
   "cell_type": "code",
   "execution_count": 3,
   "metadata": {},
   "outputs": [
    {
     "output_type": "stream",
     "name": "stdout",
     "text": [
      "0\n1\n2\n---\n2\n3\n4\n---\n8\n7\n6\n5\n4\n"
     ]
    }
   ],
   "source": [
    "# Boucler de 0 à 2\n",
    "for i in range(3):\n",
    "    print(i)\n",
    "\n",
    "print(\"---\")\n",
    "\n",
    "# Boucler de 2 à 4\n",
    "for i in range(2, 5):\n",
    "    print(i)\n",
    "    \n",
    "print(\"---\")\n",
    "\n",
    "# Boucler de 8 à 4\n",
    "for i in range(8, 3, -1):\n",
    "    print(i)"
   ]
  },
  {
   "source": [
    "---\n",
    "## 🔨 Fonctions built-in - enumerate()\n",
    "\n",
    "On peut donc parcourir des listes et tuples, et même des dictionnaires en utilisant ses clés ou ses valeurs comme des listes. Mais que se passe t-il lorsque l'on veut absolument un index pour savoir à quelle \"ligne\" on est ?\n",
    "\n",
    "Python propose une la fonction built-in `enumerate()`. Elle va à la fois \"englober\" une liste, pour avoir à disposition un index en plus de la valeur de la liste."
   ],
   "cell_type": "markdown",
   "metadata": {}
  },
  {
   "cell_type": "code",
   "execution_count": 41,
   "metadata": {},
   "outputs": [
    {
     "output_type": "stream",
     "name": "stdout",
     "text": [
      "Shinjuku : numéro 0\n",
      "Shibuya : numéro 1\n",
      "Ikebukuro : numéro 2\n",
      "Équipe n°1 : Kawasaki Frontale\n",
      "Équipe n°2 : Nagoya Grampus\n",
      "Équipe n°3 : Sagan Tosu\n"
     ]
    }
   ],
   "source": [
    "for index, station in enumerate(tokyo_biggest_stations):\n",
    "    print(f\"{station} : numéro {index}\")\n",
    "\n",
    "for index, team in enumerate(teams_points.keys()):\n",
    "    print(f\"Équipe n°{index + 1} : {team}\")"
   ]
  },
  {
   "source": [
    "---\n",
    "## ⚙️ Créer et utiliser un script Python\n",
    "\n",
    "Vu que le premier exercice consiste en un script Python, voici quelques choses à savoir au préalable.\n",
    "\n",
    "Tout d'abord, après avoir ouvert une ligne de commandes (terminal), n'oubliez pas d'aller vous situer dans le répertoire où se trouve l'exercice à l'aide de la commande `cd`. Ensuite, vous pourrez écrire `python billetterie.py` pour exécuter le script. Certaines installations sur Linux ou macOS nécessitent cependant d'utiliser `python3` à la place de `python`.\n",
    "\n",
    "Si vous voulez quitter prématurément votre script alors qu'il est en cours d'exécution dans votre terminal, vous pouvez utiliser le raccourci clavier `CTRL+C`.\n",
    "\n",
    "Dans le cas où vous souhaitiez, au sein de votre script Python, le faire s'arrêter immédiatement à un endroit précis, vous pouvez y écrire un appel à la fonction `quit()`."
   ],
   "cell_type": "markdown",
   "metadata": {}
  },
  {
   "source": [
    "---\n",
    "\n",
    "# Exercice\n",
    "\n",
    "Une fois ce cours terminé, vous pourrez réaliser l'exercice situé dans le dossier `billeterie`."
   ],
   "cell_type": "markdown",
   "metadata": {}
  }
 ],
 "metadata": {
  "kernelspec": {
   "name": "python3",
   "display_name": "Python 3.9.2 64-bit"
  },
  "language_info": {
   "codemirror_mode": {
    "name": "ipython",
    "version": 3
   },
   "file_extension": ".py",
   "mimetype": "text/x-python",
   "name": "python",
   "nbconvert_exporter": "python",
   "pygments_lexer": "ipython3",
   "version": "3.9.2"
  },
  "metadata": {
   "interpreter": {
    "hash": "d94eb1066f04d8685077601812ddd3c592b7f56086c802177159e4b57cd392de"
   }
  },
  "interpreter": {
   "hash": "d94eb1066f04d8685077601812ddd3c592b7f56086c802177159e4b57cd392de"
  }
 },
 "nbformat": 4,
 "nbformat_minor": 4
}