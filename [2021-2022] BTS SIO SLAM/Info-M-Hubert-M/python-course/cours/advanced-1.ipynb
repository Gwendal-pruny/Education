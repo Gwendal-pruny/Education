{
 "cells": [
  {
   "cell_type": "markdown",
   "metadata": {},
   "source": [
    "![Logo](../logo.png)\n",
    "\n",
    "![Header](../assets/header_advanced-1.svg)\n",
    "\n",
    "# Advanced ①\n",
    "\n",
    "TODO\n",
    "\n",
    "# Notions de ce cours\n",
    "\n",
    "* 🖊️ ️Variables mutables et immutables\n",
    "* ️🖊️ Les fonctions\n",
    "* ⚙️ Le passage des variables\n",
    "* ⚙️ La portée des variables (2)\n",
    "* 🔨 Fonctions built-in - `dir()`\n",
    "* 🖊️ L'opérateur ternaire conditionnel\n",
    "* 🖊️ Le point-virgule\n",
    "* 🖊️ Les constantes\n",
    "* ⚙️ Déboguer avec PDB\n",
    "* ⚙️ Vérifier la présence dans un script"
   ]
  },
  {
   "cell_type": "markdown",
   "metadata": {},
   "source": [
    "---\n",
    "## 🖊️ Variables mutables et immutables\n",
    "\n",
    "Avant d'aller plus loin, il nous faut regarder une chose essentielle concernant les des variables.\n",
    "\n",
    "Pour rappel, les **variables** portent le type de la **valeur** qu'elles contiennent. Par exemple, dans le code ci-dessous, la **variable** `destination` a pour **valeur** `\"Auber\"` qui est du type \"chaîne de caractères\", techniquement appelé `str`."
   ]
  },
  {
   "cell_type": "code",
   "execution_count": 1,
   "metadata": {},
   "outputs": [],
   "source": [
    "destination = \"Auber\""
   ]
  },
  {
   "cell_type": "markdown",
   "metadata": {},
   "source": [
    "Chaque type peut être **mutable** ou **immutable**.\n",
    "\n",
    "Une valeur avec un type **mutable** peut être modifié, alors que ce n'est strictement pas possible avec un type **immutable**.\n",
    "\n",
    "* Les types **mutables** sont : `list`, `dict`, `set`\n",
    "* Les types **immutables** sont : `int`, `float`, `str`, `tuple`, `frozenset`\n",
    "\n",
    "<details>\n",
    "  <summary>【💡 Spoiler】</summary>\n",
    "  Il y a bien sûr d'autres types que l'on n'a pas encore vus qui sont soit l'un, soit l'autre.\n",
    "</details>\n",
    "\n",
    "💬 «Mais, on peut bien modifier une variable de type `str` ou `int` pourtant non ? Pourquoi sont-ils immutables alors ?»\n",
    "\n",
    "Prenons un exemple pour comprendre ce qu'il se passe réellement dans ces cas. Ci-dessous, nous allons créer une variable `cuisson` représentant une température, à laquelle on va d'abord attribuer un premier nombre entier (`int`), puis l'on va y attribuer encore un nouveau nombre."
   ]
  },
  {
   "cell_type": "code",
   "execution_count": 2,
   "metadata": {},
   "outputs": [
    {
     "name": "stdout",
     "output_type": "stream",
     "text": [
      "200\n"
     ]
    }
   ],
   "source": [
    "cuisson = 180\n",
    "cuisson = 200\n",
    "print(cuisson)"
   ]
  },
  {
   "cell_type": "markdown",
   "metadata": {},
   "source": [
    "À la deuxième ligne, on a donc attribué une nouvelle **valeur** à la variable **cuisson**. Mais cela ne veut pas dire que l'on ait **modifié** la valeur d'origine.\n",
    "\n",
    "Ce qu'il s'est passé en réalité, c'est que l'on a écrasé un nombre existant par un autre nombre : nous n'avons pas **modifié** le nombre lui-même, nous l'avons juste **remplacé** par un autre nombre. Disons que chaque nombre est tout simplement \"unique\", il n'y a qu'une façon d'exprimer un nombre que ce soit en mathématiques ou en informatique. Ils ne sont pas modifiables en soi, car ça revient bien à les remplacer par d'autres nombres\n",
    "\n",
    "C'est ce que l'on veut dire par une valeur qui est de type **immutable** : on ne peut strictement pas les modifier, juste éventuellement les remplacer par autre chose.\n",
    "\n",
    "Les valeurs de type **mutable** peuvent bien être modifiées sans signifier que l'on les remplace entièrement. Une liste (de type `list`) peut avoir des éléments ajoutés ou supprimés, par exemple."
   ]
  },
  {
   "cell_type": "markdown",
   "metadata": {},
   "source": [
    "---\n",
    "## 🖊️ Set et frozenset\n",
    "\n",
    "Voyons désormais deux nouveaux **types** de valeurs :\n",
    "\n",
    "* `set` : une liste non ordonnée de valeurs, mais où toute valeur doublon y est automatiquement supprimée.\n",
    "* `frozenset` : exactement pareil qu'un `set` mais en étant **immutable**, on ne peut donc pas modifier son contenu.\n",
    "\n",
    "Bien que ces types ressemblent à des listes, ils sont en réalité assez différents. Le principal intérêt est la suppression automatique de tout élément doublon lors de leur création, tout en empêchant d'ajouter plus tard un doublon.\n",
    "\n",
    "Les `set` sont aussi très adaptés pour vérifier la présence d'un élément dedans (bien plus rapide que la même opération sur une `list`), ou pour y effectuer des opérations mathématiques diverses (unions, intersections...).\n",
    "\n",
    "Aussi, on ne peut y insérer que des valeurs _immutables_. Impossible donc d'avoir par exemple une liste à l'intérieur d'un `set`.\n",
    "\n",
    "Prenons l'exemple d'une liste de choses trouvées dans une image par un programme Python grâce à de la vision par ordinateur. On veut bien sûr éviter la présence de doublons, d'où l'usage d'un `set`."
   ]
  },
  {
   "cell_type": "code",
   "execution_count": 3,
   "metadata": {},
   "outputs": [
    {
     "name": "stdout",
     "output_type": "stream",
     "text": [
      "{'bureau', 'ordinateur', 'souris'}\n"
     ]
    }
   ],
   "source": [
    "# Le set s'écrit à l'aide d'accolades {}\n",
    "photo_tags = {\"bureau\", \"ordinateur\", \"souris\", \"bureau\"}\n",
    "print(photo_tags)"
   ]
  },
  {
   "cell_type": "markdown",
   "metadata": {},
   "source": [
    "Pour sa part, le `frozenset` se comporte comme le `set` à l'exception que son contenu ne pourra absolument pas être modifié.\n",
    "\n",
    "C'est en réalité une fonction built-in portant le même nom que le type, qu'il faudra appeler afin d'avoir en retour un `frozenset`. On peut y passer comme argument un `set` ou encore une `list`."
   ]
  },
  {
   "cell_type": "code",
   "execution_count": 4,
   "metadata": {},
   "outputs": [
    {
     "name": "stdout",
     "output_type": "stream",
     "text": [
      "frozenset({'pistache', 'vanille', 'fraise', 'chocolat'})\n"
     ]
    }
   ],
   "source": [
    "parfums = frozenset([\"vanille\", \"fraise\", \"chocolat\", \"vanille\", \"pistache\"])\n",
    "print(parfums)"
   ]
  },
  {
   "cell_type": "markdown",
   "metadata": {},
   "source": [
    "---\n",
    "## 🔨 ️L️i️r️e️ ️e️t️ manipuler un set\n",
    "\n",
    "Bien que ressemblant à une liste, le `set` a un usage complètement différent. Par exemple, on ne peut pas en sélectionner un élément en particulier, comme on pourrait le faire avec une liste.\n",
    "\n",
    "Son usage étant si particulier, nous n'allons en voir que les usages de bases pour l'instant. Le plus simple est de vérifier si quelque chose fait partie du `set` comme montré ci-dessous, à l'aide du mot-clé `in`."
   ]
  },
  {
   "cell_type": "code",
   "execution_count": 5,
   "metadata": {},
   "outputs": [
    {
     "name": "stdout",
     "output_type": "stream",
     "text": [
      "True\n"
     ]
    }
   ],
   "source": [
    "photo_tags = {\"bureau\", \"ordinateur\", \"souris\", \"bureau\"}\n",
    "print(\"souris\" in photo_tags)"
   ]
  },
  {
   "cell_type": "markdown",
   "metadata": {},
   "source": [
    "### Ajouter un élément\n",
    "\n",
    "La fonction `.add()` permet d'ajouter simplement un seul élément au `set`.\n",
    "\n",
    "Bien sûr, on ne peut strictement rien ajouter à un `frozenset`.\n"
   ]
  },
  {
   "cell_type": "code",
   "execution_count": 6,
   "metadata": {},
   "outputs": [
    {
     "name": "stdout",
     "output_type": "stream",
     "text": [
      "{'souris', 'clavier', 'ordinateur', 'bureau'}\n"
     ]
    }
   ],
   "source": [
    "photo_tags = {\"bureau\", \"ordinateur\", \"souris\", \"bureau\"}\n",
    "photo_tags.add(\"clavier\")\n",
    "print(photo_tags)"
   ]
  },
  {
   "cell_type": "markdown",
   "metadata": {},
   "source": [
    "Pour sa part, la fonction `.update()` permet de passer une liste de plusieurs éléments à ajouter en même temps."
   ]
  },
  {
   "cell_type": "markdown",
   "metadata": {},
   "source": [
    "### Supprimer un élément\n",
    "\n",
    "Vu que l'on ne peut pas sélectionner l'élément d'un `set` à l'aide d'un index, on le fait en passant la valeur que l'on veut supprimer à la fonction `.discard()`."
   ]
  },
  {
   "cell_type": "code",
   "execution_count": 7,
   "metadata": {},
   "outputs": [
    {
     "name": "stdout",
     "output_type": "stream",
     "text": [
      "{'musique', 'jeu vidéo', 'film'}\n"
     ]
    }
   ],
   "source": [
    "arts = {\"livre\", \"film\", \"musique\", \"jeu vidéo\"}\n",
    "arts.discard(\"livre\")\n",
    "print(arts)"
   ]
  },
  {
   "cell_type": "markdown",
   "metadata": {},
   "source": [
    "---\n",
    "## 🖊️ Les fonctions\n",
    "\n",
    "Premier outil du développeur pour découper son code en morceaux réutilisables, les fonctions permettent de réaliser des tâches précises.\n",
    "\n",
    "Elles peuvent parfois **accepter des valeurs**, que l'on appellera alors \"arguments\". Aussi, les fonctions peuvent **renvoyer une ou plusieurs valeurs**.\n",
    "\n",
    "![Explication d'une fonction](../assets/function.svg)\n",
    "\n",
    "### Définir une fonction\n",
    "\n",
    "Avant de pouvoir s'en servir, il nous faut d'abord **définir** une fonction au sein de notre code source. C'est à dire que l'on va entourer les lignes de code à regrouper sous le nom de notre choix, et qui sera donc le nom de notre fonction.\n",
    "\n",
    "Une fonction se définit en Python l'aide du mot clé `def`, que l'on fera suivre d'un nom puis de parenthèses, et enfin de `:` pour indiquer le début d'une fonction. Comme tout \"bloc\", il faudra alors rajouter une indentation sur les lignes de code faisant partie de la fonction.\n",
    "\n",
    "Vu qu'il faut au moins une ligne dans un \"bloc\" en Python, on ne peut théoriquement pas créer de fonction vide. Python propose pour contrer cela le mot-clé `pass` qui ne sert à rien, mais qui permet d'avoir au moins une ligne au sein d'un \"bloc\" en attendant de le remplir par du vrai code plus tard."
   ]
  },
  {
   "cell_type": "code",
   "execution_count": 8,
   "metadata": {},
   "outputs": [],
   "source": [
    "def parler():\n",
    "    pass"
   ]
  },
  {
   "cell_type": "markdown",
   "metadata": {},
   "source": [
    "Commençons à remplir notre fonction, puis appelons-la afin de l'exécuter. Par convention, on peut décrire ce que réalise notre fonction en y écrivant un commentaire avec les triples guillemets `\"\"\"`.\n",
    "\n",
    "Il faut toujours appeler une fonction **après** qu'elle ait été déclarée."
   ]
  },
  {
   "cell_type": "code",
   "execution_count": 9,
   "metadata": {},
   "outputs": [
    {
     "name": "stdout",
     "output_type": "stream",
     "text": [
      "Le personnage dit : Hello\n"
     ]
    }
   ],
   "source": [
    "def parler():\n",
    "    \"\"\" Affiche un message \"\"\"\n",
    "    print(\"Le personnage dit : Hello\")\n",
    "\n",
    "parler()"
   ]
  },
  {
   "cell_type": "markdown",
   "metadata": {},
   "source": [
    "### Définir avec des arguments positionnels\n",
    "\n",
    "Pour accepter des arguments dans notre fonction, on va remplir les parenthèses `()`. Chaque mot que l'on y écrira, séparés par des virgules, sont des **arguments**. Lorsque l'on appelle la fonction, il faudra écrire dans les parenthèses autant de valeurs que d'arguments, et ce dans le même ordre : ce sont donc des \"arguments positionnels\".\n",
    "\n",
    "À vous de choisir les noms les plus adaptés pour les arguments, afin que l'on comprenne facilement leur but au sein de la fonction.\n",
    "\n",
    "Au sein du code de la fonction :\n",
    "\n",
    "* Chaque argument sera alors une **variable** contenant la valeur écrite lors de l'appel de la fonction.\n",
    "* Si l'on veut utiliser un argument ayant le même nom qu'une variable déjà déclarée auparavant dans le code, on aura bien toujours la **valeur de l'argument**. (on verra pourquoi juste après)\n",
    "\n",
    "Ci-dessous, on souhaite accepter deux arguments : le premier s'appellera `nom` et le second `message`."
   ]
  },
  {
   "cell_type": "code",
   "execution_count": 10,
   "metadata": {},
   "outputs": [
    {
     "name": "stdout",
     "output_type": "stream",
     "text": [
      "Naruto a dit : Dattebayo !\n"
     ]
    }
   ],
   "source": [
    "nom = \"Test\"\n",
    "\n",
    "def parler(nom, message):\n",
    "    # L'argument (variable) \"nom\" a ici pour valeur \"Naruto\"\n",
    "    # L'argument (variable) \"message\" a ici pour valeur \"Dattebayo !\"\n",
    "    print(f\"{nom} a dit : {message}\")\n",
    "\n",
    "parler(\"Naruto\", \"Dattebayo !\")"
   ]
  },
  {
   "cell_type": "markdown",
   "metadata": {},
   "source": [
    "### Appeler une fonction avec des arguments à mot-clé\n",
    "\n",
    "Il existe un moyen de ne pas avoir à forcément respecter l'ordre des arguments positionnels, et cela implique l'usage des \"arguments à mots-clés\", communément appelés \"keyword arguments\".\n",
    "\n",
    "Lors de l'appel de la fonction, devant chaque valeur que l'on va écrire, on précise le nom de l'argument visé à l'aide d'un `=`.\n",
    "\n",
    "Il est possible de passer à la fois des arguments positionnels puis des arguments à mots-clés, mais dans ce cas ceux à mot-clés devront être écrits **après** les positionnels."
   ]
  },
  {
   "cell_type": "code",
   "execution_count": 11,
   "metadata": {},
   "outputs": [
    {
     "name": "stdout",
     "output_type": "stream",
     "text": [
      "Saskue a dit : Super...\n",
      "Saskue a dit : Super...\n"
     ]
    }
   ],
   "source": [
    "def parler(nom, message):\n",
    "    print(f\"{nom} a dit : {message}\")\n",
    "\n",
    "# Appel de la fonction comme d'habitude, avec les arguments positionnels\n",
    "parler(\"Saskue\", \"Super...\")\n",
    "\n",
    "# Appel de la fonction à l'aide de mot-clés, permettant de les écrire dans n'importe quel ordre\n",
    "parler(message=\"Super...\", nom=\"Saskue\")"
   ]
  },
  {
   "cell_type": "markdown",
   "metadata": {},
   "source": [
    "### Définir des arguments avec valeur par défaut (arguments optionnels)\n",
    "\n",
    "Il est possible d'accepter des arguments optionnels, c'est à dire qu'il n'y aura pas forcément besoin de les fournir lors de l'appel d'une fonction. En échange, il faut prévoir une **valeur par défaut** qui sera utilisée lorsque ces arguments n'ont pas reçu de valeur.\n",
    "\n",
    "Pour cela, on utilise la même écriture que les arguments à mot-clé : après le nom de l'argument, on écrit un `=` puis la **valeur par défaut**, qui peut être de tout type. Attention cependant à ne pas les confondre avec les **arguments à mot-clés**.\n",
    "\n",
    "Les arguments avec une valeur par défaut doivent toujours être **après** les arguments qui n'en n'ont pas.\n",
    "\n",
    "Quand on va appeler la fonction en omettant un argument optionnel, ce dernier prendra donc automatiquement la valeur par défaut au sein de la fonction. Cela permet au final de pouvoir appeler la même fonction de plusieurs façons, comme ci-dessous."
   ]
  },
  {
   "cell_type": "code",
   "execution_count": 12,
   "metadata": {},
   "outputs": [
    {
     "name": "stdout",
     "output_type": "stream",
     "text": [
      "Sakura a dit : ...\n",
      "Sakura a dit : Dis-moi, Naruto...\n"
     ]
    }
   ],
   "source": [
    "# Lorsque l'argument \"message\" n'est pas précisé, il prend la valeur par défaut \"...\"\n",
    "def parler(nom, message=\"...\"):\n",
    "    print(f\"{nom} a dit : {message}\")\n",
    "\n",
    "# Passage d'un seul argument au lieu de deux\n",
    "parler(\"Sakura\")\n",
    "\n",
    "# Passage des deux arguments existants\n",
    "parler(\"Sakura\", \"Dis-moi, Naruto...\")"
   ]
  },
  {
   "cell_type": "markdown",
   "metadata": {},
   "source": [
    "Les arguments à valeur par défaut permettent de changer sensiblement le comportement d'une fonction.\n",
    "\n",
    "Dans l'exemple suivant, à l'aide la valeur par défaut `None` qui nous permettra de savoir si l'argument est vide ou non, on va sensiblement changer le comportement de la fonction selon si un message est transmis ou non."
   ]
  },
  {
   "cell_type": "code",
   "execution_count": 13,
   "metadata": {},
   "outputs": [
    {
     "name": "stdout",
     "output_type": "stream",
     "text": [
      "(Sakura ne dit rien...)\n",
      "Sakura a dit : Dis-moi, Sasuke...\n"
     ]
    }
   ],
   "source": [
    "def parler(nom, message=None):\n",
    "    if message == None:\n",
    "        print(f\"({nom} ne dit rien...)\")\n",
    "    else:\n",
    "        print(f\"{nom} a dit : {message}\")\n",
    "\n",
    "# Passage d'un seul argument au lieu de deux\n",
    "parler(\"Sakura\")\n",
    "\n",
    "# Passage des deux arguments existants\n",
    "parler(\"Sakura\", \"Dis-moi, Sasuke...\")"
   ]
  },
  {
   "cell_type": "markdown",
   "metadata": {},
   "source": [
    "### Retourner une valeur\n",
    "\n",
    "Pour l'instant, aucune de nos fonctions ne renvoient de résultat. (Techniquement, elles renvoient dans ce cas la valeur `None` par défaut).\n",
    "\n",
    "Afin de renvoyer quelque chose, on utilise le mot clé `return` suivi d'une valeur, d'une variable, d'une expression... Celle ligne marquera alors la **fin du code de la fonction** : impossible ensuite d'y écrire quoi que ce soit en son sein, car l'on aura déjà retourné quelque chose.\n",
    "\n",
    "Lorsque l'on récupère la valeur renvoyée par une fonction, on peut s'en servir directement ou bien l'assigner à une variable par exemple."
   ]
  },
  {
   "cell_type": "code",
   "execution_count": 14,
   "metadata": {},
   "outputs": [
    {
     "name": "stdout",
     "output_type": "stream",
     "text": [
      "Aujourd'hui il fait 23°C, soit 73.4°F\n",
      "Aujourd'hui il fait 12°C, soit 53.6°F\n"
     ]
    }
   ],
   "source": [
    "def celcius_to_fahrenheit(celcius):\n",
    "    return celcius * 1.8 + 32 # Comme en mathématiques, la multiplication a la priorité\n",
    "\n",
    "# En stockant ce qui est retourné dans une variable\n",
    "fahrenheit = celcius_to_fahrenheit(23)\n",
    "print(f\"Aujourd'hui il fait 23°C, soit {fahrenheit}°F\")\n",
    "\n",
    "# En utilisant directement ce qui est retourné\n",
    "print(f\"Aujourd'hui il fait 12°C, soit {celcius_to_fahrenheit(12)}°F\")"
   ]
  },
  {
   "cell_type": "markdown",
   "metadata": {},
   "source": [
    "---\n",
    "## ⚙️ Le passage des variables\n",
    "\n",
    "Revenons sur les fonctions qui acceptent des valeurs grâce à leurs aguments. Il existe en réalité une particularité sur la façon par laquelle les variables sont transmises aux fonctions, et cela dépend de leur type :\n",
    "\n",
    "* Type _mutable_ : passage par référence\n",
    "* Type _immutable_ : passage par valeur\n",
    "\n",
    "Concrètement, cela veut dire que si l'on veut passer une variable existante de type `str` (_immutable_) à une fonction, cette dernière va en recevoir la valeur et va techniquement la \"ré-encapsuler\" dans une variable différente, une opération invisible à nos yeux. Si l'on modifie cette variable au sein de cette fonction, cela n'aura aucun effet sur la variable originale.\n",
    "\n",
    "(Bien sûr, vous pouvez utiliser un `return` pour influencer la variable originale, mais nous nous focalisons ici sur le fonctionnement du langage plutôt que sur la logique pure)"
   ]
  },
  {
   "cell_type": "code",
   "execution_count": 15,
   "metadata": {},
   "outputs": [
    {
     "name": "stdout",
     "output_type": "stream",
     "text": [
      "Dans la fonction : world\n",
      "En dehors de la fonction : hello\n"
     ]
    }
   ],
   "source": [
    "def change(data):\n",
    "    data = \"world\"\n",
    "    print(f\"Dans la fonction : {data}\")\n",
    "\n",
    "mystr = \"hello\"\n",
    "change(mystr) # Seule la valeur de mystr est passée à la fonction\n",
    "print(f\"En dehors de la fonction : {mystr}\")"
   ]
  },
  {
   "cell_type": "markdown",
   "metadata": {},
   "source": [
    "Pour ce qui est des types _mutables_ cependant, étant donné que ce sont des valeurs directement modifiables, Python va transmettre une référence à ces variables aux fonctions. La fonction reçoit alors comme argument l'équivalent de la variable originale, et si l'on modifie leur valeur au sein de la fonction, cela revient à toucher la variable originale."
   ]
  },
  {
   "cell_type": "code",
   "execution_count": 16,
   "metadata": {},
   "outputs": [
    {
     "name": "stdout",
     "output_type": "stream",
     "text": [
      "Dans la fonction : ['x', 'y']\n",
      "En dehors de la fonction : ['x', 'y']\n"
     ]
    }
   ],
   "source": [
    "def change(data):\n",
    "    data.append(\"y\")\n",
    "    print(f\"Dans la fonction : {data}\")\n",
    "\n",
    "mylist = [\"x\"]\n",
    "change(mylist) # La référence à la variable mylist est passée à la fonction\n",
    "print(f\"En dehors de la fonction : {mylist}\")"
   ]
  },
  {
   "cell_type": "markdown",
   "metadata": {},
   "source": [
    "---\n",
    "## ⚙️ La portée des variables (2)\n",
    "\n",
    "Ci-dessous, on voit la structure `if` créer son propre scope local, et qui peut accéder à toutes les variables de son scope parent, qui est ici le scope global.\n",
    "\n",
    "![Scope global et local](../assets/scope_first.svg)"
   ]
  },
  {
   "cell_type": "code",
   "execution_count": 17,
   "metadata": {},
   "outputs": [
    {
     "name": "stdout",
     "output_type": "stream",
     "text": [
      "25\n",
      "10\n"
     ]
    }
   ],
   "source": [
    "a = 25\n",
    "if a > 20:\n",
    "    print(a)\n",
    "    a = 10\n",
    "print(a)"
   ]
  },
  {
   "cell_type": "markdown",
   "metadata": {},
   "source": [
    "Lorsqu'une variable est définie dans un scope local, sa portée est limitée à ce dernier, et donc aussi aux éventuels scopes déclarés en son sein (scopes \"enfants\").\n",
    "\n",
    "Le principe des scopes est ce qui permet aux langages d'avoir des variables portant le même nom mais ne se mélangeant pas : si vous voulez accéder à la variable `a`, le langage va d'abord vérifier son existance ou non dans le scope local. Si la variable existe, vous en aurez sa valeur, sinon, le langage ira vérifier son existence dans le scope parent, etc, jusqu'à arriver au scope global.\n",
    "\n",
    "L'argument attendu par une fonction équivaut à déclarer une variable dans son propre scope, comme montré ci-dessous. Vu que la variable `b` est définie dans le scope local de `fonction_x`, on ne peut pas y accéder depuis le scope parent, et tenter d'y accéder génèrera une erreur.\n",
    "\n",
    "![Scope local](../assets/scope_local.svg)"
   ]
  },
  {
   "cell_type": "code",
   "execution_count": 18,
   "metadata": {},
   "outputs": [
    {
     "name": "stdout",
     "output_type": "stream",
     "text": [
      "42\n",
      "25\n"
     ]
    },
    {
     "ename": "NameError",
     "evalue": "name 'b' is not defined",
     "output_type": "error",
     "traceback": [
      "\u001b[1;31m---------------------------------------------------------------------------\u001b[0m",
      "\u001b[1;31mNameError\u001b[0m                                 Traceback (most recent call last)",
      "\u001b[1;32mm:\\code\\_esiee2023\\python-course\\cours\\advanced-1.ipynb Cell 39'\u001b[0m in \u001b[0;36m<cell line: 7>\u001b[1;34m()\u001b[0m\n\u001b[0;32m      <a href='vscode-notebook-cell:/m%3A/code/_esiee2023/python-course/cours/advanced-1.ipynb#ch0000095?line=4'>5</a>\u001b[0m fonction_x(\u001b[39m42\u001b[39m)\n\u001b[0;32m      <a href='vscode-notebook-cell:/m%3A/code/_esiee2023/python-course/cours/advanced-1.ipynb#ch0000095?line=5'>6</a>\u001b[0m \u001b[39mprint\u001b[39m(a)\n\u001b[1;32m----> <a href='vscode-notebook-cell:/m%3A/code/_esiee2023/python-course/cours/advanced-1.ipynb#ch0000095?line=6'>7</a>\u001b[0m \u001b[39mprint\u001b[39m(b)\n",
      "\u001b[1;31mNameError\u001b[0m: name 'b' is not defined"
     ]
    }
   ],
   "source": [
    "a = 25\n",
    "def fonction_x(a):\n",
    "    print(a)\n",
    "    b = 77\n",
    "fonction_x(42)\n",
    "print(a)\n",
    "print(b)"
   ]
  },
  {
   "cell_type": "markdown",
   "metadata": {},
   "source": [
    "Assez logiquement, les scopes peuvent s'imbriquer et les mêmes règles s'appliquent alors.\n",
    "\n",
    "![Scope nested](../assets/scope_nested.svg)"
   ]
  },
  {
   "cell_type": "code",
   "execution_count": null,
   "metadata": {},
   "outputs": [
    {
     "name": "stdout",
     "output_type": "stream",
     "text": [
      "25\n",
      "77\n"
     ]
    }
   ],
   "source": [
    "a = 25\n",
    "\n",
    "if a > 20:\n",
    "    b = 77\n",
    "    print(a)\n",
    "\n",
    "    if b > 50:\n",
    "        c = 42\n",
    "        print(b)"
   ]
  },
  {
   "cell_type": "markdown",
   "metadata": {},
   "source": [
    "---\n",
    "## 🔨 Fonctions built-in - `dir()`\n",
    "\n",
    "Petite fonction utilitaire dont on se sert surtout dans le Python REPL, ou lorsque l'on débug un script, `dir()` est une fonction qui va nous renvoyer une liste de toute les méthodes attachées à une valeur, une variable, etc.\n",
    "\n",
    "Souvent, cela renverra aussi toutes les \"méthodes magiques\" (que l'on verra plus tard) ayant des `__` dans leur nom. C'est surtout une fonction utile lorsque l'on travaille avec des bibliothèques, des framework qui ont des objects de type très précis, dont on ne connaît parfois pas par coeur toutes les méthodes que l'on peut appeler dessus."
   ]
  },
  {
   "cell_type": "code",
   "execution_count": null,
   "metadata": {},
   "outputs": [
    {
     "name": "stdout",
     "output_type": "stream",
     "text": [
      "['__add__', '__class__', '__contains__', '__delattr__', '__dir__', '__doc__', '__eq__', '__format__', '__ge__', '__getattribute__', '__getitem__', '__getnewargs__', '__gt__', '__hash__', '__init__', '__init_subclass__', '__iter__', '__le__', '__len__', '__lt__', '__mod__', '__mul__', '__ne__', '__new__', '__reduce__', '__reduce_ex__', '__repr__', '__rmod__', '__rmul__', '__setattr__', '__sizeof__', '__str__', '__subclasshook__', 'capitalize', 'casefold', 'center', 'count', 'encode', 'endswith', 'expandtabs', 'find', 'format', 'format_map', 'index', 'isalnum', 'isalpha', 'isascii', 'isdecimal', 'isdigit', 'isidentifier', 'islower', 'isnumeric', 'isprintable', 'isspace', 'istitle', 'isupper', 'join', 'ljust', 'lower', 'lstrip', 'maketrans', 'partition', 'removeprefix', 'removesuffix', 'replace', 'rfind', 'rindex', 'rjust', 'rpartition', 'rsplit', 'rstrip', 'split', 'splitlines', 'startswith', 'strip', 'swapcase', 'title', 'translate', 'upper', 'zfill']\n"
     ]
    }
   ],
   "source": [
    "print(dir(\"World hello\"))"
   ]
  },
  {
   "cell_type": "markdown",
   "metadata": {},
   "source": [
    "---\n",
    "## 🖊️ L'opérateur ternaire conditionnel\n",
    "\n",
    "Il existe un moyen très simplifié d'écrire une condition `if/else` lorsqu'elle reste simple, par exemple si l'on veut attribuer à une variable telle ou telle valeur selon si la condition est vraie ou fausse.\n",
    "\n",
    "On appelle ça un opérateur ternaire conditionnel, ou \"ternary conditional expression\", et cela prends la forme suivante :\n",
    "\n",
    "`[valeur si vrai] if [condition] else [valeur si faux]`\n",
    "\n",
    "Cela peut paraître un peu étrange au début, mais on s'y fait vite, et ça peut devenir très utile pour garder un code concis."
   ]
  },
  {
   "cell_type": "code",
   "execution_count": null,
   "metadata": {},
   "outputs": [
    {
     "name": "stdout",
     "output_type": "stream",
     "text": [
      "Ça chauffe...\n"
     ]
    }
   ],
   "source": [
    "temperature_eau = 89\n",
    "\n",
    "message = \"Ça bouille !\" if temperature_eau >= 100 else \"Ça chauffe...\"\n",
    "# Au lieu d'écrire...\n",
    "#message = None\n",
    "#if temperature_eau >= 100:\n",
    "#    message = \"Ça bouille !\"\n",
    "#else:\n",
    "#    message = \"Ça chauffe\"\n",
    "\n",
    "print(message)"
   ]
  },
  {
   "cell_type": "markdown",
   "metadata": {},
   "source": [
    "---\n",
    "## 🖊️ Le point-virgule\n",
    "\n",
    "Il arrive que l'on veuille enchaîner plusieurs expressions sur la même ligne, on peut alors les séparer en utilisant un point-virgule.\n",
    "\n",
    "Cela dit, c'est assez rare d'avoir à s'en servir."
   ]
  },
  {
   "cell_type": "code",
   "execution_count": null,
   "metadata": {},
   "outputs": [],
   "source": [
    "a = 5; b = 10"
   ]
  },
  {
   "cell_type": "markdown",
   "metadata": {},
   "source": [
    "---\n",
    "## 🖊️ Les constantes\n",
    "\n",
    "Il existe des variables dont on est sûr que leur valeur ne changera jamais lors de l'exécution de nos programmes, comme par exemples constantes scientifiques (valeur arrondie de PI, gravité sur Terre...) ou de la configuration. On appelle alors ces variables des \"constantes\", car leur valeur est constante dans le temps.\n",
    "\n",
    "Afin de les démarquer des variables habituelles, on écrit alors leur nom tout en majuscules. Attention cependant, car ce n'est pas une réelle fonctionnalité du langage : Python ne vous empêchera pas de modifier la valeur de ces variables."
   ]
  },
  {
   "cell_type": "code",
   "execution_count": null,
   "metadata": {},
   "outputs": [],
   "source": [
    "SERVER_HTTP_PORT = 8080\n",
    "SERVER_AUTHORIZED_URL = \"localhost\"\n",
    "EARTH_GRAVITY = 9.807"
   ]
  },
  {
   "cell_type": "markdown",
   "metadata": {},
   "source": [
    "---\n",
    "## ⚙️ Déboguer avec PDB\n",
    "\n",
    "Un outil extrêmement utile à tout moment est le **PDB**, aussi appelé **\"Python DeBugger\"**. En l'insérant en plein milieu de notre code, à l'endroit où cela nous arrange le plus, il mettre en pause l'exécution du code et nous proposer un terminal interactif (REPL).\n",
    "\n",
    "Pour l'insérer dans notre code, on doit normalement écrire ceci :\n",
    "\n",
    "`import pdb; pdb.set_trace()`\n",
    "\n",
    "Python 3.7 simplifie la chose et permet désormais désormais d'écrire au sein de notre code juste ceci :\n",
    "\n",
    "`breakpoint()`\n",
    "\n",
    "La particularité de ce REPL est qu'il se trouve réellement à l'endroit précis de votre code où vous avez appelé PDB : toutes les variables, les fonctions, les choses importées, sont disponibles. On peut donc lire la valeur de certaines variables, les modifier à la volée, puis par exemple reprendre l'exécution de code comme si de rien n'était.\n",
    "\n",
    "Il existe certaines **commandes** raccourcies qui sont disponibles uniquement dans ce REPL.\n",
    "\n",
    "* `q` (quit) pour faire s'arrêter l'exécution du code qui a appelé PDB\n",
    "* `c` (continue) pour reprendre l'exécution normale du code\n",
    "* `n` (next) pour n'exécuter que la ligne suivante dans le code et pauser à nouveau\n",
    "* `pp` (prettyprint) pour afficher \"joliment\" dans le terminal la valeur d'une variable\n",
    "\n",
    "Il suffit juste d'écrire ces courtes commandes et d'appuyer sur Entrée, comme si c'était des mots-clés."
   ]
  },
  {
   "cell_type": "markdown",
   "metadata": {},
   "source": [
    "---\n",
    "## ⚙️ Vérifier la présence dans un script\n",
    "\n",
    "Pour les fichiers Pyhton qui sont explicitement destinés à être des scripts que l'on appelle à l'aide de l'interpréteur Python, il existe quelque chose nous permettant d'être certain que notre fichier est bien appelé en tant que script, et non importé par un autre fichier (notion que l'on verra plus tard).\n",
    "\n",
    "Python met à disposition la variable magique `__name__` qui permet de connaître le nom du script dans lequel on se trouve. Par défaut, elle est égale à `\"__main__\"`, à moins que notre script ne soit importé par un autre script.\n",
    "\n",
    "Voilà pourquoi il suffit donc de vérifier que la variable `__name__` soit égale à `\"__main__\"` pour être certain que notre script est exécuté de façon indépendante.\n",
    "\n",
    "```\n",
    "if __name__ == \"__main__\":\n",
    "    (code à exécuter ici)\n",
    "```"
   ]
  },
  {
   "cell_type": "markdown",
   "metadata": {},
   "source": [
    "---\n",
    "\n",
    "# Exercice\n",
    "\n",
    "Après ce cours, l'exercice à réaliser est celui du dossier `textadventure`. Nous avons désormais assez de connaissance du langage pour réaliser un petit [jeu vidéo textuel](https://fr.wikipedia.org/wiki/Jeu_vid%C3%A9o_textuel) comme à l'époque ! "
   ]
  }
 ],
 "metadata": {
  "interpreter": {
   "hash": "d94eb1066f04d8685077601812ddd3c592b7f56086c802177159e4b57cd392de"
  },
  "kernelspec": {
   "display_name": "Python 3.9.2 64-bit",
   "language": "python",
   "name": "python3"
  },
  "language_info": {
   "codemirror_mode": {
    "name": "ipython",
    "version": 3
   },
   "file_extension": ".py",
   "mimetype": "text/x-python",
   "name": "python",
   "nbconvert_exporter": "python",
   "pygments_lexer": "ipython3",
   "version": "3.9.2"
  },
  "metadata": {
   "interpreter": {
    "hash": "d94eb1066f04d8685077601812ddd3c592b7f56086c802177159e4b57cd392de"
   }
  }
 },
 "nbformat": 4,
 "nbformat_minor": 4
}
