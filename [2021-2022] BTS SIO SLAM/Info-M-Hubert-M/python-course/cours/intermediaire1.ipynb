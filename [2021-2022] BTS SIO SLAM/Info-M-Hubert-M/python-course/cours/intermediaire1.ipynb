{
 "cells": [
  {
   "cell_type": "markdown",
   "metadata": {},
   "source": [
    "![Logo](../logo.png)\n",
    "\n",
    "# Intermédiaire ①\n",
    "\n",
    "Nous avons vu suffisemment de notions pour commencer l'usage de la programmation orientée objet dans Python, l'import de modules et l'usage de quelques bibliothèques standard (incluses dans Python).\n",
    "\n",
    "# Notions de ce cours\n",
    "\n",
    "* 🖊️ Les *args et **kwargs\n",
    "* 🖊️ Le déballage de valeurs\n",
    "* 🖊️ Retourner plusieurs valeurs\n",
    "* 🖊️ Les classes, attributs et méthodes\n",
    "* 🖊️ L'héritage\n",
    "* 🖊️ La capture des exceptions\n",
    "* 🔨 Fonctions built-in - open()\n",
    "* 🖊️ Le bloc with\n",
    "* 🖊️ L'import de modules\n",
    "* 🧰 Bibliothèque standard - random\n",
    "* 🧰 Bibliothèque standard - argparse"
   ]
  },
  {
   "cell_type": "markdown",
   "metadata": {},
   "source": [
    "---\n",
    "## 🖊️ Les *args et **kwargs\n",
    "\n",
    "On a observé plusieurs façons d'appeler une fonction qui accepte des arguments : soit en respectant l'ordre des augments définis par la fonction (arguments positionnels), soit à l'aide des mots-clés.\n",
    "\n",
    "Cependant, comment faire si l'on veut que notre fonction accepte un nombre indéterminé d'arguments ? Ou que l'on veuille accepter des arguments à mot-clé pour leur praticité, mais en laissant libre le choix de leur nom ?\n",
    "\n",
    "Avec ce que l'on a vu jusqu'ici, on peut penser au passage d'une liste à la place des arguments, ou alors au passage d'un dictionnaire à la place des arguments à mot-clé. Essayons cela :"
   ]
  },
  {
   "cell_type": "code",
   "execution_count": 1,
   "metadata": {},
   "outputs": [
    {
     "name": "stdout",
     "output_type": "stream",
     "text": [
      "6\n",
      "33\n",
      "sauce tomate : 25 grammes\n",
      "fromage : 50 grammes\n"
     ]
    }
   ],
   "source": [
    "def somme(nombres):\n",
    "    total = 0\n",
    "    for i in nombres:\n",
    "        total += i\n",
    "    print(total)\n",
    "    \n",
    "somme([4, 2])\n",
    "somme([10, 11, 12])\n",
    "\n",
    "def commander_pizza(aliments):\n",
    "    for key, value in aliments.items():\n",
    "        print(f\"{key} : {value} grammes\")\n",
    "\n",
    "commander_pizza({\"sauce tomate\": 25, \"fromage\": 50})"
   ]
  },
  {
   "cell_type": "markdown",
   "metadata": {},
   "source": [
    "En soi, cela fonctionne. Mais l'inconvénient est de devoir passer par des listes ou des dictionnaires qui encapsulent nos valeurs, et ce n'est pas très pratique à écrire non plus.\n",
    "\n",
    "Python propose une solution pour appeler nos fonctions comme d'habitude, mais avec un petit changement lors de la définition de leurs arguments : on va utiliser la notion d'emballage (packing). C'est à dire que, littéralement, le langage va capturer toutes les valeurs reçues et les emballer automatiquement dans un conteneur (liste, dictionnaire...). Cepandant, ça ne capturera pas les arguments passés à l'aide de mots clés.\n",
    "\n",
    "Il suffit d'écrire l'argument `*args` pour demander (grâce à l'étoile `*`) à emballer tous les arguments positionnels dans une unique variable qui s'appelle `vars`. Bien qu'il ne soit pas obligé d'appeler l'argument `args`, c'est une convention, et ça permet de se rappeler de son but."
   ]
  },
  {
   "cell_type": "code",
   "execution_count": 2,
   "metadata": {},
   "outputs": [
    {
     "name": "stdout",
     "output_type": "stream",
     "text": [
      "33\n"
     ]
    }
   ],
   "source": [
    "def somme(*args): # *args = [10, 11, 12]\n",
    "    total = 0\n",
    "    for i in args:\n",
    "        total += i\n",
    "    print(total)\n",
    "\n",
    "somme(10, 11, 12)"
   ]
  },
  {
   "cell_type": "markdown",
   "metadata": {},
   "source": [
    "Le comportement de la fonction n'a pas changé, mais son appel est désormais beaucoup plus simple !\n",
    "\n",
    "On peut faire la même chose lorque l'on désire accepter n'importe quel argument passé par un mot-clé. En écrivant `**kwargs`, Python va emballer (grâce aux deux étoiles `**`) tous les arguments à mot-clé dans un dictionnaire nommé `kwargs`, là aussi un nom choisi par convention (et faisant référenc à \"KeyWord ARGument\")."
   ]
  },
  {
   "cell_type": "code",
   "execution_count": 3,
   "metadata": {},
   "outputs": [
    {
     "name": "stdout",
     "output_type": "stream",
     "text": [
      "sauce_tomate : 25 grammes\n",
      "fromage : 50 grammes\n"
     ]
    }
   ],
   "source": [
    "def commander_pizza(**kwargs): # **kwargs = {\"sauce_tomate\": 25, \"fromage\": 50}\n",
    "    for key, value in kwargs.items():\n",
    "        print(f\"{key} : {value} grammes\")\n",
    "\n",
    "commander_pizza(sauce_tomate=25, fromage=50)"
   ]
  },
  {
   "cell_type": "markdown",
   "metadata": {},
   "source": [
    "Cette notion peut être un peu complexe, surtout sans voir de cas d'application concrets, mais il est fort probable que vous rencontriez des fonctions qui s'appellent de cette façon : vous savez désormais ce qui se trame derrière. "
   ]
  },
  {
   "cell_type": "markdown",
   "metadata": {},
   "source": [
    "---\n",
    "## 🖊️ Le déballage de valeurs\n",
    "\n",
    "À contrario de l'emballage (packing), Python peut également faire ce qu'on appelle un déballage (unpacking) de variables, afin d'extraire d'un seul coup plusieurs valeurs à partir d'un tuple, d'une liste, etc.\n",
    "\n",
    "La technique est semblable au fait d'attribuer une valeur à une variable. Il faut cependant écrire, à gauche de l'égal `=`, autant de noms de variables qu'il y a de valeurs dans ce que l'on veut déballer.\n",
    "\n",
    "Ci-dessous, on veut déballer les valeurs de la liste `donnees`, on écrira donc 3 noms de variables. Le 1er élément de la liste sera alors attrébué dans la variable `prenom`, le 2e élément dans la variable `nom`, et le 3e dans la variable `age`."
   ]
  },
  {
   "cell_type": "code",
   "execution_count": 4,
   "metadata": {},
   "outputs": [
    {
     "name": "stdout",
     "output_type": "stream",
     "text": [
      "Bonjour NOM Prenom, 21 ans\n"
     ]
    }
   ],
   "source": [
    "donnees = [\"Prenom\", \"NOM\", 21]\n",
    "prenom, nom, age = donnees # Déballage de la liste\n",
    "print(f\"Bonjour {nom} {prenom}, {age} ans\")"
   ]
  },
  {
   "cell_type": "markdown",
   "metadata": {},
   "source": [
    "C'est tout de même plus rapide et pratique que d'attribuer une à une, chaque valeur de la liste aux variables que l'on souhaite. Il y a aussi d'autres façons de déballer des valeurs, mais on verra ça plus tard.\n",
    "\n",
    "\n",
    "<details>\n",
    "  <summary>【💡 Spoiler】</summary>\n",
    "  On utilise une syntaxe différente pour déballer quelque chose au sein de l'appel d'une fonction.\n",
    "</details>"
   ]
  },
  {
   "cell_type": "markdown",
   "metadata": {},
   "source": [
    "---\n",
    "## 🖊️ Retourner plusieurs valeurs\n",
    "\n",
    "Grâce à la technique de déballage des valeurs, on peut voir quelque chose de très utile : faire en sorte qu'une fonction renvoie plusieurs valeurs à la fois. Enfin, techniquement, non : elle renverra un tuple, que l'on déballera ensuite vers plusieurs variables."
   ]
  },
  {
   "cell_type": "code",
   "execution_count": 5,
   "metadata": {},
   "outputs": [
    {
     "name": "stdout",
     "output_type": "stream",
     "text": [
      "Il faut cuire 60 sec à 900w.\n"
     ]
    }
   ],
   "source": [
    "def cuisson_microondes():\n",
    "    return 60, \"900w\" # En réalité, on écrit un tuple, mais sans les parenthèses autour ()\n",
    "\n",
    "secondes, puissance = cuisson_microondes() # On déballe le tuple retourné par la fonction\n",
    "\n",
    "print(f\"Il faut cuire {secondes} sec à {puissance}.\")"
   ]
  },
  {
   "cell_type": "markdown",
   "metadata": {},
   "source": [
    "---\n",
    "## 🖊️ Les classes, attributs et méthodes\n",
    "\n",
    "Un autre paradigme devenu omniprésent dans la plupart des langages (pas tous !) est celui de la programmation orientée objet (POO).\n",
    "\n",
    "Dans les exercices simples réalisés jusqu'ici, nous avions écrit dans un seul fichier de nombreuses variables et fonctions qui concernent et s'appliquent à différentes choses, ce qui est loin de l'idéal que l'on souhaite en programmation, où l'on sépare et range clairement notre code.\n",
    "\n",
    "La POO est un outil majeur pour nous aider à atteindre ce but. Elle permet de _regrouper_ tout ce qui _caractérise_ et peut _manipuler_ quelque chose dans ce qu'on appelle des _objets_. On a donc une _abstraction_ du comportement de ces objets, car tout qui les concerne est censé se dérouler en leur sein.\n",
    "\n",
    "L'objet est une notion difficile à appréhender lorsque l'on commence la programmation, on commence donc souvent par faire une comparaison avec le réel. Prenons l'exemple d'une voiture : \n",
    "\n",
    "* C'est un _objet_, construit en usine d'après un _plan_\n",
    "* Elle possède des _caractéristiques_ : taille, couleur, moteur, compte-tours...\n",
    "* On peut intéragir en y faisant des _actions_ : ouvrir la portière, démarrer le moteur...\n",
    "\n",
    "En termes de POO donc, on peut décrire un d'objet à l'aide d'une _classe_. Dans cette dernière, vous pourrez y définir des attributs (variables) ainsi que des _méthodes_ (fonctions). Mais cette classe n'est en soi qu'un patron de construction : pour vous en servir, il faudra en créer un exemplaire, on dit alors que l'on va créer une _instance_ de cette classe. C'est en créant cette instance que vous pouvez éventuellement en préciser les caractéristiques souhaitées.\n",
    "\n",
    "![Classe](../assets/class.png)\n",
    "\n",
    "Lorsque vous démarrez la voiture, vous tounrez juste une clé, mais cette dernière réalisera à ce moment des opérations complexes dont vous n'avez pas à vous en faire : c'est un peu ça, l'abstraction. Aussi, une usine de voitures crée plusieurs exemplaires de voitures basées sur le même modèle, mais dont les _caractéristiques_ changent selon les commandes des clients : un peu comme on instancie une classe.\n",
    "\n",
    "Toutes ces notions vous paraîtront plus clair à force de les voir appliquées dans le code, donc allons-y !"
   ]
  },
  {
   "cell_type": "code",
   "execution_count": 6,
   "metadata": {},
   "outputs": [],
   "source": [
    "class Train():\n",
    "    compagnie = \"JR Kyushu\"\n",
    "\n",
    "prochain_train = Train()"
   ]
  },
  {
   "cell_type": "markdown",
   "metadata": {},
   "source": [
    "La définition d'une classe se fait à l'aide du mot clé `class` suivi de son nom, au singulier, que l'on écrit par convention en \"CamelCase\", c'est à dire avec une majuscule à chaque mot. Tout ce qui se trouve dans la classe sera alors limité à son scope, comme une fonction (cf chapitre précédent).\n",
    "\n",
    "Si l'on souhaite systématiquement un attribut (variable) avec une valeur par défaut, on utilise donc un \"attribut de classe\", défini ici à la deuxième ligne.\n",
    "\n",
    "La dernière ligne va donc créer une instance de la classe (= l'instancier), en l'appellant par son nom comme si c'était une fonction.\n",
    "\n",
    "Pour l'insant, on ne peut pas faire grand chose avec cette classe. Essayons d'y écrire une méthode (fonction) pour que l'on puisse l'appeler à l'avenir."
   ]
  },
  {
   "cell_type": "code",
   "execution_count": 7,
   "metadata": {},
   "outputs": [
    {
     "name": "stdout",
     "output_type": "stream",
     "text": [
      "Je suis un train de la compagnie JR Kyushu.\n"
     ]
    }
   ],
   "source": [
    "class Train():\n",
    "    compagnie = \"JR Kyushu\"\n",
    "\n",
    "    def description(self):\n",
    "        return f\"Je suis un train de la compagnie {self.compagnie}.\"\n",
    "\n",
    "prochain_train = Train()\n",
    "print(prochain_train.description())"
   ]
  },
  {
   "cell_type": "markdown",
   "metadata": {},
   "source": [
    "Nous arrivons là à une particularité de Python. Pour accéder au scope (attributs, méthodes) de la classe, chaque méthode doit accepter l'argument spécial `self` qui représente l'instance de la classe en cours. Ce n'est donc pas un argument à passer lors de l'appel de la fonction (vous le voyez bien sur la dernière ligne).\n",
    "\n",
    "Grâce à ce `self`, on peut accéder aux attributs ou méthodes de l'instance. Ici, on lit l'attribut `compagnie` en écrivant `self.compagnie`\n",
    "\n",
    "Revenons sur l'instanciation de la classe, qui se fait comme une fonction... et bien justement, Python va en réalité appeler à ce moment une fonction de la classe : le _constructeur_.\n",
    "\n",
    "Pour ajouter un _constructeur_ à notre classe, il suffit de définir la méthode \"magique\" (car son nom est entouré de `__`) nommée `__init__`. Tous les arguments que l'on voudra accepter dans cette fonction devront alors être donnés lors de l'instanciation de la classe. Ici aussi, on retrouve l'argument spécial `self`.\n",
    "\n",
    "Fonction comme une autre, on peut définir des arguments à valeur par défaut dans le constructeur, et on peut l'appeler en utilisant des arugments à mot-clé."
   ]
  },
  {
   "cell_type": "code",
   "execution_count": 8,
   "metadata": {},
   "outputs": [
    {
     "name": "stdout",
     "output_type": "stream",
     "text": [
      "Le prochain train va à Kokura.\n",
      "Le suivant est un Limited Express allant vers Nagasaki.\n"
     ]
    }
   ],
   "source": [
    "class Train():\n",
    "    def __init__(self, destination, service=\"Local\"):\n",
    "        self.destination = destination\n",
    "        self.service = service\n",
    "\n",
    "premier_train = Train(\"Kokura\")\n",
    "second_train = Train(service=\"Limited Express\", destination=\"Nagasaki\")\n",
    "\n",
    "print(f\"Le prochain train va à {premier_train.destination}.\")\n",
    "print(f\"Le suivant est un {second_train.service} allant vers {second_train.destination}.\")"
   ]
  },
  {
   "cell_type": "markdown",
   "metadata": {},
   "source": [
    "Cette fois, au lieu d'appeler une méthode, on accède directement à l'attribut de l'instance (`prochain_train.destination`) pour lire sa valeur. On peut aussi directement changer sa valeur si on le souhaite, mais le principe de la POO est de laisser les classes fournir des méthodes pour changer leurs caractéristiques ou leur comportement - il faut donc vérifier au préalable si c'est gênant ou non.\n",
    "\n",
    "Voyons l'intérêt d'avoir des méthodes qui s'occupent de changer les attributs d'une instance :"
   ]
  },
  {
   "cell_type": "code",
   "execution_count": 9,
   "metadata": {},
   "outputs": [
    {
     "name": "stdout",
     "output_type": "stream",
     "text": [
      "Attention, le train à destination de Kokura ira désormais vers Mojiko.\n"
     ]
    }
   ],
   "source": [
    "class Train():\n",
    "    def __init__(self, destination):\n",
    "        self.destination = destination\n",
    "\n",
    "    def changer_destination(self, remplacement):\n",
    "        print(f\"Attention, le train à destination de {self.destination} ira désormais vers {remplacement}.\")\n",
    "        self.destination = remplacement\n",
    "\n",
    "prochain_train = Train(\"Kokura\")\n",
    "prochain_train.changer_destination(\"Mojiko\")"
   ]
  },
  {
   "cell_type": "markdown",
   "metadata": {},
   "source": [
    "On a pu voir qu'avant d'écraser l'ancienne valeur, la méthode a jugé bon d'informer du changement de direction : c'est un exemple parmi d'autres de l'intérêt de passer par des méthodes pour influencer des objets."
   ]
  },
  {
   "cell_type": "markdown",
   "metadata": {},
   "source": [
    "La méthode d'une classe peut bien sûr également renvoyer une ou plusieurs valeurs.\n",
    "\n",
    "Pour rappel, la classe ainsi que ses méthodes créeront chacun des scopes locaux, il faudra donc s'en souvenir lors de l'usage des attributs de la classe.\n",
    "\n",
    "![Scope classe](../assets/scope_class.png)"
   ]
  },
  {
   "cell_type": "code",
   "execution_count": 10,
   "metadata": {},
   "outputs": [
    {
     "name": "stdout",
     "output_type": "stream",
     "text": [
      "La trottinette a déjà parcourue 170 kilomètres.\n"
     ]
    }
   ],
   "source": [
    "class Trottinette():\n",
    "    kilometrage = 0\n",
    "    def __init__(self, kilometrage):\n",
    "        self.kilometrage = kilometrage\n",
    "\n",
    "    def ajouter_kilometrage(self, km):\n",
    "        self.kilometrage += km\n",
    "        return self.kilometrage\n",
    "\n",
    "trott_location = Trottinette(150)\n",
    "km = trott_location.ajouter_kilometrage(20)\n",
    "print(f\"La trottinette a déjà parcourue {km} kilomètres.\")"
   ]
  },
  {
   "cell_type": "markdown",
   "metadata": {},
   "source": [
    "---\n",
    "## 🖊️ L'héritage\n",
    "\n",
    "Une autre volonté du développement est de réutiliser le plus de code possible, et la POO encourage cela à travers ce qu'on appelle l'héritage : c'est le fait qu'une classe _hérite_ de tous les attributs et méthodes d'une autre classe, pour y rajouter ensuite ce qui est spécifique à son propre cas (voir remplacer des choses héritées si besoin).\n",
    "\n",
    "C'est un peu comme le fait qu'une voiture hybride hérite des caractéritiques d'une voiture, tout en étant sensiblement différent sur certains points.\n",
    "\n",
    "Pour faire hériter une classe d'une autre classe, on écrit leur nom dans les parenthèses qui suivent la définition de la classe."
   ]
  },
  {
   "cell_type": "code",
   "execution_count": 11,
   "metadata": {},
   "outputs": [
    {
     "name": "stdout",
     "output_type": "stream",
     "text": [
      "Il reste 20 litres d'essence.\n",
      "Il reste 20 litres d'essence.\n",
      "Il reste 80% d'électricité.\n"
     ]
    }
   ],
   "source": [
    "class Voiture():\n",
    "    reservoir = 20\n",
    "    def niveau_essence(self):\n",
    "        return f\"Il reste {self.reservoir} litres d'essence.\"\n",
    "\n",
    "class VoitureHybride(Voiture):\n",
    "    batterie = 80\n",
    "    def niveau_chargement_electrique(self):\n",
    "        return f\"Il reste {self.batterie}% d'électricité.\"\n",
    "\n",
    "yaris = Voiture()\n",
    "print(yaris.niveau_essence())\n",
    "\n",
    "auris = VoitureHybride()\n",
    "print(auris.niveau_essence())\n",
    "print(auris.niveau_chargement_electrique())"
   ]
  },
  {
   "cell_type": "markdown",
   "metadata": {},
   "source": [
    "On commence à voir le premier intérêt de l'héritage, qui est d'éviter de devoir recopier du code existant.\n",
    "\n",
    "Comme dit plus haut, on peut si besoin remplacer des attributs ou des méthodes existantes, tout simplement en les écrivant à nouveau dans la classe \"enfant\" qui hérite d'une autre classe : on parle alors d'override.\n",
    "\n",
    "Dans les méthodes de notre classe \"enfant\", on peut donc utiliser `super()` pour accéder aux attributs ou méthodes de la classe dont on hérite. \n",
    "\n",
    "Voyons désormais un autre point de la POO : le polymorphisme."
   ]
  },
  {
   "cell_type": "code",
   "execution_count": 12,
   "metadata": {},
   "outputs": [
    {
     "name": "stdout",
     "output_type": "stream",
     "text": [
      "Il reste 20 litres d'essence.\n",
      "Il reste 20 litres d'essence. Il reste 80% d'électricité.\n"
     ]
    }
   ],
   "source": [
    "class Voiture():\n",
    "    reservoir = 20\n",
    "    def niveaux(self):\n",
    "        return f\"Il reste {self.reservoir} litres d'essence.\"\n",
    "\n",
    "class VoitureHybride(Voiture):\n",
    "    batterie = 80\n",
    "    def niveaux(self):\n",
    "        resultat_voiture = super().niveaux()\n",
    "        return f\"{resultat_voiture} Il reste {self.batterie}% d'électricité.\"\n",
    "\n",
    "yaris = Voiture()\n",
    "print(yaris.niveaux())\n",
    "\n",
    "auris = VoitureHybride()\n",
    "print(auris.niveaux())"
   ]
  },
  {
   "cell_type": "markdown",
   "metadata": {},
   "source": [
    "Ici dans `VoitureHybride`, écrire `super().niveaux()` va appeler la méthode `niveaux()` de la classe `Voiture` afin de la récupérer sa valeur, puis y rajouter ce qui est spécifique aux voitrues hybrides. \n",
    "\n",
    "C'est là l'autre intérêt de l'héritage : bien qu'étant des instances de classes différentes, on peut toutes les considérer comme des `Voiture` en y appelant la même méthode. Ainsi, notre code sera déjà prêt aux nouveaux types de voiture qui hériteront de la même classe `Voiture`.\n",
    "\n",
    "On peut également overrider le constructeur dans une classe \"enfant\", tout en appelant le constructeur de la classe originale grâce à l'écriture `super().__init__()`, où il faille si besoin y passer les valeurs nécessaires au constructeur."
   ]
  },
  {
   "cell_type": "code",
   "execution_count": 13,
   "metadata": {},
   "outputs": [
    {
     "name": "stdout",
     "output_type": "stream",
     "text": [
      "Ceci est un train Local en direction de Ikebukuro.\n",
      "Ceci est un train Shinkansen en direction de Shin-Osaka.\n"
     ]
    }
   ],
   "source": [
    "class Train():\n",
    "    vitesse_max = 130\n",
    "    # Le constructeur accepte deux arguments\n",
    "    def __init__(self, destination, service):\n",
    "        self.destination = destination\n",
    "        self.service = service\n",
    "\n",
    "    def afficher_infos(self):\n",
    "        print(f\"Ceci est un train {self.service} en direction de {self.destination}.\")\n",
    "\n",
    "class Shinkansen(Train):\n",
    "    vitesse_max = 340\n",
    "    def __init__(self, destination):\n",
    "        # On transmet la destination reçue comme 1er argument au constructeur\n",
    "        # de la classe Train, et on donne soi-même le service\n",
    "        super().__init__(destination, \"Shinkansen\")\n",
    "\n",
    "yamanote = Train(\"Ikebukuro\", \"Local\")\n",
    "nozomi = Shinkansen(\"Shin-Osaka\")\n",
    "\n",
    "yamanote.afficher_infos()\n",
    "nozomi.afficher_infos()"
   ]
  },
  {
   "cell_type": "markdown",
   "metadata": {},
   "source": [
    "Vu qu'il n'y a pas de typage fort dans Python, on peut avoir besoin de vérifier manuellement si un objet est une instance d'une classe ou d'une autre à l'aide de la fonction `isinstance(objet, classe)` qui accepte une instance puis la classe contre laquelle vérifier."
   ]
  },
  {
   "cell_type": "code",
   "execution_count": 14,
   "metadata": {},
   "outputs": [
    {
     "name": "stdout",
     "output_type": "stream",
     "text": [
      "False\n",
      "True\n"
     ]
    }
   ],
   "source": [
    "print(isinstance(yaris, VoitureHybride)) # La Yaris n'est pas une VoitureHybride\n",
    "print(isinstance(auris, Voiture)) # Mais la Auris est une VoitureHybride qui hérite de Voiture"
   ]
  },
  {
   "cell_type": "markdown",
   "metadata": {},
   "source": [
    "---\n",
    "## 🖊️ La capture des exceptions\n",
    "\n",
    "Pendant la réalisation des précédents exercices, vous avez probablement déjà rencontré des erreurs. En Python, on les appelle des \"exceptions\", et elles peuvent survenir soit à cause d'un bug de votre code que vous pouvez corriger, soit parce qu'un cas imprévu est apparu et qu'il vous faut le prendre en considération pour éviter un arrêt immédiat du programme lorsque ça arrive. Dans ce dernier cas, on parle alors de \"capturer\" une exception.\n",
    "\n",
    "Pour cela, on va utiliser la structure `try/except/finally`. L'exemple ci-dessous va simplement capturer l'exception qui est levée par Python lorsque l'on divise par zéro : `ZeroDivisionError`. Pour info, les exceptions sont des classes."
   ]
  },
  {
   "cell_type": "code",
   "execution_count": 15,
   "metadata": {},
   "outputs": [
    {
     "name": "stdout",
     "output_type": "stream",
     "text": [
      "Il y a eu une exception : division by zero\n",
      "Calcul terminé.\n"
     ]
    }
   ],
   "source": [
    "division = 0\n",
    "resultat = None\n",
    "\n",
    "try:\n",
    "    resultat = 10 / division\n",
    "except ZeroDivisionError as err:\n",
    "    print(f\"Il y a eu une exception : {err}\")\n",
    "finally:\n",
    "    print(\"Calcul terminé.\")"
   ]
  },
  {
   "cell_type": "markdown",
   "metadata": {},
   "source": [
    "Le contenu du `try` sert à contenir le code qui risque de générer une exception.\n",
    "\n",
    "La déclaration du `except` va préciser l'exception que l'on désire capturer dans une variable (ici nommée tout simplement `err`) pour en lire ses informations. Le contenu du `except` s'exécutera si l'exception qui se produit est bien celle qui est attendue. On peut donc cumuler plusieurs `except` pour autant d'exceptions différentes que l'on voudra capturer.\n",
    "\n",
    "Enfin, le contenu du `finally` s'exécutera systématiquement, qu'il y ait une exception ou non, et ce surtout juste avant un arrêt du programme en cas d'exception non prévue. Cela permet de réaliser des opérations critiques (bien fermer un flux, un fichier), en cas d'erreur ou non.\n",
    "\n",
    "Dans le cas où l'on ne sache pas spécialement à quelle exception s'attendre, on va prendre avantage du fait que toutes les exceptions en Python soient des classes qui héritent de la classe `Exception`, afin de toutes les capturer sans distinction."
   ]
  },
  {
   "cell_type": "code",
   "execution_count": 16,
   "metadata": {},
   "outputs": [
    {
     "name": "stdout",
     "output_type": "stream",
     "text": [
      "Il y a un couic dans la conversion : 'int' object is not iterable\n"
     ]
    }
   ],
   "source": [
    "try:\n",
    "    conversion = list(42)\n",
    "except Exception as err:\n",
    "    print(f\"Il y a un couic dans la conversion : {err}\")"
   ]
  },
  {
   "cell_type": "markdown",
   "metadata": {},
   "source": [
    "---\n",
    "## 🔨 Fonctions built-in - open()\n",
    "\n",
    "Une des nombreuses fonctions de base permet simplement d'ouvrir des fichiers afin de les lire ou d'y écrire quelque chose. Il est possible de lire des fichiers binaires (image, son, vidéo...), mais la fonction ouvre par défaut les fichiers en \"mode textuel\".\n",
    "\n",
    "Le premier argument de la fonction `open()` représente le chemin du fichier auquel on veut accéder, et le deuxième argument est le mode d'ouverture du fichier : `r` pour le lire, `a` pour y écrire quelque chose en partant de la fin... Regardez la [documentation officielle](https://docs.python.org/3.9/library/functions.html#open) pour l'intégralité des modes disponibles.\n",
    "\n",
    "Il est toujours bon de préciser également l'encodage du fichier que l'on veut ouvrir, qui est généralement UTF-8, mais vous pourriez être amené à travailler avec d'autres encodages un jour."
   ]
  },
  {
   "cell_type": "code",
   "execution_count": 17,
   "metadata": {},
   "outputs": [
    {
     "name": "stdout",
     "output_type": "stream",
     "text": [
      "Hello from a file !\n",
      "\n"
     ]
    }
   ],
   "source": [
    "f = open('../assets/testfile.txt', 'r', encoding=\"utf-8\")\n",
    "try:\n",
    "    file_content = f.read()\n",
    "    print(file_content)\n",
    "finally:\n",
    "    f.close()"
   ]
  },
  {
   "cell_type": "markdown",
   "metadata": {},
   "source": [
    "---\n",
    "## 🖊️ Le bloc with\n",
    "\n",
    "Certaines manipulations en Python nécessitent d'être correctement terminées, qu'un code se termine avec succès ou non. Reprenons l'usage de la fonction pour ouvrir un fichier : grâce à l'usage du bloc `with`, Python ira automatiquement fermer l'accès au fichier une fois que l'on sera sorti du bloc.\n",
    "\n",
    "Profitons-en pour utiliser le mode `a` (append) lors de l'ouverture d'un fichier, afin de pouvoir écrire quelque chose à la fin du fichier. D'ailleurs, si le fichier visé n'existe pas, il sera automatiquement créé. Exécutez plusieurs fois le bloc de code pour observer son comportement !"
   ]
  },
  {
   "cell_type": "code",
   "execution_count": 18,
   "metadata": {},
   "outputs": [
    {
     "name": "stdout",
     "output_type": "stream",
     "text": [
      "Hello from a file !\n",
      "test... \n"
     ]
    }
   ],
   "source": [
    "# Écriture\n",
    "with open('../assets/testfile.txt', 'a', encoding=\"utf-8\") as f:\n",
    "    f.write(\"test... \")\n",
    "\n",
    "# Lecture\n",
    "with open('../assets/testfile.txt', 'r', encoding=\"utf-8\") as f:\n",
    "    print(f.read())"
   ]
  },
  {
   "cell_type": "markdown",
   "metadata": {},
   "source": [
    "---\n",
    "## 🖊️ L'import de modules\n",
    "\n",
    "En Python, comme dans d'autres langages, on veut toujours avoir le code le plus modulaire possible. Pour cela, il faut par exemple répartir notre code à travers plusieurs fichiers, et ces derniers sont souvent répartis à travers plusieurs dossiers et sous-dossiers pour bien les ranger.\n",
    "\n",
    "Lorsque notre code est réparti à travers des fichiers, il faut donc \"importer\" ce dont on a besoin. Le langage propose le mot-clé `import` afin d'importer ce qu'on appelle des \"modules\".\n",
    "\n",
    "【⚠️️Avertissement】Si vous modifiez le contenu d'un module, il faudra fermer et réouvrir ce notebook Jupyter pour que l'import prenne en compte les modifications. C'est une limitation liée uniquement aux notebooks Jupyter.\n",
    "\n",
    "### Importer un module\n",
    "\n",
    "En soi, tout fichier Python en `.py` peut être importé comme \"module\". On considère aussi comme module les bibliothèques standard de Python, ainsi que toutes les bibliothèques tierces que l'on installe.\n",
    "\n",
    "Lorsque l'on va utiliser `import [nom du module]`, Python va tenter de trouver un module correspondant à ce nom avec cet ordre précis :\n",
    "\n",
    "* Parmi les modules de la bibliothèque standard Python\n",
    "* Parmi les modules de bibliothèques tierces\n",
    "* Parmi les modules situés dans le même répertoire que le fichier Python en cours (ou du répertoire d'où est lancé un REPL Python)\n",
    "\n",
    "C'est pour ça qu'un module ne doit idéalement pas avoir le nom d'une bibliothèque standard ou tierce, sinon leur import sera extrêmement difficile et portera à confusion.\n",
    "\n",
    "Commençons par importer le fichier `exemple.py` préent dans le répertoire de ces cours, qui sera traité comme étant le module `exemple`. Par convention, on écrit toujours les imports dans les premières lignes de notre code."
   ]
  },
  {
   "cell_type": "code",
   "execution_count": 19,
   "metadata": {},
   "outputs": [
    {
     "name": "stdout",
     "output_type": "stream",
     "text": [
      "localhost:8080\n"
     ]
    }
   ],
   "source": [
    "import modulefichier\n",
    "\n",
    "print(modulefichier.SITE_URL)"
   ]
  },
  {
   "cell_type": "markdown",
   "metadata": {},
   "source": [
    "Lors de l'import de tout un module comme cela, `modulefichier` devient une variable qui représente le scope global du module importé. Pour accéder à la variable `SITE_URL` déclarée dans le fichier `modulefichier.py`, on peut désormais écrire `modulefichier.SITE_URL`\n",
    "\n",
    "Si l'on souhaite mélanger le scope global du module importé _dans_ le scope global de notre code actuel, on peut alors utiliser l'import étoile sous la forme `from [module] import *` : une chose à faire de préférence si vous êtes certains que rien ne viendra écraser des variables de votre code, entre autres."
   ]
  },
  {
   "cell_type": "code",
   "execution_count": 20,
   "metadata": {},
   "outputs": [
    {
     "name": "stdout",
     "output_type": "stream",
     "text": [
      "localhost:8080\n"
     ]
    }
   ],
   "source": [
    "from modulefichier import *\n",
    "\n",
    "print(SITE_URL)"
   ]
  },
  {
   "cell_type": "markdown",
   "metadata": {},
   "source": [
    "Si l'on connaît à l'avance ce que l'on veut importer d'un fichier, on peut toujours utiliser l'écriture `from [module] import [var]` mais en explicitant les variables à importer du module à la place de l'étoile `*`.\n",
    "\n",
    "Cela permet donc d'importer uniquement ce que l'on veut, et d'être certain de ne pas \"polluer\" le scope global de notre code en important trop de choses d'un coup."
   ]
  },
  {
   "cell_type": "code",
   "execution_count": 21,
   "metadata": {},
   "outputs": [
    {
     "name": "stdout",
     "output_type": "stream",
     "text": [
      "localhost:8080\n",
      "Info : Yo\n"
     ]
    }
   ],
   "source": [
    "from modulefichier import SITE_URL, informer\n",
    "\n",
    "print(SITE_URL)\n",
    "informer(\"Yo\")"
   ]
  },
  {
   "cell_type": "markdown",
   "metadata": {},
   "source": [
    "### Créer et importer un paquet\n",
    "\n",
    "Une autre façon de modulariser le code est simplement d'utiliser des dossiers pour y ranger différents fichiers. Dans ce cas là, un dossier s'appellera un \"paquet\" (package), qui contiendra plusieurs fichiers `.py` (modules) ou bien à son tour plusieurs dossiers (paquets).\n",
    "\n",
    "Pour informer Python du fait qu'un dossier doive se comporter comme un paquet que l'on peut importer, il faut systématiquement y créer dedans un fichier vide nommé `__init__.py`\n",
    "\n",
    "N'étant qu'un dossier, importer juste un paquet en soi ne sert évidemment à rien : on va surtout vouloir importer les modules qui sont en son sein. Ci-dessous, on peut importer le fichier `utils.py` du dossier `testpkg` de deux façons équivalentes, mais on utilise le plus souvent la première façon."
   ]
  },
  {
   "cell_type": "code",
   "execution_count": 22,
   "metadata": {},
   "outputs": [
    {
     "name": "stdout",
     "output_type": "stream",
     "text": [
      "2021\n"
     ]
    }
   ],
   "source": [
    "from testpkg import utils\n",
    "# Ou alors :\n",
    "#import teskpkg.utils\n",
    "\n",
    "print(utils.COMPANY_CREATION)"
   ]
  },
  {
   "cell_type": "markdown",
   "metadata": {},
   "source": [
    "On peut toujours décider d'en importer toutes les variables à la fois, ou d'importer seulement ce que l'on désire"
   ]
  },
  {
   "cell_type": "code",
   "execution_count": 23,
   "metadata": {},
   "outputs": [
    {
     "name": "stdout",
     "output_type": "stream",
     "text": [
      "2021\n"
     ]
    }
   ],
   "source": [
    "from testpkg.utils import COMPANY_CREATION\n",
    "\n",
    "print(COMPANY_CREATION)"
   ]
  },
  {
   "cell_type": "markdown",
   "metadata": {},
   "source": [
    "D'ailleurs, dans le cas où vous ayez plusieurs lignes d'imports, le [style guide PEP8](https://pybit.es/pep8.html) recommande de trier les lignes dans cet ordre précis :\n",
    "\n",
    "* Les modules de la bibliothèque standard Python\n",
    "* Les modules de bibliothèques tierces\n",
    "* Les modules de votre projet"
   ]
  },
  {
   "cell_type": "markdown",
   "metadata": {},
   "source": [
    "---\n",
    "## 🧰 Bibliothèque standard - random\n",
    "\n",
    "Maintenant que l'on sait bien importer des modules, on peut enfin commencer à se servir de la Bibliothèque standard incluse à Python qui propose énormément de choses très diverses : la [documentation officielle](https://docs.python.org/3.9/library/) en fait une liste exhaustive, dans la liste à points à partir de \"Text Processing Services\".\n",
    "\n",
    "Histoire d'avoir un peu d'aléatoire dans les exercices à venir, on peut utiliser la bibliothèque standard [random](https://docs.python.org/3.9/library/random.html). Attention cependant, cette Bibliothèque très simplifiée ne nous donnera que du \"pseudo-aléatoire\", il ne faut donc pas s'en servir pour des applications critiques (chiffrement de données, etc).\n",
    "\n",
    "Voici à mon avis les fonctions les plus utiles :\n",
    "\n",
    "* `.randint(debut, fin)` : renvoie un nombre entier aléatoire entre `[debut]` et `[fin]` inclus\n",
    "* `.choice(seq)` : renvoie un élément au hasard parmi la séquence fournie (liste, tuple...)\n",
    "* `.shuffle(seq)` : range au hasard les éléments de la séquence fournie\n"
   ]
  },
  {
   "cell_type": "code",
   "execution_count": 24,
   "metadata": {},
   "outputs": [
    {
     "name": "stdout",
     "output_type": "stream",
     "text": [
      "9\n",
      "gâteau\n",
      "['travailler', 'manger', 'boire', 'dormir']\n"
     ]
    }
   ],
   "source": [
    "import random\n",
    "\n",
    "nb = random.randint(0, 10)\n",
    "print(nb)\n",
    "\n",
    "dessert = random.choice([\"flan\", \"éclair\", \"gâteau\", \"glace\"])\n",
    "print(dessert)\n",
    "\n",
    "actions = [\"manger\", \"boire\", \"dormir\", \"travailler\"]\n",
    "# La fonction shuffle ne renvoie rien car elle modifie directement la séquence passée\n",
    "random.shuffle(actions)\n",
    "print(actions)\n"
   ]
  },
  {
   "cell_type": "markdown",
   "metadata": {},
   "source": [
    "---\n",
    "## 🧰 Bibliothèque standard - argparse\n",
    "\n",
    "Pour écrire des scripts en Python dignes de ce nom, l'idéal serait de pouvoir les appeler dans un terminal en leur passant des arguments. Par exemple, pour un script modifiant des images, il faudait pouvoir l'exécuter en lui précisant l'image que l'on veut modifier, le nouveau format voulu, la taille, etc.\n",
    "\n",
    "Une bibliothèque standard à Python, [argparse](https://docs.python.org/3.9/library/argparse.html), s'occupe à votre place de gérer le fait de recevoir des arguments, et permet même d'afficher dans le terminal une aide récapitulant tous les arguments acceptés par votre script.\n",
    "\n",
    "Pour faire simple : on crée une instance de l'`ArgumentParser` auquel on va ajouter tous les arguments que l'on souhaite recevoir (et s'ils sont optionnels, de quel type de valeur, etc), et on lui demande au moment nécessaire de traiter (parser) les arguments reçus par le script pour pouvoir s'en servir.\n",
    "\n",
    "Étant donné que son usage est prévue pour les scripts, on ne peut pas expérimenter avec dans ce notebook. Ouvrez un terminal, naviguez jusque dans le dossier `assets` de cours, et exécutez le fichier `argparse_example.py` de plusieurs façons :\n",
    "\n",
    "* `python argparse_example.py --help`\n",
    "* `python argparse_example.py testfile.txt`"
   ]
  },
  {
   "source": [
    "---\n",
    "\n",
    "# Exercice\n",
    "\n",
    "À la suite de ce cours, vous pourrez réaliser l'exercice situé dans le dossier `journal`."
   ],
   "cell_type": "markdown",
   "metadata": {}
  }
 ],
 "metadata": {
  "kernelspec": {
   "display_name": "Python 3",
   "language": "python",
   "name": "python3"
  },
  "language_info": {
   "codemirror_mode": {
    "name": "ipython",
    "version": 3
   },
   "file_extension": ".py",
   "mimetype": "text/x-python",
   "name": "python",
   "nbconvert_exporter": "python",
   "pygments_lexer": "ipython3",
   "version": "3.9.2"
  },
  "metadata": {
   "interpreter": {
    "hash": "d94eb1066f04d8685077601812ddd3c592b7f56086c802177159e4b57cd392de"
   }
  }
 },
 "nbformat": 4,
 "nbformat_minor": 4
}