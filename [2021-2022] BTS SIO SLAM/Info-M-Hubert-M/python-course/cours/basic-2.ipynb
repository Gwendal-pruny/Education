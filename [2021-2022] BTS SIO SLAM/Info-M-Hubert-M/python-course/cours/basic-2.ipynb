{
 "cells": [
  {
   "cell_type": "markdown",
   "metadata": {},
   "source": [
    "![Logo](../logo.png)\n",
    "\n",
    "![Header](../assets/header_basic-2.svg)\n",
    "\n",
    "# Basic ②\n",
    "\n",
    "Pour le second cours d'introduction, nous allons continuer à apprendre les bases du langage tout en commençant à utiliser des fonctions, qui apportent leur lot de notions complexes mais essentielles à comprendre.\n",
    "\n",
    "# Notions de ce cours\n",
    "\n",
    "* ⚙️ La portée des variables (1)\n",
    "* 🔨 Manipuler une chaîne de caractères\n",
    "* 🔨 ️Manipuler une liste\n",
    "* 🔨 ️Manipuler un dictionnaire\n",
    "* 🖊️ Formatage de chaînes de caractères\n",
    "* 🔨 Fonctions built-in - `input()`\n",
    "* 🔨 Fonctions built-in - `range()`\n",
    "* 🔨 Fonctions built-in - `enumerate()`\n",
    "* 🔨 Fonctions built-in - `len()`\n",
    "* ️🖊️ ️La boucle while"
   ]
  },
  {
   "cell_type": "markdown",
   "metadata": {},
   "source": [
    "---\n",
    "\n",
    "## ⚙️ La portée des variables (1)\n",
    "\n",
    "Avec l'usage des fonctions (et plus tard, des classes) apparaît un nouveau concept du langage : ce qu'on appelle la \"portée\" des variables.\n",
    "\n",
    "Lorsque l'on déclare une variable, on ne peut en réalité y accéder qu'au sein d'une certaine **région** du code. Au-delà de cette région, on ne peut pas y accéder.\n",
    "\n",
    "Cette région s'appelle en réalité une **portée**, car cela représente l'étendue dans laquelle une variable est accessible. On dira aussi **scope** en anglais.\n",
    "\n",
    "Au sein d'un simple fichier de code Python, il existe toujours une portée par défaut qui s'appelle la **portée globale** ou **scope global**. Dès que l'on y déclare une chose, elle sera alors accessible dans tout le reste du fichier.\n",
    "\n",
    "Nous avons vu qu'il existe de nombreux blocs permettant de délimiter du code :\n",
    "\n",
    "* Les structures conditionnelles `if`...\n",
    "* Les boucles `for` et `while`...\n",
    "* Les fonctions\n",
    "* Les classes\n",
    "\n",
    "Ces blocs vont tous créer à leur tour une **portée** qui leur est unique : elle s'appelle **portée locale** ou encore **scope local**. Cette portée sera alors **enfant** de la portée **parente** dans laquelle on aura déclarée ces blocs.\n",
    "\n",
    "Depuis cette nouvelle portée locale, on aura alors accès à toutes les variables de la portée dans laquelle il a été créé (la portée parente), et on pourra autant les lire que les modifier.\n",
    "\n",
    "![Scope 1](../assets/scope_1.svg)"
   ]
  },
  {
   "cell_type": "markdown",
   "metadata": {},
   "source": [
    "Il existe une règle fondamentale : au sein d'une **portée**, on peut accéder à tout ce qui est déclaré **en son sein** ou bien dans la **portée parente**. Mais impossible d'accéder à ce qui est éventuellement déclaré dans des **portées enfant**.\n",
    "\n",
    "Dans l'exemple ci-dessus, le code à l'intérieur du bloc `if` peut donc accéder aux variables de la portée globale (en bleu), mais l'on ne pourra pas accéder aux variables déclarées à l'intérieur du bloc `if` (en jaune) à partir de la portée globale."
   ]
  },
  {
   "cell_type": "markdown",
   "metadata": {},
   "source": [
    "---\n",
    "## 🔨 Manipuler une chaîne de caractères\n",
    "\n",
    "Pour rappel, une valeur (ou une variable) possède des **fonctions** que l'on peut appeler directement dessus, et qui changent selon leur **type**.\n",
    "\n",
    "Par exemple, pour toute chaîne de caractères (`str`), nous avons appeler dessus les fonctions suivantes :\n",
    "\n",
    "* `isdigit()` pour savoir si le contenu n'est composé que de chiffres\n",
    "* `replace()` pour remplacer de façon simple un texte par un autre\n",
    "* `join(list)` pour coller les chaînes d'une liste avec cette chaîne\n",
    "* `split(separateur)` pour découper une chaîne selon un séparateur et la transformer en liste\n",
    "* `upper()` pour tout passer en majuscules\n",
    "* `lower()` pour tout passer en minuscules\n",
    "\n",
    "N'hésitez pas à consulter la [documentation officielle Python](https://docs.python.org/3/library/stdtypes.html#string-methods) pour voir le reste des fonctions, dont certaines sont bien utiles."
   ]
  },
  {
   "cell_type": "code",
   "execution_count": 1,
   "metadata": {},
   "outputs": [
    {
     "data": {
      "text/plain": [
       "True"
      ]
     },
     "execution_count": 1,
     "metadata": {},
     "output_type": "execute_result"
    }
   ],
   "source": [
    "# Les fonctions peuvent s'appeler directement sur des valeurs...\n",
    "\"418\".isdigit()"
   ]
  },
  {
   "cell_type": "code",
   "execution_count": 2,
   "metadata": {},
   "outputs": [
    {
     "data": {
      "text/plain": [
       "'Bonne année 2022 !'"
      ]
     },
     "execution_count": 2,
     "metadata": {},
     "output_type": "execute_result"
    }
   ],
   "source": [
    "# ...et également sur des variables.\n",
    "texte = \"Bonne année 2021 !\"\n",
    "texte.replace(\"2021\", \"2022\")"
   ]
  },
  {
   "cell_type": "code",
   "execution_count": 3,
   "metadata": {},
   "outputs": [
    {
     "data": {
      "text/plain": [
       "'am, stram, gram'"
      ]
     },
     "execution_count": 3,
     "metadata": {},
     "output_type": "execute_result"
    }
   ],
   "source": [
    "mots = [\"am\", \"stram\", \"gram\"]\n",
    "\", \".join(mots)"
   ]
  },
  {
   "cell_type": "code",
   "execution_count": 4,
   "metadata": {},
   "outputs": [
    {
     "data": {
      "text/plain": [
       "['un', 'deux', 'trois']"
      ]
     },
     "execution_count": 4,
     "metadata": {},
     "output_type": "execute_result"
    }
   ],
   "source": [
    "\"un,deux,trois\".split(\",\")"
   ]
  },
  {
   "cell_type": "code",
   "execution_count": 5,
   "metadata": {},
   "outputs": [
    {
     "data": {
      "text/plain": [
       "'bonjour à tous'"
      ]
     },
     "execution_count": 5,
     "metadata": {},
     "output_type": "execute_result"
    }
   ],
   "source": [
    "\"bonjour à TOUS\".lower()"
   ]
  },
  {
   "cell_type": "markdown",
   "metadata": {},
   "source": [
    "---\n",
    "## 🔨 ️Manipuler une liste\n",
    "\n",
    "Maintenant que nous savons utiliser et parcourir une liste, voyons comment la manipuler.\n",
    "\n",
    "### Ajouter un élément \n",
    "\n",
    "En général, on veut ajouter un élément à la toute fin d'une liste. La fonction `.append(element)` justement sert à cela, en y passant comme argument l'élément à rajouter."
   ]
  },
  {
   "cell_type": "code",
   "execution_count": 6,
   "metadata": {},
   "outputs": [
    {
     "name": "stdout",
     "output_type": "stream",
     "text": [
      "['iPhone 13', 'iPhone 13 Pro']\n"
     ]
    }
   ],
   "source": [
    "phones = [\"iPhone 13\"]\n",
    "phones.append(\"iPhone 13 Pro\")\n",
    "\n",
    "print(phones)"
   ]
  },
  {
   "cell_type": "markdown",
   "metadata": {},
   "source": [
    "Aussi, la fonction `.insert(index, element)` nous permet d'insérer un nouvel élément dans une liste mais à la position que l'on souhaite.\n",
    "\n",
    "Si l'argument `index` vaut `0`, cela l'ajoutera donc en tout début de liste."
   ]
  },
  {
   "cell_type": "code",
   "execution_count": 7,
   "metadata": {},
   "outputs": [
    {
     "name": "stdout",
     "output_type": "stream",
     "text": [
      "['iPhone 13 Mini', 'iPhone 13']\n"
     ]
    }
   ],
   "source": [
    "phones = [\"iPhone 13\"]\n",
    "phones.insert(0, \"iPhone 13 Mini\")\n",
    "print(phones)"
   ]
  },
  {
   "cell_type": "markdown",
   "metadata": {},
   "source": [
    "### Remplacer un élément\n",
    "\n",
    "Les éléments d'une liste peuvent être directement modifiés, et ce bien sûr sans avoir à remplacer toute la liste.\n",
    "\n",
    "On utilise alors la même syntaxe (avec les crochets `[]`) que l'on utilise lorsque l'on souhaite **lire** un élément d'une liste, sauf que cette fois-ci, on y attribue une nouvelle valeur, comme si c'était une variable."
   ]
  },
  {
   "cell_type": "code",
   "execution_count": 8,
   "metadata": {},
   "outputs": [
    {
     "name": "stdout",
     "output_type": "stream",
     "text": [
      "['iPhone 13', 'iPhone SE']\n"
     ]
    }
   ],
   "source": [
    "phones = [\"iPhone 13\", \"iPhone 12\"]\n",
    "phones[1] = \"iPhone SE\"\n",
    "print(phones)"
   ]
  },
  {
   "cell_type": "markdown",
   "metadata": {},
   "source": [
    "### Supprimer un élément\n",
    "\n",
    "Il y a plusieurs façons de supprimer un élément d'une liste. La première est d'utiliser le mot clé `del` devant un élément d'une liste, pour qu'il soit immédiatement supprimé."
   ]
  },
  {
   "cell_type": "code",
   "execution_count": 9,
   "metadata": {},
   "outputs": [
    {
     "name": "stdout",
     "output_type": "stream",
     "text": [
      "['iOS 15', 'iOS 14']\n"
     ]
    }
   ],
   "source": [
    "versions = [\"iOS 15\", \"iOS 14.5\", \"iOS 14\"]\n",
    "del versions[1]\n",
    "print(versions)"
   ]
  },
  {
   "cell_type": "markdown",
   "metadata": {},
   "source": [
    "La seconde façon est d'utiliser la fonction `.pop()` qui va supprimer le dernier élément de la liste ET nous le renvoyer. On peut y passer comme argument optionnel un **index** afin de supprimer autre chose que le dernier élément."
   ]
  },
  {
   "cell_type": "code",
   "execution_count": 10,
   "metadata": {},
   "outputs": [
    {
     "name": "stdout",
     "output_type": "stream",
     "text": [
      "iOS 14\n",
      "['iOS 15', 'iOS 14.5']\n"
     ]
    }
   ],
   "source": [
    "versions = [\"iOS 15\", \"iOS 14.5\", \"iOS 14\"]\n",
    "old_version = versions.pop()\n",
    "print(old_version)\n",
    "print(versions)"
   ]
  },
  {
   "cell_type": "markdown",
   "metadata": {},
   "source": [
    "### Ordonner la liste\n",
    "\n",
    "Une autre façon de manipuler une liste est de tout simplement la réordonner.\n",
    "\n",
    "On a la fonction `.sort()` qui est bien pratique pour trier une liste par ordre de grandeur : par ordre croissant si les éléments sont des nombres, ou par ordre alphabétique s'ils sont des chaînes de caractères."
   ]
  },
  {
   "cell_type": "code",
   "execution_count": 11,
   "metadata": {},
   "outputs": [
    {
     "name": "stdout",
     "output_type": "stream",
     "text": [
      "[4, 12, 34, 87, 98]\n"
     ]
    }
   ],
   "source": [
    "points = [87, 12, 34, 98, 4]\n",
    "points.sort()\n",
    "print(points)"
   ]
  },
  {
   "cell_type": "markdown",
   "metadata": {},
   "source": [
    "\n",
    "Pour sa part, `.reverse()` inversera simplement l'ordre de tous les éléments d'une liste."
   ]
  },
  {
   "cell_type": "code",
   "execution_count": 12,
   "metadata": {},
   "outputs": [
    {
     "name": "stdout",
     "output_type": "stream",
     "text": [
      "['partez !', 'trois', 'deux', 'un']\n"
     ]
    }
   ],
   "source": [
    "depart = [\"un\", \"deux\", \"trois\", \"partez !\"]\n",
    "depart.reverse()\n",
    "print(depart)"
   ]
  },
  {
   "cell_type": "markdown",
   "metadata": {},
   "source": [
    "---\n",
    "## 🔨 ️Manipuler un dictionnaire\n",
    "\n",
    "Comme nous l'avons déjà vu, un dictionnaire a la particularité d'avoir des **clés uniques** pour chacun de ses éléments.\n",
    "\n",
    "### Ajouter un élément\n",
    "\n",
    "Pour rajouter un élément, il suffit d'assigner une valeur à une clé du dictionnaire qui n'existe pas encore."
   ]
  },
  {
   "cell_type": "code",
   "execution_count": 13,
   "metadata": {},
   "outputs": [
    {
     "name": "stdout",
     "output_type": "stream",
     "text": [
      "{'Paris': 21.5, 'Tokyo': 18.1, 'Taipei': 17.5}\n"
     ]
    }
   ],
   "source": [
    "cities_temperatures = {\"Paris\": 21.5, \"Tokyo\": 18.1}\n",
    "cities_temperatures[\"Taipei\"] = 17.5\n",
    "print(cities_temperatures)"
   ]
  },
  {
   "cell_type": "markdown",
   "metadata": {},
   "source": [
    "### Remplacer un élément\n",
    "\n",
    "Exactement de la même façon, il suffit d'assigner une nouvelle valeur à un élément en utilisant sa clé.\n",
    "\n",
    "Pour rappel, les clés sont sensibles à la casse, donc attention à ne pas créer par erreur un nouvel élément au lieu d'en remplacer un existant !"
   ]
  },
  {
   "cell_type": "code",
   "execution_count": 14,
   "metadata": {},
   "outputs": [
    {
     "name": "stdout",
     "output_type": "stream",
     "text": [
      "{'Salé': 5.5, 'Sucré': 4}\n"
     ]
    }
   ],
   "source": [
    "popcorn_prices = {\"Salé\": 5, \"Sucré\": 4}\n",
    "popcorn_prices[\"Salé\"] = 5.5\n",
    "print(popcorn_prices)"
   ]
  },
  {
   "cell_type": "markdown",
   "metadata": {},
   "source": [
    "### Supprimer un élément\n",
    "\n",
    "Comme une liste, on a deux façons de supprimer un élément d'un dictionnaire à partir de sa clé : tout d'abord, avec le mot-clé `del`."
   ]
  },
  {
   "cell_type": "code",
   "execution_count": 15,
   "metadata": {},
   "outputs": [
    {
     "name": "stdout",
     "output_type": "stream",
     "text": [
      "{'Paris': 21.5, 'Osaka': 19.2}\n"
     ]
    }
   ],
   "source": [
    "cities_temperatures = {\"Paris\": 21.5, \"Tokyo\": 18.1, \"Osaka\": 19.2}\n",
    "del cities_temperatures[\"Tokyo\"]\n",
    "print(cities_temperatures)"
   ]
  },
  {
   "cell_type": "markdown",
   "metadata": {},
   "source": [
    "Ensuite, on peut aussi utiliser la fonction `.pop()` qui renverra également la valeur de l'élément tout juste supprimé (et non pas sa clé !)."
   ]
  },
  {
   "cell_type": "code",
   "execution_count": 16,
   "metadata": {},
   "outputs": [
    {
     "name": "stdout",
     "output_type": "stream",
     "text": [
      "21.5\n",
      "{'Tokyo': 18.1}\n"
     ]
    }
   ],
   "source": [
    "cities_temperatures = {\"Paris\": 21.5, \"Tokyo\": 18.1}\n",
    "old = cities_temperatures.pop(\"Paris\")\n",
    "print(old)\n",
    "print(cities_temperatures)"
   ]
  },
  {
   "cell_type": "markdown",
   "metadata": {},
   "source": [
    "---\n",
    "\n",
    "## 🖊️ Formatage de chaînes de caractères\n",
    "\n",
    "Revoyons ce que donne la concaténanation de chaînes avec l'opérateur `+` avec plusieurs valeurs différentes. Cela peut devenir vite illisible, et devoir tout convertir en chaînes de caractères n'est pas pratique."
   ]
  },
  {
   "cell_type": "code",
   "execution_count": 17,
   "metadata": {},
   "outputs": [
    {
     "data": {
      "text/plain": [
       "'Il y a 20 équipes en J. League.'"
      ]
     },
     "execution_count": 17,
     "metadata": {},
     "output_type": "execute_result"
    }
   ],
   "source": [
    "league_name = \"J. League\"\n",
    "league_teams = 20\n",
    "\n",
    "\"Il y a \" + str(league_teams) + \" équipes en \" + league_name + \".\""
   ]
  },
  {
   "cell_type": "markdown",
   "metadata": {},
   "source": [
    "Python nous offre donc plusieurs moyens de \"formater\" des chaînes, c'est à dire y injecter des valeurs de différent types et ce de façon propre.\n",
    "\n",
    "Le moyen le plus \"vieux\" est appelé [formatage à la printf](https://docs.python.org/fr/3/library/stdtypes.html#printf-style-string-formatting). Il nécessite d'inclure des \"repères\" dans votre chaîne, puis de la faire suivre par un tuple ou un dictionnaire. Python écrirera alors dans l'ordre les valeurs passées à la place des repères."
   ]
  },
  {
   "cell_type": "code",
   "execution_count": 18,
   "metadata": {},
   "outputs": [
    {
     "data": {
      "text/plain": [
       "'En J. League, il y a 20 équipes.'"
      ]
     },
     "execution_count": 18,
     "metadata": {},
     "output_type": "execute_result"
    }
   ],
   "source": [
    "# Avec un tuple\n",
    "\"Il y a %d équipes en %s.\" % (league_teams, league_name)\n",
    "\n",
    "# Avec un dictionnaire\n",
    "\"En %(name)s, il y a %(count)d équipes.\" % {\"count\": league_teams, \"name\": league_name}"
   ]
  },
  {
   "cell_type": "markdown",
   "metadata": {},
   "source": [
    "Python 3.6 a apporté une nouvelle et meilleure façon de formater les chaînes : les [f-strings](https://realpython.com/python-f-strings/). Il suffit de précéder une chaîne avec la lettre `f` pour que Python sache que l'on voudra y injecter des variables, comme par exemple : `f\"\"`\n",
    "\n",
    "La force de cette méthode est que l'on peut carrément écrire des expressions au sein d'une chaîne, un peu comme lorsque l'on concaténait des chaînes.\n",
    "\n",
    "Il suffit d'insérer n'importe où dans notre chaîne des accolades `{}` pour que l'on puisse les remplir avec quelque chose : un nom de variable, quelques opérations sommaires, ou encore un appel à une fonction qui renvoie une valeur.\n",
    "\n",
    "<details>\n",
    "  <summary>【💡 Spoiler】</summary>\n",
    "    Il existe aussi une méthode avec le built-in <code>.format()</code>, vous pouvez toujours savoir qu'elle existe mais je ne juge pas nécessaire de l'apprendre désormais.\n",
    "</details>\n"
   ]
  },
  {
   "cell_type": "code",
   "execution_count": 19,
   "metadata": {},
   "outputs": [
    {
     "data": {
      "text/plain": [
       "'La J. League, crée il y a 28 ans, comporte 20 équipes.'"
      ]
     },
     "execution_count": 19,
     "metadata": {},
     "output_type": "execute_result"
    }
   ],
   "source": [
    "league_name = \"J. League\"\n",
    "league_creation = 1993\n",
    "league_teams = 20\n",
    "\n",
    "f\"La {league_name}, crée il y a {2021 - league_creation} ans, comporte {league_teams} équipes.\""
   ]
  },
  {
   "cell_type": "markdown",
   "metadata": {},
   "source": [
    "Attention cependant à ce que vous écrivez entre les accolades `{}` : vous ne pourrez pas du tout y écrire de guillements si votre chaîne de caractères est définie par des guillements, par exemple. Comme vu précédement, une solution peut être soit d'utiliser des apostrophes (lors de la lecture d'un dictionnaire), ou de définir votre chaîne par trois guillemets."
   ]
  },
  {
   "cell_type": "code",
   "execution_count": 20,
   "metadata": {},
   "outputs": [
    {
     "data": {
      "text/plain": [
       "\"L'équipe de football Gamba Osaka joue à domicile au stade Panasonic Stadium Suita.\""
      ]
     },
     "execution_count": 20,
     "metadata": {},
     "output_type": "execute_result"
    }
   ],
   "source": [
    "teams_stadiums = {\n",
    "    \"Gamba Osaka\": \"Panasonic Stadium Suita\"\n",
    "}\n",
    "\n",
    "f\"L'équipe de football Gamba Osaka joue à domicile au stade {teams_stadiums['Gamba Osaka']}.\""
   ]
  },
  {
   "cell_type": "markdown",
   "metadata": {},
   "source": [
    "---\n",
    "## 🔨 Fonctions built-in - `input()`\n",
    "\n",
    "Ensuite, voyons la fonction built-in `input()`. Elle est très utile pour les scripts s'exécutant dans un terminal, lorsque l'on souhaite demander une information à l'utilisateur, pour la stocker dans une variable.\n",
    "\n",
    "La fonction accepte un argument, qui sera affiché dans le terminal pour faire comprendre à l'utilisateur ce que l'on attends de sa part.\n",
    "\n",
    "![Input dans un terminal](../assets/input.png)\n",
    "\n",
    "La particularité de cette fonction est qu'elle est _bloquante_, c'est à dire que la suite du code ne s'exécutera pas tant que l'utilisateur n'appuie pas sur la touche Entrée.\n",
    "\n",
    "La valeur ensuite renvoyée par la fonction `input()` sera toujours une chaîne de caractères, même si l'utilisateur écrit un nombre. Ce sera donc à nous de la convertir manuellement, si l'on a demandé un nombre par exemple.\n",
    "\n",
    "Dans le cas de ce fichier ouvert dans VS Code, une invite s'ouvrira en haut de l'écran pour y écrire du texte si vous exécutez le bloc de code ci-dessous."
   ]
  },
  {
   "cell_type": "code",
   "execution_count": 21,
   "metadata": {},
   "outputs": [
    {
     "name": "stdout",
     "output_type": "stream",
     "text": [
      "Votre nom est : Test\n"
     ]
    }
   ],
   "source": [
    "nom = input(\"Nom : \")\n",
    "print(\"Votre nom est : \" + nom)"
   ]
  },
  {
   "cell_type": "markdown",
   "metadata": {},
   "source": [
    "---\n",
    "## 🔨 Fonctions built-in - `range()`\n",
    "La fonction _built-in_ `range()` crée à la volée une liste qui fera en sorte que vous ayez un nombre qui s'incrémente à chaque boucle, ce qui peut être très utile dans certains cas.\n",
    "\n",
    "Pour commencer de zéro jusqu'à un nombre non-inclus, utilisez `range(fin)`. Pour commencer à un nombre précis, utilisez `range(debut, fin)`, toujours avec le nombre `fin` non-inclus. On peut y rajouter un troisième argument optionel, qui détermine le nombre ajouté à chaque boucle, ce qui donne `range(debut, fin, pas)`. Si vous mettez donc le pas à `-1`, vous aurez un nombre qui se décrémente !"
   ]
  },
  {
   "cell_type": "code",
   "execution_count": 22,
   "metadata": {},
   "outputs": [
    {
     "name": "stdout",
     "output_type": "stream",
     "text": [
      "0\n",
      "1\n",
      "2\n",
      "---\n",
      "2\n",
      "3\n",
      "4\n",
      "---\n",
      "8\n",
      "7\n",
      "6\n",
      "5\n",
      "4\n"
     ]
    }
   ],
   "source": [
    "# Boucler de 0 à 2\n",
    "for i in range(3):\n",
    "    print(i)\n",
    "\n",
    "print(\"---\")\n",
    "\n",
    "# Boucler de 2 à 4\n",
    "for i in range(2, 5):\n",
    "    print(i)\n",
    "    \n",
    "print(\"---\")\n",
    "\n",
    "# Boucler de 8 à 4\n",
    "for i in range(8, 3, -1):\n",
    "    print(i)"
   ]
  },
  {
   "cell_type": "markdown",
   "metadata": {},
   "source": [
    "On peut bien sûr utiliser une boucle `for` associée à la fonction `range()` sans en utiliser la valeur retournée, juste afin de répéter des lignes de code plusieurs fois de suite."
   ]
  },
  {
   "cell_type": "code",
   "execution_count": 23,
   "metadata": {},
   "outputs": [
    {
     "name": "stdout",
     "output_type": "stream",
     "text": [
      "D'une époque où d'autres étaient déjà nostalgiques\n",
      "D'une époque où d'autres étaient déjà nostalgiques\n",
      "D'une époque où d'autres étaient déjà nostalgiques\n"
     ]
    }
   ],
   "source": [
    "# Le contenu de la boucle for sera exécuté 3 fois de suite\n",
    "for i in range(3):\n",
    "    print(\"D'une époque où d'autres étaient déjà nostalgiques\")"
   ]
  },
  {
   "cell_type": "markdown",
   "metadata": {},
   "source": [
    "---\n",
    "## 🔨 Fonctions built-in - `enumerate()`\n",
    "\n",
    "On a appris à parcourir des listes, des tuples et des dictionnaires. Mais que se passe t-il lorsque l'on veut absolument savoir à quelle itération l'on se trouve ? C'est à dire, quel nième élément est en train d'être parcouru par la boucle `for` ?\n",
    "\n",
    "Pour cela, on peut utiliser la fonction built-in `enumerate()`. Son rôle est \"d'englober\" quelque chose qui peut être parcouru, afin de renvoyer à la boucle `for` à la fois l'élément parcouru ainsi que sa position (donc son index)."
   ]
  },
  {
   "cell_type": "code",
   "execution_count": 24,
   "metadata": {},
   "outputs": [
    {
     "name": "stdout",
     "output_type": "stream",
     "text": [
      "Choix n°1 : Naruto\n",
      "Choix n°2 : Bleach\n",
      "Choix n°3 : One Piece\n",
      "---\n",
      "Top 1 - Burj Khalifa, mesurant 829 mètres\n",
      "Top 2 - Tokyo Skytree, mesurant 634 mètres\n",
      "Top 3 - Shanghai Tower, mesurant 632 mètres\n"
     ]
    }
   ],
   "source": [
    "mangas = [\"Naruto\", \"Bleach\", \"One Piece\"]\n",
    "highest_towers = {\n",
    "    \"Burj Khalifa\": 829,\n",
    "    \"Tokyo Skytree\": 634,\n",
    "    \"Shanghai Tower\": 632\n",
    "}\n",
    "\n",
    "# Parcours d'une liste en ayant l'index de l'élément parcouru\n",
    "for index, manga in enumerate(mangas):\n",
    "    print(f\"Choix n°{index + 1} : {manga}\")\n",
    "\n",
    "print(\"---\")\n",
    "\n",
    "# Parcours des clés d'un dictionnaire en ayant l'index de l'élément parcouru\n",
    "for index, tower in enumerate(highest_towers):\n",
    "    print(f\"Top {index + 1} - {tower}, mesurant {highest_towers[tower]} mètres\")"
   ]
  },
  {
   "cell_type": "markdown",
   "metadata": {},
   "source": [
    "---\n",
    "## 🔨 Fonctions built-in - `len()`\n",
    "\n",
    "La fonction `len()`, dont le nom est un raccourci de \"length\", accepte de nombreuses choses comme argument afin d'en calculer la **longueur**.\n",
    "\n",
    "Une chaîne de caractères étant techniquement une **liste** de plusieurs caractères, on peut alors avoir la longueur d'un texte en y comptant tous les caractères, même les espaces."
   ]
  },
  {
   "cell_type": "code",
   "execution_count": 25,
   "metadata": {},
   "outputs": [
    {
     "data": {
      "text/plain": [
       "11"
      ]
     },
     "execution_count": 25,
     "metadata": {},
     "output_type": "execute_result"
    }
   ],
   "source": [
    "len(\"Hello world\")"
   ]
  },
  {
   "cell_type": "markdown",
   "metadata": {},
   "source": [
    "On peut aussi récupérer le nombre d'éléments d'une liste, d'un tuple, d'un dictionnaire... et cela marche même pour les _itérateurs_, que l'on a aperçu dans le cours précédent."
   ]
  },
  {
   "cell_type": "code",
   "execution_count": 26,
   "metadata": {},
   "outputs": [
    {
     "data": {
      "text/plain": [
       "4"
      ]
     },
     "execution_count": 26,
     "metadata": {},
     "output_type": "execute_result"
    }
   ],
   "source": [
    "len([1996, 2001, 2007, 2012])"
   ]
  },
  {
   "cell_type": "markdown",
   "metadata": {},
   "source": [
    "---\n",
    "## 🖊️ ️La boucle while\n",
    "\n",
    "Dans certains cas, on veut exécuter plusieurs fois un bout de code tant qu'une **expression booléenne** a pour résultat \"vrai\", et ce jusqu'à ce que quelque chose rendre cette expression fausse (ou que l'on force la sortie de la boucle).\n",
    "\n",
    "On peut lire le `while` comme voulant dire en français \"tant que [expression booléenne est vraie], alors on exécute un bloc de code\".\n",
    "\n",
    "![Représentation du while](../assets/while.svg)\n",
    "\n",
    "C'est ici le premier point très important à propos du `while` : il faut **toujours** prévoir un moyen de s'en échapper, sinon on rentre alors dans ce qui s'appelle une **boucle infinie**. Le programme va alors exécuter parfois extrêmement rapidement les mêmes lignes de code, et souvent jusqu'à planter. C'est le genre de situation que l'on ne voudrait pas donc avoir dans une situation réelle.\n",
    "\n",
    "Parfois, on utilise ce genre de boucle à l'aide d'un nombre dont la valeur changera après chaque exécution des lignes de code.\n",
    "\n",
    "Notez sur l'exemple ci-dessous que le résultat de l'expression booléenne est toujours \"recalculé\" après la fin du bloc de code. Lors de la dernière itération, le nombre `i` passe à zéro, puis Python va revenir à la ligne où le `while` est défini : l'expression booléenne est désormais fausse, et donc le `while` s'arrête."
   ]
  },
  {
   "cell_type": "code",
   "execution_count": 27,
   "metadata": {
    "tags": []
   },
   "outputs": [
    {
     "name": "stdout",
     "output_type": "stream",
     "text": [
      "5\n",
      "4\n",
      "3\n",
      "2\n",
      "1\n",
      "Bonne année !\n"
     ]
    }
   ],
   "source": [
    "i = 5\n",
    "while i > 0:\n",
    "    print(i)\n",
    "    i -= 1\n",
    "print(\"Bonne année !\")"
   ]
  },
  {
   "cell_type": "markdown",
   "metadata": {},
   "source": [
    "Exactement comme avec les boucles `for`, on peut utiliser les mots clés `continue` et `break` pour contrôler l'exécution d'un `while`.\n",
    "\n",
    "Leur usage est toujours utile, par exemple si votre code prévoit des possibilités qui rendent nécessaire le fait de sauter une itération avec `continue` ou bien d'arrêter la boucle avec `break`."
   ]
  },
  {
   "cell_type": "code",
   "execution_count": 28,
   "metadata": {},
   "outputs": [
    {
     "name": "stdout",
     "output_type": "stream",
     "text": [
      "Il faudra racheter : stylo\n",
      "Il faudra racheter : chaise\n",
      "Les chats ne se commandent pas !\n",
      "Il faudra racheter : clavier\n"
     ]
    }
   ],
   "source": [
    "produits = [\"stylo\", \"chaise\", \"chat\", \"clavier\"]\n",
    "\n",
    "while len(produits) > 0: # Tant qu'il y a au moins 1 élément dans la liste...\n",
    "    objet = produits[0] # On mets de côté le premier élément de la liste\n",
    "    del produits[0] # Puis on supprime le premier élément de la liste\n",
    "    if objet == \"chat\": # On regarde ce qui a été mis de côté\n",
    "        print(\"Les chats ne se commandent pas !\")\n",
    "        continue\n",
    "    print(f\"Il faudra racheter : {objet}\")"
   ]
  },
  {
   "cell_type": "code",
   "execution_count": 29,
   "metadata": {},
   "outputs": [
    {
     "name": "stdout",
     "output_type": "stream",
     "text": [
      "Recherche... 7\n",
      "Recherche... 8\n",
      "Recherche... 9\n",
      "Multiple de 5 trouvé : 10\n",
      "La boucle while va s'arrêter ici.\n"
     ]
    }
   ],
   "source": [
    "number = 7\n",
    "\n",
    "while number < 20:\n",
    "    if number % 5 == 0: # On vérifie le reste d'une division par 5 \n",
    "        print(f\"Multiple de 5 trouvé : {number}\")\n",
    "        print(\"La boucle while va s'arrêter ici.\")\n",
    "        break\n",
    "    print(f\"Recherche... {number}\")\n",
    "    number += 1"
   ]
  },
  {
   "cell_type": "markdown",
   "metadata": {},
   "source": [
    "Il est fréquent de croiser des `while True` qui seront forcément stoppés à l'aide d'un de ces mots clés pour éviter de tomber dans une **boucle infinie**, et c'est là où il faudra redoubler d'attention. Qu'importe le contenu des lignes de code du bloc `while`, il faudra toujours que l'on puisse s'arrêter d'une façon ou d'une autre.\n",
    "\n",
    "On peut par exemple imaginer le simple fait de faire deviner un nombre au hasard à un utilisateur, qui peut écrire un nombre dans le terminal : tant qu'il n'a pas trouvé OU tant qu'il n'a pas écrit \"abandonner\", la boucle continue à l'infini pour demander d'entrer quelque chose."
   ]
  },
  {
   "cell_type": "code",
   "execution_count": 30,
   "metadata": {},
   "outputs": [
    {
     "name": "stdout",
     "output_type": "stream",
     "text": [
      "abcxxxxxxx\n"
     ]
    }
   ],
   "source": [
    "collage = \"abc\"\n",
    "\n",
    "while True:\n",
    "    collage = collage + \"x\"\n",
    "    if len(collage) == 10:\n",
    "        break\n",
    "\n",
    "print(collage)"
   ]
  },
  {
   "cell_type": "markdown",
   "metadata": {},
   "source": [
    "---\n",
    "\n",
    "# Exercice\n",
    "\n",
    "Après ce cours, l'exercice à réaliser est celui du dossier `billetterie`."
   ]
  }
 ],
 "metadata": {
  "interpreter": {
   "hash": "d94eb1066f04d8685077601812ddd3c592b7f56086c802177159e4b57cd392de"
  },
  "kernelspec": {
   "display_name": "Python 3.9.2 64-bit",
   "language": "python",
   "name": "python3"
  },
  "language_info": {
   "codemirror_mode": {
    "name": "ipython",
    "version": 3
   },
   "file_extension": ".py",
   "mimetype": "text/x-python",
   "name": "python",
   "nbconvert_exporter": "python",
   "pygments_lexer": "ipython3",
   "version": "3.9.2"
  },
  "metadata": {
   "interpreter": {
    "hash": "d94eb1066f04d8685077601812ddd3c592b7f56086c802177159e4b57cd392de"
   }
  }
 },
 "nbformat": 4,
 "nbformat_minor": 4
}
