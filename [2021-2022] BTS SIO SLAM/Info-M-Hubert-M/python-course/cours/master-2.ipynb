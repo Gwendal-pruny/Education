{
 "cells": [
  {
   "cell_type": "markdown",
   "metadata": {},
   "source": [
    "![Logo](../logo.png)\n",
    "\n",
    "![Header](../assets/header_master-2.svg)\n",
    "\n",
    "# Master ②\n",
    "\n",
    "TODO\n",
    "\n",
    "# Notions de ce cours\n",
    "\n",
    "* 🖊️ Les fonctions anonymes\n",
    "* 🖊️ Assignment expression\n",
    "* 🖊️ Dataclass\n",
    "* 🖊️ Coroutines et async/await\n",
    "* 🖊️ Le type hinting"
   ]
  }
 ],
 "metadata": {
  "kernelspec": {
   "display_name": "Python 3",
   "language": "python",
   "name": "python3"
  },
  "language_info": {
   "codemirror_mode": {
    "name": "ipython",
    "version": 3
   },
   "file_extension": ".py",
   "mimetype": "text/x-python",
   "name": "python",
   "nbconvert_exporter": "python",
   "pygments_lexer": "ipython3",
   "version": "3.9.2"
  },
  "metadata": {
   "interpreter": {
    "hash": "d94eb1066f04d8685077601812ddd3c592b7f56086c802177159e4b57cd392de"
   }
  }
 },
 "nbformat": 4,
 "nbformat_minor": 4
}
