{
    "cells": [
        {
            "cell_type": "markdown",
            "source": [
                "![Logo](../logo.png)\r\n",
                "\r\n",
                "# Introduction théorique à la programmation\r\n",
                "\r\n",
                "Qu'importe l'appareil électronique, que ce soit un ordinateur, un robot industriel ou une console de jeu vidéo, la seule chose qu'ils peuvent comprendre afin de fonctionner est le **binaire** : une suite de 0 ou de 1, envoyés dans un certain ordre, afin que les puces exécutent les opérations que l'on souhaite.\r\n",
                "\r\n",
                "Étant extrêmement difficile voir impossible pour un humain de réfléchir et d'écrire du binaire, on a quasiment toujours utilisé des **langages de programmation**. Ces derniers nous permettent d'écrire les opérations et le processus que l'on souhaite exécuter, et ils prennent le soin de se transformer en binaire compréhensible par l'appareil qui nous intéresse.\r\n",
                "\r\n",
                "Ce que le développeur écrit, dans un certain langage de programmation, s'appelle alors du **code source**. Il est probable qu'un programme utilise plusieurs fichiers de code source, mais certains ne tiennent que dans un seul fichier, on les appelle alors parfois des **scripts**. On édite généralement ces fichiers à l'aide d'un logiciel nommé un **éditeur de code**, ou encore un **IDE** (Integrated Development Environment).\r\n",
                "\r\n",
                "On dit alors que les langages de programmation font **abstraction** du matériel, et certains langages le font plus ou moins. Le [**langage assembleur**](https://fr.wikipedia.org/wiki/Assembleur) reste spécifique à chaque type de processeur existant, on dit qu'il a un **bas niveau** d'abstraction du matériel. Alors qu'un langage comme [**Java**](https://fr.wikipedia.org/wiki/Java_(langage)) ou [**C#**](https://fr.wikipedia.org/wiki/C_sharp) nous permettent de développer sans trop d'occuper du processeur ou du système d'exploitation qui exécutera notre code, ils ont donc un **haut niveau** d'abstraction du matériel.\r\n",
                "\r\n",
                "---\r\n",
                "\r\n",
                "## Les langages de programmation\r\n",
                "\r\n",
                "Tout comme une langue vivante, il faut strictement respecter les règles posées par un langage de programmation afin de s'en servir correctement.\r\n",
                "\r\n",
                "Même si une orthographe parfaite n'est pas nécessaire pour comprendre un texte, il vaut mieux écrire du code source de façon propre et intelligente, car la lecture facile d'un code est très important.\r\n",
                "\r\n",
                "Pour aider les développeurs, il existe pour langage de programmation ce que l'on appelle des **conventions de syntaxe** et des **conventions de nommage**, mais leur usage reste optionnel. Ces conventions sont proposés par les créateurs des langages de programmation, ou par des entreprises expertes qui ont su déterminer de bonnes idées grâce à leur expérience.\r\n",
                "\r\n",
                "Si l'on utilise mal un langage de programmation, ou que l'on a oublié de prévoir certaines possibilités dans les opérations réalisées, des **erreurs** plus ou moins graves peuvent survenir. Aujourd'hui, les éditeurs de code et d'autres outils nous aident à détecter certaines erreurs avant même que l'on exécute notre code, mais il est impossible de toutes les détecter. Pour faciliter la correction d'erreurs, ce que l'on appelle le **débogage**, on a d'autres outils qui nous donnent par exemple des rapports complet sur ce qu'il s'est passé au moment d'une erreur afin de comprendre la situation.\r\n",
                "\r\n",
                "Pour débuter la programmation, le langage [**Python**](https://fr.wikipedia.org/wiki/Python_(langage)) est très souvent choisi. Non pas parce qu'il est limité ou trop simple, mais parce qu'il a une syntaxe relativement accessible aux débutants, ce qui lève déjà un obstacle conséquent. La lecture d'un code écrit en Python s'apparente parfois à lire de l'anglais ou encore de l'algorithmique, ce qui est un avantage indéniable."
            ],
            "metadata": {}
        },
        {
            "cell_type": "markdown",
            "source": [
                "---\r\n",
                "\r\n",
                "## Les valeurs\r\n",
                "\r\n",
                "La première notion à connaître est celle des valeurs. Une valeur est tout simplement une donnée, et c'est généralement grâce à cela que notre programme prend sa réelle utilité.\r\n",
                "\r\n",
                "Une valeur peut-être la description de quelque chose du monde réel (le nom de quelqu'un, la population d'une ville, le prix d'un article, une température...) ou bien encore quelque chose qui sera utile à la logique de notre programme.\r\n",
                "\r\n",
                "En Python, il faut suivre certaines règles pour écrire certaines valeurs. Le texte, que l'on appelle communément **chaîne de caractères** (**string**), doit s'écrire entre guillemets `\"` ou entre apostrophes `'`."
            ],
            "metadata": {}
        },
        {
            "cell_type": "code",
            "execution_count": 1,
            "source": [
                "\"Ceci est un texte\""
            ],
            "outputs": [
                {
                    "output_type": "execute_result",
                    "data": {
                        "text/plain": [
                            "'Ceci est un texte'"
                        ]
                    },
                    "metadata": {},
                    "execution_count": 1
                }
            ],
            "metadata": {}
        },
        {
            "cell_type": "markdown",
            "source": [
                "Un nombre entier s'écrit évidemment tel quel.\r\n",
                "\r\n",
                "Pour écrire un nombre à virgule cependant, le séparateur décimal est le point `.` et non pas la virgule `,` comme on a pourtant l'habitude en français, car Les langages de programmation adoptent généralement les conventions d'écriture de l'anglais."
            ],
            "metadata": {}
        },
        {
            "cell_type": "code",
            "execution_count": 2,
            "source": [
                "25.6"
            ],
            "outputs": [
                {
                    "output_type": "execute_result",
                    "data": {
                        "text/plain": [
                            "25.6"
                        ]
                    },
                    "metadata": {},
                    "execution_count": 2
                }
            ],
            "metadata": {}
        },
        {
            "cell_type": "markdown",
            "source": [
                "On peut déjà réaliser de nombreuses choses avec plusieurs valeurs, comme par exemple des **opérations arithmétiques**.\r\n",
                "\r\n",
                "Lorsque la ligne suivante sera exécutée, on obtiendra alors comme résultat la valeur **10**. Bien sûr, changer une des valeurs changera le résultat de l'opération.\r\n",
                "\r\n",
                "Au lieu d'écrire directement une valeur au sein de son code, on peut préférer l'écriture d'une opération, un peu comme les formules dans un tableur (Excel...)."
            ],
            "metadata": {}
        },
        {
            "cell_type": "code",
            "execution_count": 18,
            "source": [
                "3 + 7"
            ],
            "outputs": [
                {
                    "output_type": "execute_result",
                    "data": {
                        "text/plain": [
                            "10"
                        ]
                    },
                    "metadata": {},
                    "execution_count": 18
                }
            ],
            "metadata": {}
        },
        {
            "cell_type": "markdown",
            "source": [
                "Jusqu'ici, on a vu des valeurs de nature différentes : du texte ou des nombres. En informatique, cette nature s'appelle un **type**, et chaque valeur est systématiquement d'un certain type. Le texte est de type **string**, un nombre entier est un **integer**, un nombre décimal est un **float**, etc.\r\n",
                "\r\n",
                "Le type d'une valeur permet au langage de programmation de la gérer correctement. Cela permet par exemple d'éviter que l'on essaye de soustraire un nombre (**integer**) à un texte (**string**), etc.\r\n",
                "\r\n",
                "La logique d'un programme informatique impose très souvent de comparer des valeurs entre elles. Écrire une comparaison s'appelle une **expression booléenne**. Une fois exécutée, on obtient toujours soit la valeur \"vrai\" (**True**) ou \"faux\" (**False**).\r\n",
                "\r\n",
                "Ces valeurs \"vrai\" et \"faux\" s'appellent des **booléens**. Elles seront très utiles par la suite."
            ],
            "metadata": {}
        },
        {
            "cell_type": "code",
            "execution_count": 4,
            "source": [
                "300 > 200"
            ],
            "outputs": [
                {
                    "output_type": "execute_result",
                    "data": {
                        "text/plain": [
                            "True"
                        ]
                    },
                    "metadata": {},
                    "execution_count": 4
                }
            ],
            "metadata": {}
        },
        {
            "cell_type": "markdown",
            "source": [
                "---\r\n",
                "## Les variables\r\n",
                "\r\n",
                "Une **variable** permet de faire référence à une **valeur** en lui attribuant un **nom** de notre choix, et cette valeur pourra alors être lue ou modifiée dans notre code source en utilisant ce nom.\r\n",
                "\r\n",
                "Plutôt que de donner un nom à une valeur selon ce qu'elle est actuellement, on donne plutôt un nom selon ce que l'on souhaite représenter. Par exemple une variable de \"température extérieure\" aura logiquement une valeur qui change au fil d'une journée, mais on pourra facilement y faire référence au sein de notre code grâce à son nom qui est facile à comprendre.\r\n",
                "\r\n",
                "C'est grâce aux variables que la programmation prend son intérêt, car l'on peut stocker et manipuler de nombreuses valeurs, et les noms de ces variables aident à bien comprendre la logique informatique que l'on souhaite coder.\r\n",
                "\r\n",
                "Parfois, c'est au développeur de préciser explicitement le type de la variable, mais ce n'est pas le cas de Python qui le devine à notre place selon la valeur qui est donnée.\r\n",
                "\r\n",
                "Lorsque l'on crée une variable en lui donnant une valeur, on parle d'**attribution de variable**. Ci-dessous, on attribue donc une variable par ligne."
            ],
            "metadata": {}
        },
        {
            "cell_type": "code",
            "execution_count": 5,
            "source": [
                "age = 19\r\n",
                "temperature_interieure = 12\r\n",
                "temperature_exterieure = 25.3\r\n",
                "langue = \"Français\""
            ],
            "outputs": [],
            "metadata": {}
        },
        {
            "cell_type": "markdown",
            "source": [
                "Pour modifier la valeur d'une variable existante, la syntaxe est la même."
            ],
            "metadata": {}
        },
        {
            "cell_type": "code",
            "execution_count": 6,
            "source": [
                "age = 20"
            ],
            "outputs": [],
            "metadata": {}
        },
        {
            "cell_type": "markdown",
            "source": [
                "Lorsque l'on prépare une nouvelle variable, on peut également y écrire une **opération arithmétique** voire même une **expression booléenne** pour en stocker le résultat."
            ],
            "metadata": {}
        },
        {
            "cell_type": "code",
            "execution_count": 7,
            "source": [
                "temperature_interieure = 12 - 2"
            ],
            "outputs": [],
            "metadata": {}
        },
        {
            "cell_type": "markdown",
            "source": [
                "Dans notre code source, à chaque endroit où l'on peut écrire une **valeur**, on peut également écrire le **nom d'une variable** afin d'utiliser la valeur qui y est stockée.\r\n",
                "\r\n",
                "Au sein d'une **opération arithmétique** ou d'une **expression booléenne** par exemple, utiliser des variables pourra faire varier leur résultat."
            ],
            "metadata": {}
        },
        {
            "cell_type": "code",
            "execution_count": 19,
            "source": [
                "majeur = age > 17"
            ],
            "outputs": [],
            "metadata": {}
        },
        {
            "cell_type": "markdown",
            "source": [
                "Cela permet aussi, par exemple, de modifier une variable selon sa valeur actuelle.\r\n",
                "\r\n",
                "La ligne ci-dessous va tout simplement attribuer à la variable **age** une nouvelle valeur, qui consiste à la valeur actuelle de **age** à laquelle on soustrait soustraire 1."
            ],
            "metadata": {}
        },
        {
            "cell_type": "code",
            "execution_count": 9,
            "source": [
                "age = age - 1"
            ],
            "outputs": [],
            "metadata": {}
        },
        {
            "cell_type": "markdown",
            "source": [
                "---\r\n",
                "## Les blocs logiques\r\n"
            ],
            "metadata": {}
        },
        {
            "cell_type": "markdown",
            "source": [
                "Un autre élément primordial à tout programme informatique est la présence de **blocs logiques**, c'est à dire que l'on déteminera que certaines lignes de codes devront s'exécuter dans un certain cas, et pas dans un autre. Grâce à cela, on peut alors transcrire un processus logique en code source.\r\n",
                "\r\n",
                "Pour les définir, il nous faudra utiliser les **mot-clés** proposés par le langage de programmation. Le bloc le plus simple est le bloc **if**.\r\n",
                "\r\n",
                "Dans le code ci-dessous, le mot-clé **if** indique que ce qui suivra sera alors une **expression booléenne**, sans oublier les deux-points `:` à la toute fin. Si celle-ci a pour résultat **\"vrai\"** lors de l'exécution du programme, alors les lignes contenues dans le bloc **if** seront exécutées, et sinon, elles seront ignorées.\r\n",
                "\r\n",
                "Pour différencier les lignes de code qui \"font partie\" du bloc if, et qui devront alors être exécutées si son expression booléenne est vraie, on va devoir rajouter une **indentation** au début de celles-ci. Concrètement, il faudra rajouter **4 espaces** de plus au début de chaque ligne, comparé à la ligne précédente. On dit dans ce cas-là que l'on **rajoute un niveau d'indentation**.\r\n",
                "\r\n",
                "Dans la plupart des langages de programmation, l'indentation est une chose purement cosmétique pour aider le développeur à mieux lire son code source en voyant clairement comment sont imbriquées les lignes de code, mais dans le cas du langage **Python**, l'indentation est nécessaire pour indiquer les lignes de code faisant partie d'une bloc."
            ],
            "metadata": {}
        },
        {
            "cell_type": "code",
            "execution_count": 21,
            "source": [
                "if 10 > 5:\r\n",
                "    print(\"oui\")"
            ],
            "outputs": [],
            "metadata": {}
        },
        {
            "cell_type": "markdown",
            "source": [
                "Bien sûr, lorsque l'on a un autre bloc imbriqué dans un bloc, les lignes de code qui en feront parti devront également **rajouter un niveau d'indentation**.\r\n",
                "\r\n",
                "Dès qu'une ligne de code **perds un niveau d'indentation**, elle fera alors partie du bloc de code précédent."
            ],
            "metadata": {}
        },
        {
            "cell_type": "code",
            "execution_count": 11,
            "source": [
                "age = 65\r\n",
                "\r\n",
                "if age > 18:\r\n",
                "    print(\"Majeur\")\r\n",
                "\r\n",
                "    if age > 65:\r\n",
                "        print(\"Sénior\")\r\n",
                "\r\n",
                "    print(\"Je suis dans le 1er if\")\r\n",
                "\r\n",
                "print(\"Je ne suis dans aucun if\")"
            ],
            "outputs": [
                {
                    "output_type": "stream",
                    "name": "stdout",
                    "text": [
                        "Majeur\n",
                        "Je suis dans le 1er if\n",
                        "Je ne suis dans aucun if\n"
                    ]
                }
            ],
            "metadata": {}
        },
        {
            "cell_type": "markdown",
            "source": [
                "---\r\n",
                "\r\n",
                "## Les fonctions\r\n",
                "\r\n",
                "Afin d'écrire du code de façon modulaire, et pour éviter d'écrire plusieurs voir exactement les mêmes lignes, on peur créer et utiliser des **fonctions**. Ces dernières regroupent des lignes de code, afin de pouvoir les exécuter en utilisant le nom de la fonction.\r\n",
                "\r\n",
                "Les fonctions peuvent aussi accepter des **valeurs**, qui seront utilisables comme des variables dans les lignes de code de la fonction. On les appellera alors des **arguments**.\r\n",
                "\r\n",
                "Lorsque l'on utilise une fonction, on dit que l'on **appelle** une fonction. À ce moment là, on peut éventuellement fournir des valeurs à la fonction, si elle en a besoin pour réaliser ses opérations. Il faut donc toujours connaître en avance la \"bonne façon\" d'appeler les fonctions. Une fois ses opérations terminées, la fonction peut éventuellement **renvoyer** d'autres valeurs.\r\n",
                "\r\n",
                "Les langages de programmations fournissent tous un grand nombre de fonctions déjà prêtes, afin de vous faciliter l'écriture de votre programme : en rapport avec les mathématiques, la gestion des dates et des heures, voire pour bien des choses plus complexes.\r\n",
                "\r\n",
                "Commençons par appeler la fonction la plus simple de tout langage de programmation, celle qui ne fait qu'afficher la **valeur** que l'on lui **transmets en tant qu'argument** lors de son **appel**."
            ],
            "metadata": {}
        },
        {
            "cell_type": "code",
            "execution_count": 22,
            "source": [
                "print(\"Bonjour le monde !\")"
            ],
            "outputs": [
                {
                    "output_type": "stream",
                    "name": "stdout",
                    "text": [
                        "Bonjour le monde !\n"
                    ]
                }
            ],
            "metadata": {}
        },
        {
            "cell_type": "markdown",
            "source": [
                "Ci-dessus, on a donc passé la valeur **\"Bonjour le monde !\"** comme unique **argument** à la fonction **print()**.\r\n",
                "\r\n",
                "Comme vu précédemment, on peut bien sûr remplacer la valeur que l'on veut fournir comme argument, par tout autre chose : une opération arithmétique, une expression booléenne, ou encore une variable. Essayons ces exemples à la suite."
            ],
            "metadata": {}
        },
        {
            "cell_type": "code",
            "execution_count": 13,
            "source": [
                "print(10 + 5)\r\n",
                "print(25 > 18)\r\n",
                "print(temperature_exterieure)"
            ],
            "outputs": [
                {
                    "output_type": "stream",
                    "name": "stdout",
                    "text": [
                        "15\n",
                        "True\n",
                        "25.3\n"
                    ]
                }
            ],
            "metadata": {}
        },
        {
            "cell_type": "markdown",
            "source": [
                "Lorsque l'on va écrire notre propre fonction avec le nom de notre choix, on dit que l'on **définit** une fonction.\r\n",
                "\r\n",
                "Pour cela, on utilise encore un **mot-clé** du langage, qui est cette fois-ci **def**. Il faudra ensuite écrire le nom de notre fonction, puis entre parenthèse les éventuels **arguments** qu'elle peut recevoir.\r\n",
                "\r\n",
                "Comme avec le bloc logique **if**, on utilise les deux-points `:` puis on rajoute une indentation pour les lignes de code qui seront à l'intérieur de notre fonction."
            ],
            "metadata": {}
        },
        {
            "cell_type": "code",
            "execution_count": 23,
            "source": [
                "def saluer_utilisateur(nom):\r\n",
                "    print(\"Bonjour, votre prénom est :\")\r\n",
                "    print(nom)"
            ],
            "outputs": [],
            "metadata": {}
        },
        {
            "cell_type": "markdown",
            "source": [
                "Une fois **définie**, on peut désormais **appeler** notre propre fonction."
            ],
            "metadata": {}
        },
        {
            "cell_type": "code",
            "execution_count": 24,
            "source": [
                "saluer_utilisateur(\"Bob\")"
            ],
            "outputs": [
                {
                    "output_type": "stream",
                    "name": "stdout",
                    "text": [
                        "Bonjour, votre prénom est :\n",
                        "Bob\n"
                    ]
                }
            ],
            "metadata": {}
        },
        {
            "cell_type": "markdown",
            "source": [
                "Voyons un exemple de fonction qui accepte plusieurs valeurs (donc plusieurs **arguments**) et dont le but est simplement de **renvoyer** la somme de ces derniers lorsqu'elle est **appelée**."
            ],
            "metadata": {}
        },
        {
            "cell_type": "code",
            "execution_count": 25,
            "source": [
                "def somme(a, b):\r\n",
                "    return a + b"
            ],
            "outputs": [],
            "metadata": {}
        },
        {
            "cell_type": "markdown",
            "source": [
                "Il suffit ensuite d'appeler notre nouvelle fonction, en passant bien deux valeurs."
            ],
            "metadata": {}
        },
        {
            "cell_type": "code",
            "execution_count": 17,
            "source": [
                "total = somme(5, 10)\r\n",
                "print(total)"
            ],
            "outputs": [
                {
                    "output_type": "stream",
                    "name": "stdout",
                    "text": [
                        "15\n"
                    ]
                }
            ],
            "metadata": {}
        },
        {
            "cell_type": "markdown",
            "source": [
                "---\r\n",
                "\r\n",
                "## Conclusion\r\n",
                "\r\n",
                "En mélangeant des **valeurs** représentées par des **variables**, en créant des **blocs logiques**, et en regroupant du code à travers des **fonctions** qui peuvent s'appeler entre elles, on peut transcrire une logique ou un processus en un programme informatique."
            ],
            "metadata": {}
        }
    ],
    "metadata": {
        "orig_nbformat": 4,
        "language_info": {
            "name": "python",
            "version": "3.9.2",
            "mimetype": "text/x-python",
            "codemirror_mode": {
                "name": "ipython",
                "version": 3
            },
            "pygments_lexer": "ipython3",
            "nbconvert_exporter": "python",
            "file_extension": ".py"
        },
        "kernelspec": {
            "name": "python3",
            "display_name": "Python 3.9.2 64-bit"
        },
        "interpreter": {
            "hash": "d94eb1066f04d8685077601812ddd3c592b7f56086c802177159e4b57cd392de"
        }
    },
    "nbformat": 4,
    "nbformat_minor": 2
}