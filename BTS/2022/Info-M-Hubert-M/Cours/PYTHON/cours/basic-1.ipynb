{
 "cells": [
  {
   "cell_type": "markdown",
   "metadata": {},
   "source": [
    "![Logo](../logo.png)\n",
    "\n",
    "![Header](../assets/header_basic-1.svg)\n",
    "\n",
    "# Basic ①\n",
    "\n",
    "Bienvenue sur le premier chapitre de ce cours. Pour le début, nous allons voir les grandes bases du langage et quelques fonctions incluses, tout juste de quoi pouvoir réaliser un exercice avec un minimum de logique.\n",
    "\n",
    "# Notions de ce cours\n",
    "\n",
    "* ⚙️ Lexique\n",
    "* 🖊️ L'indentation\n",
    "* 🖊️ Écrire un commentaire\n",
    "* 🖊️ Assigner une variable\n",
    "* 🖊️ Les types de valeurs\n",
    "* 🖊️ Opérateurs arithmétiques\n",
    "* 🔨 Fonctions built-in - `print()`\n",
    "* 🖊️ ️Lire une liste/tuple\n",
    "* 🖊️ ️Lire un dictionnaire\n",
    "* 🖊️ Concaténation\n",
    "* 🔨 Fonctions built-in - Conversions de types\n",
    "* ️🖊️ Expressions booléennes\n",
    "* 🖊️ ️Les structures conditionnelles - `if` / `elif` / `else`\n",
    "* 🖊️ La boucle `for`\n",
    "* ⚙️ Créer et utiliser un script Python"
   ]
  },
  {
   "cell_type": "markdown",
   "metadata": {},
   "source": [
    "---\n",
    "## ⚙️ Lexique\n",
    "\n",
    "* **REPL** : Read Evaluate Print Loop\n",
    "* **Chaîne de caractères** : string\n",
    "* **Indentation** : 4 espaces (ou 1 tabulation) placée devant le début d'une ligne de code, peut être répété plusieurs fois pour marquer plusieurs niveaux d'indentation\n",
    "* **Indenter** : le fait de rajouter un indentation à une ou plusieurs lignes\n",
    "* **Valeur** : la donnée en elle-même, qui possède un type\n",
    "* **Variable** : stockage d'une valeur sous le nom de notre choix\n",
    "* **Affecter / Assigner** : donner une (nouvelle) valeur à une variable\n",
    "* **Méthode** : fonction rattachée à un objet et qui agit sur ce dernier\n",
    "\n",
    "---\n",
    "## 🖊️ L'indentation\n",
    "\n",
    "Le fait que Python n'utilise pas de ponctuation implique deux choses : les lignes se terminent par un retour à la ligne, l'indentation sert à délimiter les blocs de code, et de nombreux mots-clés ne sont donc pas utilisables comme nom de variable car ils définissent la logique du code. On y trouve par exemple la valeur `None` équivalente à `null` dans d'autres langages, ou les valeurs `True` et `False` pour définir des booléens. Ces mots sont d'ailleurs à écrire impérativement avec leur majuscule, sinon Python ne les reconnaîtra pas.\n",
    "\n",
    "Pour l'indentation donc, on recommande d'utiliser 4 espaces, ce que les éditeurs de code comprennent bien aujourd'hui. Il y a aussi l'art et la manière d'indenter \"joliment\" des définitions de fonctions ou de variables qu'on préfèrera étaler sur plusieurs lignes, mais l'on verra ça au fur et à mesure.\n",
    "\n",
    "---\n",
    "\n",
    "## 🖊️ Écrire un commentaire\n",
    "\n",
    "On commence par `#` pour écrire un commentaire sur une seule ligne. Il y a un autre moyen d'écrire de longs commentaires mais on verra plus tard comment et pourquoi."
   ]
  },
  {
   "cell_type": "code",
   "execution_count": 1,
   "metadata": {},
   "outputs": [],
   "source": [
    "# Ceci est un commentaire !"
   ]
  },
  {
   "cell_type": "markdown",
   "metadata": {},
   "source": [
    "---\n",
    "## 🖊️ Assigner une variable\n",
    "\n",
    "Pour le nom des variables, on utilise généralement le [snake case](https://en.wikipedia.org/wiki/Snake_case), c'est à dire des mots en minuscules séparés par des underscores `_`. On peut parfois coller certains mots si l'on juge que ça évite d'avoir un nom de variable trop long avec trop de séparateurs, ou quand on veut se servir du `_` pour préfixer/suffixer quelque chose.\n",
    "\n",
    "La liste des [mots-clés réservés](https://docs.python.org/3/reference/lexical_analysis.html#keywords) n'est pas bien longue, donc autant s'en souvenir !\n",
    "\n",
    "On verra le comportement réel plus en détail mais, pour l'instant, dites-vous que toute variable qui est assignée devient disponible à partir des lignes de code qui suivent. On ne peut donc pas utiliser une variable avant qu'elle soit définie."
   ]
  },
  {
   "cell_type": "code",
   "execution_count": 2,
   "metadata": {},
   "outputs": [],
   "source": [
    "league_name = \"J. League\"\n",
    "league_teams = 20"
   ]
  },
  {
   "cell_type": "markdown",
   "metadata": {},
   "source": [
    "---\n",
    "## 🖊️ Les types de valeurs\n",
    "\n",
    "Tout d'abord, je parle bien ici de \"valeur\" et non de variable. Il est important de bien séparer les deux concepts, car même si l'on dit qu'une variable prends pour type celui de la valeur liée, une valeur \"toute seule\" possède également un type.\n",
    "\n",
    "Lorsque l'on écrit `\"bonjour\"` au sein du code, c'est bien une chaîne de caractères, donc une valeur de type `str`.\n",
    "\n",
    "Voici les principaux types à connaître :\n",
    "\n",
    "* `None` : c'est à la fois un type et une valeur de variable, qui représente \"rien\"\n",
    "* `bool` : un booléen à la valeur `True` ou `False`\n",
    "* `str` : une chaîne de caractères\n",
    "* `int` : un nombre entier\n",
    "* `float` : un nombre flottant\n",
    "* `list` : une liste de valeurs\n",
    "* `tuple` : une liste de valeurs ordonnée qui ne peut pas être modifiée\n",
    "* `dict` : une liste de valeurs liées à des clés (semblable aux \"tableaux associatifs\" de certains langages)\n",
    "\n",
    "Les types `list`, `tuple` et `dict` peuvent contenir des valeurs de tout type.\n",
    "\n",
    "On utilise par exemple `None` pour déclarer à l'avance une variable que l'on modifiera par la suite, et l'on verra plus tard pourquoi cela peut être utile.\n",
    "\n",
    "<details>\n",
    "  <summary>【💡 Spoiler】</summary>\n",
    "  On attribue <code>None</code> à une variable pour qu'elle soit accessible à travers plusieurs scopes, par exemple.\n",
    "</details>"
   ]
  },
  {
   "cell_type": "code",
   "execution_count": 3,
   "metadata": {},
   "outputs": [],
   "source": [
    "# Valeur de type : None\n",
    "season_startdate = None\n",
    "\n",
    "# Valeur de type : bool\n",
    "season_has_started = False\n",
    "\n",
    "# Valeur de type : str\n",
    "lastseason_winner = \"Kawasaki Frontale\"\n",
    "\n",
    "# Valeur de type : int\n",
    "league_creation = 1993\n",
    "\n",
    "# Valeur de type : float\n",
    "tomorrow_temperature = 12.5\n",
    "\n",
    "# Valeur de type : list\n",
    "# Écrit avec des crochets []\n",
    "tokyo_biggest_stations = [\"Shinjuku\", \"Shibuya\", \"Ikebukuro\"]\n",
    "\n",
    "# Valeur de type : tuple\n",
    "# Écrit avec des parenthèses ()\n",
    "postes_terrain = (\"Gardien\", \"Défenseur\", \"Milieu de terrain\", \"Attaquant\")\n",
    "\n",
    "# S'il n'y a qu'un seul élément, il faut toujours laisser une virgule après\n",
    "postes_annexes = (\"Arbitre\",) "
   ]
  },
  {
   "cell_type": "markdown",
   "metadata": {},
   "source": [
    "Les dictionnaires sont donc une liste de valeurs définies par des clés, forcément des `str`. Ils ne peuvent pas contenir deux éléments avec la même clé car elles sont uniques, servant justement à identifier chaque élément.\n",
    "\n",
    "Aussi, faites attention car les clés sont sensibles à la casse : les majuscules et minuscules ont toute leur importance lorsque vous irez lire ou manipuler les éléments d'un dictionnaire."
   ]
  },
  {
   "cell_type": "code",
   "execution_count": 4,
   "metadata": {},
   "outputs": [],
   "source": [
    "# Valeur de type : dict\n",
    "# Écrit avec des accolades {}\n",
    "# On peut aller à la ligne après chaque élément du dictionnaire pour améliorer la lisibilité\n",
    "teams_points = {\n",
    "    \"Kawasaki Frontale\": 15,\n",
    "    \"Nagoya Grampus\": 12,\n",
    "    \"Sagan Tosu\": 12\n",
    "}"
   ]
  },
  {
   "cell_type": "markdown",
   "metadata": {},
   "source": [
    "Revenons sur l'écriture de chaînes de caractères (type `str`).\n",
    "\n",
    "En Python, on peut les écrire soit avec des apostrophes `'` soit avec des guillemets `\"`. Bien qu'il n'y ait pas de recommandation, le plus important est d'utiliser l'une ou l'autre façon au sein d'un même fichier ou projet Python pour ne pas se mélanger les pinceaux.\n",
    "\n",
    "Si vous devez absolument écrire un `'` ou `\"` dans une chaîne définie par l'un ou l'autre, vous pouvez \"échapper\" le caractère pour que Python comprenne qu'il fasse partie de la valeur.\n",
    "\n",
    "Une autre solution est d'utiliser les triples guillemets `\"\"\"`, qui élimine ce problème, et permet surtout d'écrire sur plusieurs lignes ! Utilisez-le cependant que lorsque nécessaire, car cela fait beaucoup de caractères pour \"juste\" écrire une chaîne de caractères."
   ]
  },
  {
   "cell_type": "code",
   "execution_count": 5,
   "metadata": {},
   "outputs": [],
   "source": [
    "# Chaîne de caractères délimitée par des apostrophes\n",
    "article_title = 'Découvrez le \"musée des ramen\" qui s\\'ouvre à Yokohama'\n",
    "\n",
    "# Chaîne de caractères délimitée par des guillemets\n",
    "article_title = \"Découvrez le \\\"musée des ramen\\\" qui s'ouvre à Yokohama\"\n",
    "\n",
    "# Chaîne de caractères délimitée par des triples guillemets\n",
    "article_title = \"\"\"Découvrez le \"musée des ramen\" qui s'ouvre à Yokohama\"\"\""
   ]
  },
  {
   "cell_type": "markdown",
   "metadata": {},
   "source": [
    "---\n",
    "## 🖊️ Opérateurs arithmétiques\n",
    "\n",
    "Pour les opérateurs arithmétiques de base, il n'y a rien de bien différent des mathématiques classiques :\n",
    "\n",
    "* `+` : additionne des valeurs ou des variables\n",
    "* `-` : soustrait des valeurs ou des variables\n",
    "* `*` : multiplie des valeurs ou des variables\n",
    "* `/` : divise des valeurs ou des variables\n",
    "\n",
    "Cependant, quelques opérateurs utilisent des caractères propres à l'informatique :\n",
    "\n",
    "* `%` : modulo (reste) d'une division de valeurs ou de variables\n",
    "* `//` : partie entière d'une division de valeurs ou de variables\n",
    "* `**` : exposant pour élever un nombre à une puissance donnée"
   ]
  },
  {
   "cell_type": "code",
   "execution_count": 6,
   "metadata": {},
   "outputs": [],
   "source": [
    "addition = 10 + 5\n",
    "soustraction = 52 - 10\n",
    "reste = 11 % 2\n",
    "exposant = 8**2"
   ]
  },
  {
   "cell_type": "markdown",
   "metadata": {},
   "source": [
    "Lorsque l'on veut simplement additionner ou soustraire quelque chose à une variable existante, il existe quelques raccourcis comme `+=` ou `-=`."
   ]
  },
  {
   "cell_type": "code",
   "execution_count": 7,
   "metadata": {},
   "outputs": [],
   "source": [
    "addition = addition + 10\n",
    "# ...peut s'écrire plus facilement :\n",
    "addition += 10\n",
    "\n",
    "soustraction = soustraction - 2\n",
    "# ...peut s'écrire plus facilement :\n",
    "soustraction -= 2"
   ]
  },
  {
   "cell_type": "markdown",
   "metadata": {},
   "source": [
    "---\n",
    "## 🔨 Fonctions built-in - print()\n",
    "\n",
    "Python inclut de nombreuses fonctions dites [**built-in**](https://docs.python.org/3/library/functions.html), c'est à dire toujours accessibles dans le code et à tout moment. On trouve des fonctions built-in que l'on peut appeler directement en leur passant en valeur, et des fonctions built-in disponibles sur des valeurs de certains types.\n",
    "\n",
    "Commençons à voir nos premières fonctions built-in. La plus simple est bien sûr `print()`, qui sert à afficher quelque chose dans la sortie du terminal. On peut écrire quelques caractères spéciaux dans notre texte, comme par exemple `\\n` qui représente un retour à la ligne."
   ]
  },
  {
   "cell_type": "code",
   "execution_count": 8,
   "metadata": {},
   "outputs": [
    {
     "name": "stdout",
     "output_type": "stream",
     "text": [
      "Bonjour !\n",
      "Bienvenue sur mon script.\n"
     ]
    }
   ],
   "source": [
    "print(\"Bonjour !\\nBienvenue sur mon script.\")"
   ]
  },
  {
   "cell_type": "markdown",
   "metadata": {},
   "source": [
    "---\n",
    "## 🖊️ ️Lire une liste ou un tuple\n",
    "\n",
    "Le premier moyen d'utiliser d'une liste ou d'un tuple est d'accéder directement à l'un de ses éléments en utilisant des **crochets** après le nom d'une variable. On dit alors que l'on a \"découpé\" une variable pour en sélectionner un ou plusieurs éléments, et le résultat s'appelle techniquement une \"slice\".\n",
    "\n",
    "Pour lire un seul élément, on écrit l'index de l'élément voulu à l'intérieur des crochets. Comme souvent en informatique, on commence à compter à partir de `0` pour le premier élément, `1` pour le deuxième élément, et ainsi de suite."
   ]
  },
  {
   "cell_type": "code",
   "execution_count": 9,
   "metadata": {},
   "outputs": [
    {
     "name": "stdout",
     "output_type": "stream",
     "text": [
      "Shinjuku\n",
      "Défenseur\n"
     ]
    }
   ],
   "source": [
    "# Lecture du 1er élément d'une liste\n",
    "tokyo_biggest_stations = [\"Shinjuku\", \"Shibuya\", \"Ikebukuro\"]\n",
    "print(tokyo_biggest_stations[0])\n",
    "\n",
    "# Lecture du 2ème élément d'un tuple\n",
    "postes_terrain = (\"Gardien\", \"Défenseur\", \"Milieu de terrain\", \"Attaquant\")\n",
    "print(postes_terrain[1])"
   ]
  },
  {
   "cell_type": "markdown",
   "metadata": {},
   "source": [
    "À l'inverse, si l'on veut sélectionner un élément en partant de la fin de la liste, Python a l'avantage de permettre l'utilisation d'un index négatif, par exemple `-1`.\n",
    "\n",
    "Dans ce cas, `-1` représente bien le 1er élément en partant de la fin, vu que l'on ne peut pas commencer à `-0`, car ça n'aurait pas de sens au niveau mathématique."
   ]
  },
  {
   "cell_type": "code",
   "execution_count": 10,
   "metadata": {},
   "outputs": [
    {
     "name": "stdout",
     "output_type": "stream",
     "text": [
      "Instagram\n"
     ]
    }
   ],
   "source": [
    "# Lecture du 2ème élément en partant de la fin\n",
    "social_networks = [\"Twitter\", \"Facebook\", \"Instagram\", \"Snapchat\"]\n",
    "print(social_networks[-2])"
   ]
  },
  {
   "cell_type": "markdown",
   "metadata": {},
   "source": [
    "Mais avec Python, les crochets `[]` sont plus puissants que dans d'autres langages. Ils permettent en aussi de sélectionner plusieurs éléments en \"découpant\" à la volée une liste ou un tuple.\n",
    "\n",
    "Pour cela, on écrit l'index du premier élément depuis lequel on veut commencer la découpe, puis l'on écrit l'index de l'élément où l'on veuille s'arrêter juste avant, sous le format `[debut:fin]`.\n",
    "\n",
    "Dans le code ci-dessous, on sélectionne le deuxième et le troisième élément d'une liste en écrivant `[1:3]` : le `1` pour commencer avec le deuxième élément, et le `3` pour s'arrêter juste avant le quatrième élément."
   ]
  },
  {
   "cell_type": "code",
   "execution_count": 11,
   "metadata": {},
   "outputs": [
    {
     "name": "stdout",
     "output_type": "stream",
     "text": [
      "['Châtelet', 'Gare de Lyon']\n"
     ]
    }
   ],
   "source": [
    "# Découpe d'une liste depuis son 2ème élément (index n°1) pour s'arrêter juste avant le 4ème élément (index n°3)\n",
    "rer_stations = [\"Auber\", \"Châtelet\", \"Gare de Lyon\", \"Nation\", \"Vincennes\"]\n",
    "print(rer_stations[1:3])"
   ]
  },
  {
   "cell_type": "markdown",
   "metadata": {},
   "source": [
    "Si l'on souhaite découper une liste ou un tuple en partant de son début, il n'y a pas besoin de préciser l'index de début, et l'on peut juste écrire l'index de fin après les deux-points.\n",
    "\n",
    "Bien sûr, faire une découpe sur une liste renverra une liste, et faire une découpe sur un tuple renverra un tuple."
   ]
  },
  {
   "cell_type": "code",
   "execution_count": 12,
   "metadata": {},
   "outputs": [
    {
     "name": "stdout",
     "output_type": "stream",
     "text": [
      "('Gardien', 'Défenseur')\n"
     ]
    }
   ],
   "source": [
    "postes_terrain = (\"Gardien\", \"Défenseur\", \"Milieu de terrain\", \"Attaquant\")\n",
    "print(postes_terrain[:2])"
   ]
  },
  {
   "cell_type": "markdown",
   "metadata": {},
   "source": [
    "À l'inverse, pour sélectionner un certain nombre d'éléments en partant de la fin de la liste, on peut utiliser un index de début négatif qui correspond au nombre d'éléments voulu, et n'écrire aucun index de fin."
   ]
  },
  {
   "cell_type": "code",
   "execution_count": 13,
   "metadata": {},
   "outputs": [
    {
     "name": "stdout",
     "output_type": "stream",
     "text": [
      "('Milieu de terrain', 'Attaquant')\n"
     ]
    }
   ],
   "source": [
    "print(postes_terrain[-2:])"
   ]
  },
  {
   "cell_type": "markdown",
   "metadata": {},
   "source": [
    "Dans les cas où vous ayez un liste imbriquée dans une liste, il suffit de répéter l'usage des crochets `[]` pour y accéder."
   ]
  },
  {
   "cell_type": "code",
   "execution_count": 14,
   "metadata": {},
   "outputs": [
    {
     "name": "stdout",
     "output_type": "stream",
     "text": [
      "Température de demain soir :\n",
      "10\n"
     ]
    }
   ],
   "source": [
    "# Liste de températures triées par jour, puis triées par période de la journée (matin, après-midi, soirée)\n",
    "temperatures_per_day = [\n",
    "    [12, 15, 9], # Températures d'aujourd'hui\n",
    "    [5, 7, 10] # Températures de demain\n",
    "]\n",
    "print(\"Température de demain soir :\")\n",
    "print(temperatures_per_day[1][2])"
   ]
  },
  {
   "cell_type": "markdown",
   "metadata": {},
   "source": [
    "---\n",
    "## 🖊️ ️Lire un dictionnaire\n",
    "\n",
    "Pour rappel, un dictionnaire fait correspondre des valeurs à des clés.\n",
    "\n",
    "Une **clé** est une chaîne de caractères (`string`) qui est liée à une valeur, un peu à la manière d'une variable mais sans être techniquement pareil.\n",
    "\n",
    "Contrairement aux listes, avec lesquelles on utilise un **index numérique**, on utilise donc les **clés** d'un dictionnaire pour accéder aux valeurs qui y sont associées. Lorsque l'on écrit le nom d'une clé, il faudra faire attention à respecter la casse (= écrire les mêmes majuscules, minuscules, espaces)."
   ]
  },
  {
   "cell_type": "code",
   "execution_count": 15,
   "metadata": {},
   "outputs": [
    {
     "name": "stdout",
     "output_type": "stream",
     "text": [
      "Web Graphics Library\n"
     ]
    }
   ],
   "source": [
    "words = {\n",
    "    \"HTTP\": \"Hypertext Transfer Protocol\",\n",
    "    \"WebGL\": \"Web Graphics Library\"\n",
    "}\n",
    "\n",
    "print(words[\"WebGL\"])"
   ]
  },
  {
   "cell_type": "markdown",
   "metadata": {},
   "source": [
    "Un autre moyen d'accéder aux valeurs d'un dictionnaire est à l'aide de la fonction `.get()` qui est disponible sur n'importe quel dictionnaire. Elle a l'avantage de ne pas générer d'erreur lorsque l'on essaye d'accéder à une clé du dictionnaire qui n'existe pas : dans ce cas, la fonction renverra la valeur `None`.\n",
    "\n",
    "Le premier argument à passer est la clé dont on essaye d'en lire la valeur associée. On peut aussi passer un second argument, optionnel, qui sera la valeur renvoyée dans le cas où la clé n'existe pas."
   ]
  },
  {
   "cell_type": "code",
   "execution_count": 16,
   "metadata": {},
   "outputs": [
    {
     "name": "stdout",
     "output_type": "stream",
     "text": [
      "3.5\n",
      "None\n",
      "0\n"
     ]
    }
   ],
   "source": [
    "menu = {\n",
    "    \"Cheeseburger\": 3.5,\n",
    "    \"Nuggets\": 2\n",
    "}\n",
    "\n",
    "# .get() avec une clé existante dans le dictionnaire\n",
    "cheeseburger = menu.get(\"Cheeseburger\")\n",
    "print(cheeseburger)\n",
    "\n",
    "# .get() avec une clé inexistante dans le dictionnaire\n",
    "fries = menu.get(\"Fries\")\n",
    "print(fries)\n",
    "\n",
    "# .get() avec une valeur souhaitée si la clé n'existe pas\n",
    "potatoes = menu.get(\"Potatoes\", 0)\n",
    "print(potatoes)"
   ]
  },
  {
   "cell_type": "markdown",
   "metadata": {},
   "source": [
    "En plus de cela, on peut récupérer la **liste** de toutes les **clés** ou de toutes les **valeurs** d'un dictionnaire, chose qui peut souvent nous être utile.\n",
    "\n",
    "Pour avoir les clés, il suffira de convertir le dictionnaire en tant que liste. Pour avoir les valeurs, il faudra appeler la fonction `.values()` sur le dictionnaire avant de le convertir également en liste."
   ]
  },
  {
   "cell_type": "code",
   "execution_count": 17,
   "metadata": {},
   "outputs": [
    {
     "name": "stdout",
     "output_type": "stream",
     "text": [
      "['Paris', 'Bordeaux', 'Nice']\n",
      "[20, 23, 24]\n"
     ]
    }
   ],
   "source": [
    "temperatures_per_city = {\n",
    "    \"Paris\": 20,\n",
    "    \"Bordeaux\": 23,\n",
    "    \"Nice\": 24\n",
    "}\n",
    "\n",
    "# Récupération des clés du dictionnaire en tant que liste\n",
    "temperatures_keys = list(temperatures_per_city)\n",
    "print(temperatures_keys)\n",
    "\n",
    "# Récupération des valeurs du dictionnaire en tant que liste\n",
    "temperature_values = list(temperatures_per_city.values())\n",
    "print(temperature_values)"
   ]
  },
  {
   "cell_type": "markdown",
   "metadata": {},
   "source": [
    "---\n",
    "## 🖊️ Concaténation\n",
    "\n",
    "En plus d'être un opérateur mathématique, le `+` sert également à concaténer des valeurs ou variables entre elles.\n",
    "\n",
    "Cela marche avec de nombreux types, mais l'on ne peut pas concaténer deux choses de types différents : un nombre avec une chaîne de caractères, par exemple.\n",
    "\n",
    "Notez que Python va strictement coller les valeurs à concaténer, c'est à dire qu'il faudra prévoir à l'avance des espaces par exemple. Regardez bien ci-dessous l'espace après le `:` pour que la valeur de la variable ne soit pas collée."
   ]
  },
  {
   "cell_type": "code",
   "execution_count": 18,
   "metadata": {},
   "outputs": [
    {
     "name": "stdout",
     "output_type": "stream",
     "text": [
      "Votre vol se fera à bord d'un Airbus A321\n"
     ]
    }
   ],
   "source": [
    "airplane_model = \"Airbus A321\"\n",
    "print(\"Votre vol se fera à bord d'un \" + airplane_model)"
   ]
  },
  {
   "cell_type": "markdown",
   "metadata": {},
   "source": [
    "---\n",
    "## 🔨 Fonctions built-in - Conversions de types\n",
    "\n",
    "Lorsqu'il nous faut convertir une valeur d'un type à un autre, il y a justement des fonctions built-in prévues pour. Chaque fonction porte le nom du type vers lequel on veut convertir : \n",
    "\n",
    "* `str()` pour convertir la valeur passée en `str`\n",
    "* `bool()` pour convertir la valeur passée en `bool`\n",
    "* `int()` pour convertir la valeur passée en `int`\n",
    "* etc...\n",
    "\n",
    "Certaines conversions de types vers d'autres sont cependant impossibles : un nombre ne peut pas devenir une liste par exemple. Par contre, une chaîne de caractère étant littéralement une \"chaîne\", on peut la convertir en liste, et l'on aura alors une liste de chaque caractère."
   ]
  },
  {
   "cell_type": "code",
   "execution_count": 19,
   "metadata": {},
   "outputs": [
    {
     "name": "stdout",
     "output_type": "stream",
     "text": [
      "['r', 'a', 'm', 'e', 'n']\n"
     ]
    }
   ],
   "source": [
    "string_as_list = list(\"ramen\")\n",
    "print(string_as_list)"
   ]
  },
  {
   "cell_type": "markdown",
   "metadata": {},
   "source": [
    "Chose commune dans la plupart des langages, on peut directement passer un appel d'une fonction comme argument d'une autre fonction. Si l'on combine les deux derniers exemples, on peut alors appeler la fonction `print()` en convertissant à la volée ce que l'on veut afficher.\n",
    "\n",
    "Ici, en une seule ligne, on passe la valeur `\"404\"` à la fonction `int()`, et ce qui est renvoyé par cette fonction est passé directement comme valeur pour la fonction `print()`."
   ]
  },
  {
   "cell_type": "code",
   "execution_count": 20,
   "metadata": {},
   "outputs": [
    {
     "name": "stdout",
     "output_type": "stream",
     "text": [
      "404\n"
     ]
    }
   ],
   "source": [
    "print(int(\"404\"))"
   ]
  },
  {
   "cell_type": "markdown",
   "metadata": {},
   "source": [
    "Aussi, les booléens sont convertibles en nombre et vice-versa : `True` équivaut à `1` et `False` équivaut à `0`."
   ]
  },
  {
   "cell_type": "code",
   "execution_count": 21,
   "metadata": {},
   "outputs": [
    {
     "name": "stdout",
     "output_type": "stream",
     "text": [
      "1\n",
      "False\n"
     ]
    }
   ],
   "source": [
    "print(int(True))\n",
    "print(bool(0))"
   ]
  },
  {
   "cell_type": "markdown",
   "metadata": {},
   "source": [
    "---\n",
    "\n",
    "## ️🖊️ Expressions booléennes\n",
    "\n",
    "Comparer des valeurs ou variables entre elles, permet logiquement d'en tirer un booléen égal à `True` ou `False`. Ces comparaisons s'appellent donc _expressions booléennes_, et on peut stocker leur résultat dans une variable ou bien s'en servir dans une structure conditionnelle.\n",
    "\n",
    "Pour comparer des valeurs, on utilise des _opérateurs de comparaison_ :\n",
    "\n",
    "* `==` : égalité de valeur\n",
    "* `!=` : inégalité de valeur\n",
    "* `>` : supérieur à\n",
    "* `<` : inférieur à\n",
    "* `>=` : supérieur ou égal à\n",
    "* `<=` : inférieur ou égal à"
   ]
  },
  {
   "cell_type": "code",
   "execution_count": 22,
   "metadata": {},
   "outputs": [
    {
     "name": "stdout",
     "output_type": "stream",
     "text": [
      "False\n"
     ]
    }
   ],
   "source": [
    "temperature = 5\n",
    "\n",
    "# Stockage du résultat de l'expression booléenne dans une variable\n",
    "is_snow = temperature <= 1\n",
    "\n",
    "print(is_snow)"
   ]
  },
  {
   "cell_type": "markdown",
   "metadata": {},
   "source": [
    "Pour avoir la valeur inverse d'un booléen, on peut placer l'opérateur `not` devant, équivalent au `!` écrit devant un nom de variable dans d'autres langages."
   ]
  },
  {
   "cell_type": "code",
   "execution_count": 23,
   "metadata": {},
   "outputs": [
    {
     "name": "stdout",
     "output_type": "stream",
     "text": [
      "True\n"
     ]
    }
   ],
   "source": [
    "print(not is_snow)"
   ]
  },
  {
   "cell_type": "markdown",
   "metadata": {},
   "source": [
    "Pour sa part, l'opérateur `is` ne compare pas la valeur mais si deux variables font en réalité référence au même objet. Son inverse est donc `is not`."
   ]
  },
  {
   "cell_type": "code",
   "execution_count": 24,
   "metadata": {},
   "outputs": [
    {
     "name": "stdout",
     "output_type": "stream",
     "text": [
      "False\n",
      "True\n"
     ]
    }
   ],
   "source": [
    "premiere_liste = [404, 403, 500]\n",
    "deuxieme_liste = [404, 403, 500]\n",
    "troisieme_liste = premiere_liste\n",
    "\n",
    "print(premiere_liste is deuxieme_liste)\n",
    "print(troisieme_liste is premiere_liste)"
   ]
  },
  {
   "cell_type": "markdown",
   "metadata": {},
   "source": [
    "Un autre opérateur très utile, `in`, permet de savoir si quelque chose fait partie d'une chaîne de caractère, d'une liste..."
   ]
  },
  {
   "cell_type": "code",
   "execution_count": 25,
   "metadata": {},
   "outputs": [
    {
     "name": "stdout",
     "output_type": "stream",
     "text": [
      "False\n",
      "True\n"
     ]
    }
   ],
   "source": [
    "print(300 in premiere_liste)\n",
    "print(\"world\" in \"Hello world\")"
   ]
  },
  {
   "cell_type": "markdown",
   "metadata": {},
   "source": [
    "Bien sûr, il est possible de combiner plusieurs comparaisons en les collant avec des _opérateurs booléens_ :\n",
    "\n",
    "* `and`, équivalent à `&&`\n",
    "* `or`, équivalent à `||`\n",
    "\n",
    "À savoir que si vous enchaînez plusieurs de ces opérateurs, un peu comme en mathématiques, l'opérateur `and` aura priorité sur l'opérateur `or`. Par exemple, `temperature >= 20 or humidity > 90 and clear_sky` sera forcément interprété comme ceci : `(temperature >= 20 or humidity > 90) and clear_sky` "
   ]
  },
  {
   "cell_type": "code",
   "execution_count": 26,
   "metadata": {},
   "outputs": [
    {
     "name": "stdout",
     "output_type": "stream",
     "text": [
      "True\n"
     ]
    }
   ],
   "source": [
    "print(404 in premiere_liste and not is_snow)"
   ]
  },
  {
   "cell_type": "markdown",
   "metadata": {},
   "source": [
    "---\n",
    "## 🖊️ ️Les structures conditionnelles - `if` / `elif` / `else`\n",
    "\n",
    "Mettons enfin en application les expression booléennes au sein de structures conditionnelles, qui vont exécuter un bout de code ou un autre selon si l'expression équivaut à vrai ou faux. La base de tout code informatique en somme !\n",
    "\n",
    "Pour cela, il suffit d'écrire `if` suivi d'une expression booléenne puis d'un `:` final. Les lignes que l'on voudra exécuter devront alors gagner une indentation (4 espaces) pour faire comprendre à Python qu'elles sont \"à l'intérieure\" du bloc `if`.\n",
    "\n",
    "Même écrite juste après, si une ligne récupère son indentation d'origine, elle ne sera pas incluse dans le bloc `if`. Comme dit plus haut, la nécessité d'être très rigoureux sur l'indentation est la contrepartie d'une absence de ponctuation."
   ]
  },
  {
   "cell_type": "code",
   "execution_count": 27,
   "metadata": {},
   "outputs": [
    {
     "name": "stdout",
     "output_type": "stream",
     "text": [
      "100 est bien inférieur à 404.\n",
      "Test\n"
     ]
    }
   ],
   "source": [
    "if 100 < 404:\n",
    "    print(\"100 est bien inférieur à 404.\")\n",
    "print(\"Test\")"
   ]
  },
  {
   "cell_type": "markdown",
   "metadata": {},
   "source": [
    "Dans le cas où l'on veuille prévoir à la fois les cas où l'expression booléenne est vraie ou fausse, on peut rajouter un `else`, toujours suivi d'un `:`. Les lignes indentées qui le suivent seront alors exécutées si l'expression est fausse."
   ]
  },
  {
   "cell_type": "code",
   "execution_count": 28,
   "metadata": {},
   "outputs": [
    {
     "name": "stdout",
     "output_type": "stream",
     "text": [
      "Il n'y a pas spécialement de nuages\n"
     ]
    }
   ],
   "source": [
    "weather = \"sunny\"\n",
    "if weather == \"cloudy\":\n",
    "    print(\"Il fait nuageux\")\n",
    "else:\n",
    "    print(\"Il n'y a pas spécialement de nuages\")"
   ]
  },
  {
   "cell_type": "markdown",
   "metadata": {},
   "source": [
    "Si la première expression est fausse mais que l'on veut tester d'autres conditions différentes (pas forcément sur les mêmes variables d'ailleurs), on peut enchaîner avec des `elif`, qui se comportent comme des `if`. Le nom est d'ailleurs la contraction de `else if` que l'on voit dans la plupart des autres langages."
   ]
  },
  {
   "cell_type": "code",
   "execution_count": 29,
   "metadata": {},
   "outputs": [
    {
     "name": "stdout",
     "output_type": "stream",
     "text": [
      "Il pleut\n"
     ]
    }
   ],
   "source": [
    "weather = \"rainy\"\n",
    "if weather == \"cloudy\":\n",
    "    print(\"Il fait nuageux\")\n",
    "elif weather == \"rainy\":\n",
    "    print(\"Il pleut\")\n",
    "else:\n",
    "    print(\"Aucune idée de la météo\")"
   ]
  },
  {
   "cell_type": "markdown",
   "metadata": {},
   "source": [
    "À savoir : lorsque plusieurs conditions sont enchaînées, dès qu'une condition est valide, Python n'ira pas lire les suivantes pour vérifier leur véracité. L'ordre d'écriture de vos `if` et `elif` est donc très important !\n",
    "\n",
    "Si vous utilisez par exemple des comparaisons utilisant des nombres et les opérateurs d'infériorité/supériorité, il faudra donc bien penser à l'ordre. Ci-dessous, on vérifie d'abord les distances les plus petites avant d'aller sur la distance la plus grande possible. Si l'on avait vérifié `distance <= 200` dès le début, les conditions suivantes ne seraient jamais prises en compte par Python."
   ]
  },
  {
   "cell_type": "code",
   "execution_count": 30,
   "metadata": {},
   "outputs": [
    {
     "name": "stdout",
     "output_type": "stream",
     "text": [
      "Vous gagnez 70 miles grâce à votre dernier voyage en avion.\n"
     ]
    }
   ],
   "source": [
    "distance = 200 # Distance en kilomètres\n",
    "\n",
    "if distance <= 50:\n",
    "    print(\"Vous gagnez 10 miles grâce à votre dernier voyage en avion.\")\n",
    "elif distance <= 100:\n",
    "    print(\"Vous gagnez 25 miles grâce à votre dernier voyage en avion.\")\n",
    "elif distance <= 200:\n",
    "    print(\"Vous gagnez 70 miles grâce à votre dernier voyage en avion.\")"
   ]
  },
  {
   "cell_type": "markdown",
   "metadata": {},
   "source": [
    "Avec le code ci-dessous où les conditions sont justement écrites dans un mauvais ordre, on aurait souhaité que seule la dernière ligne de code d'exécute, mais Python arrête de vérifier les conditions `if` et `elif` dès que le premier est calculé comme étant vrai."
   ]
  },
  {
   "cell_type": "code",
   "execution_count": 31,
   "metadata": {},
   "outputs": [
    {
     "name": "stdout",
     "output_type": "stream",
     "text": [
      "Vous gagnez 70 miles grâce à votre dernier voyage en avion.\n"
     ]
    }
   ],
   "source": [
    "distance = 30 # Distance en kilomètres\n",
    "\n",
    "if distance <= 200:\n",
    "    print(\"Vous gagnez 70 miles grâce à votre dernier voyage en avion.\")\n",
    "elif distance <= 100:\n",
    "    print(\"Vous gagnez 25 miles grâce à votre dernier voyage en avion.\")\n",
    "elif distance <= 50:\n",
    "    print(\"Vous gagnez 10 miles grâce à votre dernier voyage en avion.\")"
   ]
  },
  {
   "cell_type": "markdown",
   "metadata": {},
   "source": [
    "---\n",
    "## 🖊️ La boucle `for`\n",
    "\n",
    "En logique informatique, il est fréquent de devoir \"parcourir\" une valeur qui soit une liste de plusieurs éléments. C'est le cas par exemple des listes, des tuples et des dictionnaires. Ces types sont dits **itérable**, car l'on peut les parcourir. Chaque fois que l'on va lire un élément pendant ce parcours, on dira justement que l'on a exécuté une **itération**.\n",
    "\n",
    "La boucle `for` en Python diffère un peu des autres langages, et est plutôt semblable à la boucle `foreach` d'autres langages.\n",
    "\n",
    "Elle s'écrit de cette façon : `for xxx in yyy`, qui peut se lire en français \"pour chaque xxx dans yyy\". À la place du `xxx`, on détermine un nom approprié pour la variable qui contiendra l'élément en train d'être lu par la boucle `for`, et à la place du `yyy`, on écrit la valeur ou la variable que l'on voudra parcourir.\n",
    "\n",
    "Une chaîne de caractères étant techniquement une liste de caractères, on peut la parcourir avec une boucle `for`, qui ira nous renvoyer chaque lettre une à une. Le code contenu dans la boucle `for` sera alors exécuté autant de fois qu'il y a de lettres dans la chaîne de caractères."
   ]
  },
  {
   "cell_type": "code",
   "execution_count": 32,
   "metadata": {},
   "outputs": [
    {
     "name": "stdout",
     "output_type": "stream",
     "text": [
      "H\n",
      "e\n",
      "l\n",
      "l\n",
      "o\n",
      "!\n"
     ]
    }
   ],
   "source": [
    "# Boucle sur une chaîne de caractères\n",
    "for letter in \"Hello!\":\n",
    "    print(letter)"
   ]
  },
  {
   "cell_type": "markdown",
   "metadata": {},
   "source": [
    "On peut itérer sur d'autres types de valeurs, comme par exemple les listes ou les tuples.\n",
    "\n",
    "Par convention, lorsque l'on choisis le nom de la variable qui contiendra l'élément parcouru par la boucle `for`, on préfère un nom au singulier et de préférence en rapport avec l'élément parcouru."
   ]
  },
  {
   "cell_type": "code",
   "execution_count": 33,
   "metadata": {},
   "outputs": [
    {
     "name": "stdout",
     "output_type": "stream",
     "text": [
      "J'aime faire du Football\n",
      "J'aime faire du Basketball\n",
      "J'aime faire du Baseball\n"
     ]
    }
   ],
   "source": [
    "played_sports = [\"Football\", \"Basketball\", \"Baseball\"]\n",
    "\n",
    "# Boucle sur une liste\n",
    "for sport in played_sports:\n",
    "    print(f\"J'aime faire du {sport}\")"
   ]
  },
  {
   "cell_type": "markdown",
   "metadata": {},
   "source": [
    "Selon la situation, ou pour éviter d'avoir des noms trop proches entre la valeur parcourue et l'élément en cours, on peut choisir un nom qui diffère radicalement de la valeur parcourue tout en gardant du sens.\n",
    "\n",
    "Ci-dessous, on a préféré utiliser `name` au lieu de `visa` au singulier pour se différencier de la variable `visas` et améliorer la lisibilité du code, empêchant sûrement de futures étourderies."
   ]
  },
  {
   "cell_type": "code",
   "execution_count": 34,
   "metadata": {},
   "outputs": [
    {
     "name": "stdout",
     "output_type": "stream",
     "text": [
      "Visa touriste\n",
      "Visa travail\n",
      "Visa étudiant\n"
     ]
    }
   ],
   "source": [
    "visas = (\"touriste\", \"travail\", \"étudiant\")\n",
    "\n",
    "# Boucle sur un tuple\n",
    "for name in visas:\n",
    "    print(f\"Visa {name}\")"
   ]
  },
  {
   "cell_type": "markdown",
   "metadata": {},
   "source": [
    "Comme vu plus tôt dans ce cours, on peut \"découper\" une liste ou un tuple. C'est également possible avec la boucle `for`, si vous désirez parcourir uniquement un morceau d'une liste ou d'un tuple."
   ]
  },
  {
   "cell_type": "code",
   "execution_count": 35,
   "metadata": {},
   "outputs": [
    {
     "name": "stdout",
     "output_type": "stream",
     "text": [
      "Melon Soda\n",
      "Limonade\n",
      "Thé glacé\n",
      "---\n",
      "S\n",
      "M\n"
     ]
    }
   ],
   "source": [
    "menu_drinks = [\"Cola\", \"Melon Soda\", \"Limonade\", \"Thé glacé\", \"Eau pétillante\"]\n",
    "menu_sizes = (\"S\", \"M\", \"L\")\n",
    "\n",
    "# Boucle sur une partie d'une liste\n",
    "for drink in menu_drinks[1:4]:\n",
    "    print(drink)\n",
    "\n",
    "print(\"---\")\n",
    "\n",
    "# Boucle sur une partie d'un tuple\n",
    "for size in menu_sizes[:2]:\n",
    "    print(size)"
   ]
  },
  {
   "cell_type": "markdown",
   "metadata": {},
   "source": [
    "Lorsque l'on va parcourir un dictionnaire avec une boucle `for`, on va en lire ses **clés**. À partir des clés, on peut donc lire les **valeurs** du dictionnaire.\n",
    "\n",
    "Les clés étant injectées dans une variable portant le nom de notre choix, on peut bien sûr écrire le nom de la variable à l'intérieur des crochets permettant de lire la valeur d'un dictionnaire."
   ]
  },
  {
   "cell_type": "code",
   "execution_count": 36,
   "metadata": {},
   "outputs": [
    {
     "name": "stdout",
     "output_type": "stream",
     "text": [
      "Il y a 2.16 millions d'habitants à Paris.\n",
      "Il y a 8.41 millions d'habitants à New York.\n",
      "Il y a 13.96 millions d'habitants à Tokyo.\n"
     ]
    }
   ],
   "source": [
    "population = {\n",
    "    \"Paris\": 2.16,\n",
    "    \"New York\": 8.41,\n",
    "    \"Tokyo\": 13.96\n",
    "}\n",
    "\n",
    "# Boucle sur les clés d'un dictionnaire\n",
    "for city in population:\n",
    "    print(f\"Il y a {population[city]} millions d'habitants à {city}.\")"
   ]
  },
  {
   "cell_type": "markdown",
   "metadata": {},
   "source": [
    "Une façon plus pratique d'avoir accès à la fois à la **clé** et à la **valeur** de l'élément de dictionnaire parcouru par la boucle `for` est d'appeler la fonction `items()` sur le dictionnaire.\n",
    "\n",
    "Cette fonction, au lieu de renvoyer le dictionnaire tel quel, va renvoyer ce que l'on appelle un **itérateur**. C'est quelque chose de spécial qui est prévu pour être parcouru par des boucles comme le `for`. Au lieu de ne renvoyer qu'une seule valeur à chaque **itération**, il va donc renvoyer en même temps une **clé** et la **valeur** associée."
   ]
  },
  {
   "cell_type": "code",
   "execution_count": 37,
   "metadata": {},
   "outputs": [
    {
     "name": "stdout",
     "output_type": "stream",
     "text": [
      "Kawasaki Frontale : 15 pts\n",
      "Nagoya Grampus : 12 pts\n",
      "Sagan Tosu : 12 pts\n"
     ]
    }
   ],
   "source": [
    "teams_points = {\n",
    "    \"Kawasaki Frontale\": 15,\n",
    "    \"Nagoya Grampus\": 12,\n",
    "    \"Sagan Tosu\": 12\n",
    "}\n",
    "\n",
    "# Boucle sur les éléments d'un dictionnaire\n",
    "for team, points in teams_points.items():\n",
    "    print(f\"{team} : {points} pts\")"
   ]
  },
  {
   "cell_type": "markdown",
   "metadata": {},
   "source": [
    "Il peut arriver que l'on veuille contrôler très précisément le comportement d'une boucle `for`, par exemple pour l'arrêter entièrement lorsque l'on parcours un élément spécial, ou encore pour passer directement à l'élément suivant sans exécuter le reste du code écrit dans la boucle `for`.\n",
    "\n",
    "Pour cela, on peut écrire l'un de ces deux mots-clés spéciaux au sein d'une boucle `for` :\n",
    "\n",
    "* `continue` pour arrêter l'itération en cours et aller à l'itération suivante\n",
    "* `break` pour complètement stopper le `for` et passer à la suite du code"
   ]
  },
  {
   "cell_type": "code",
   "execution_count": 38,
   "metadata": {},
   "outputs": [
    {
     "name": "stdout",
     "output_type": "stream",
     "text": [
      "pomme\n",
      "kiwi\n",
      "---\n",
      "a\n",
      "b\n"
     ]
    }
   ],
   "source": [
    "# On n'exécute pas le print() lorsque l'on est sur \"banane\"\n",
    "for fruit in [\"pomme\", \"banane\", \"kiwi\"]:\n",
    "    if fruit == \"banane\":\n",
    "        continue\n",
    "    print(fruit)\n",
    "\n",
    "print(\"---\")\n",
    "\n",
    "# On arrête complètement la boucle for lorsque l'on est sur \"c\"\n",
    "for letter in [\"a\", \"b\", \"c\", \"d\"]:\n",
    "    if letter == \"c\":\n",
    "        break\n",
    "    print(letter)"
   ]
  },
  {
   "cell_type": "markdown",
   "metadata": {},
   "source": [
    "---\n",
    "## ⚙️ Créer et utiliser un script Python\n",
    "\n",
    "Vu que le premier exercice consiste en un script Python, voici quelques choses à savoir au préalable.\n",
    "\n",
    "Tout d'abord, après avoir ouvert une ligne de commandes (terminal), n'oubliez pas d'aller vous situer dans le répertoire où se trouve l'exercice à l'aide de la commande `cd`. Ensuite, vous pourrez écrire `python billetterie.py` pour exécuter le script. Certaines installations sur Linux ou macOS nécessitent cependant d'utiliser `python3` à la place de `python`.\n",
    "\n",
    "Si vous voulez quitter prématurément votre script alors qu'il est en cours d'exécution dans votre terminal, vous pouvez utiliser le raccourci clavier `CTRL+C`.\n",
    "\n",
    "Dans le cas où vous souhaitiez, au sein de votre script Python, le faire s'arrêter immédiatement à un endroit précis, vous pouvez y écrire un appel à la fonction `quit()`."
   ]
  },
  {
   "cell_type": "markdown",
   "metadata": {},
   "source": [
    "---\n",
    "\n",
    "# Exercice\n",
    "\n",
    "Une fois ce cours terminé, vous pourrez réaliser l'exercice situé dans le dossier `xxxx`."
   ]
  }
 ],
 "metadata": {
  "interpreter": {
   "hash": "d94eb1066f04d8685077601812ddd3c592b7f56086c802177159e4b57cd392de"
  },
  "kernelspec": {
   "display_name": "Python 3.9.2 64-bit",
   "name": "python3"
  },
  "language_info": {
   "codemirror_mode": {
    "name": "ipython",
    "version": 3
   },
   "file_extension": ".py",
   "mimetype": "text/x-python",
   "name": "python",
   "nbconvert_exporter": "python",
   "pygments_lexer": "ipython3",
   "version": "3.9.2"
  },
  "metadata": {
   "interpreter": {
    "hash": "d94eb1066f04d8685077601812ddd3c592b7f56086c802177159e4b57cd392de"
   }
  }
 },
 "nbformat": 4,
 "nbformat_minor": 4
}
