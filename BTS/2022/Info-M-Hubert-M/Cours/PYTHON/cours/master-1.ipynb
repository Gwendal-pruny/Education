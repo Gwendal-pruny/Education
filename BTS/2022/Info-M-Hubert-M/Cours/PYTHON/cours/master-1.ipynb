{
 "cells": [
  {
   "cell_type": "markdown",
   "metadata": {},
   "source": [
    "![Logo](../logo.png)\n",
    "\n",
    "![Header](../assets/header_master-1.svg)\n",
    "\n",
    "# Master ①\n",
    "\n",
    "TODO\n",
    "\n",
    "# Notions de ce cours\n",
    "\n",
    "* 🖊️ Les décorateurs\n",
    "* 🖊️ Les expressions régulières\n",
    "* 🖊️ La compréhension de listes\n",
    "* 🖊️ La compréhension de dictionnaires\n",
    "* 🖊️ Unpacking avec * et **\n",
    "* ⚙️ Variables d'environnement"
   ]
  },
  {
   "cell_type": "markdown",
   "metadata": {},
   "source": [
    "---\n",
    "\n",
    "## 🖊️ Les décorateurs\n",
    "\n",
    "Il existe en Python un moyen de créer et utiliser ce qu'on appelle des \"fonctions d'ordre supérieur\" (high-order functions). Ces fonctions sont appelées **décorateurs**, car l'on peut les **rajouter sur des fonctions existantes** afin de rajouter du code à exécuter **avant ou après la fonction qui est décorée**.\n",
    "\n",
    "L'intérêt est donc de pouvoir rajouter un comportement à la volée sur des fonctions existantes, sans avoir à les modifier, juste en les **décorant**.\n",
    "\n",
    "![Explication des décorateurs](../assets/decorator.svg)\n",
    "\n",
    "Lorsque l'on écrit une **fonction \"décoratrice\"**, elle va accepter en argument la **fonction \"décorée\"**. La fonction décoratrice va en réalité renvoyer une fonction créée à la volée (un \"wrapper\") puis renvoie une nouvelle fonction créée à la volée qui appellera la fonction décorée, et ce tout en exécutant du code juste avant ou juste après.\n",
    "\n",
    "Ensuite, c'est lorsque l'on écrit la définition d'une fonction que l'on peut demander à Python de la décorer, à l'aide d'un **décorateur** donc.\n",
    "\n",
    "Étant une notion un peu complexe à concevoir, explorons-la petit à petit. Tout d'abord, écrivons une **fonction décoratrice** qui s'occupera juste d'afficher un message avant d'appeler la fonction que l'on souhaite décorer."
   ]
  },
  {
   "cell_type": "code",
   "execution_count": 1,
   "metadata": {},
   "outputs": [],
   "source": [
    "# On crée notre fonction décoratrice acceptant en argument la fonction à décorer\n",
    "def mon_decorateur(fonction_a_decorer):\n",
    "    # Au sein de la fonction décoratrive, on va créer une nouvelle fonction...\n",
    "    def wrapper():\n",
    "        # Ici, le comportement que l'on veut ajouter\n",
    "        print(\"Une fonction va être appeleée et ce message s'affichera juste avant.\")\n",
    "        # Puis l'on finit par exécuter la fonction décorée, tout en renvoyant son résultat\n",
    "        return fonction_a_decorer()\n",
    "    # Au lieu de renvoyer la fonction décorée, on renvoie justement notre nouvelle fonction wrapper\n",
    "    return wrapper"
   ]
  },
  {
   "cell_type": "markdown",
   "metadata": {},
   "source": [
    "Comme dans d'autres langages, on peut définir une fonction au sein d'une fonction, qui n'existera donc que dans un scope local. C'est pour cela qu'on va retourner cette fonction tout juste créée, afin qu'elle soit récupérée et appelée plus tard.\n",
    "\n",
    "Ensuite, définissions une fonction simple que l'on va appeler immédiatement."
   ]
  },
  {
   "cell_type": "code",
   "execution_count": 2,
   "metadata": {},
   "outputs": [
    {
     "name": "stdout",
     "output_type": "stream",
     "text": [
      "Aloha !\n"
     ]
    }
   ],
   "source": [
    "# La fonction que l'on voudra décorer\n",
    "def bonjour():\n",
    "    print(\"Aloha !\")\n",
    "\n",
    "bonjour()"
   ]
  },
  {
   "cell_type": "markdown",
   "metadata": {},
   "source": [
    "Il est ensuite temps d'**écraser** la définition d'origine de notre fonction `bonjour` à l'aide du **décorateur** `mon_decorateur`.\n",
    "\n",
    "Lorsque l'on appellera notre fonction `bonjour`, toujours comme avant, cela passera alors par le code du **décorateur** `mon_decorateur`."
   ]
  },
  {
   "cell_type": "code",
   "execution_count": 3,
   "metadata": {},
   "outputs": [
    {
     "name": "stdout",
     "output_type": "stream",
     "text": [
      "Une fonction va être appeleée et ce message s'affichera juste avant.\n",
      "Aloha !\n"
     ]
    }
   ],
   "source": [
    "# La déclaration originale de notre fonction\n",
    "def bonjour():\n",
    "    print(\"Aloha !\")\n",
    "\n",
    "# On écrase ici la déclaration originale de la fonction par sa version décorée\n",
    "# Notez d'ailleurs que, ici, on passe la fonction en tant que variable, on ne l'appelle pas (car pas de parenthèses après son nom) \n",
    "#                         ↓\n",
    "bonjour = mon_decorateur(bonjour)\n",
    "\n",
    "# On appelle notre fonction comme si de rien n'était !\n",
    "bonjour()"
   ]
  },
  {
   "cell_type": "markdown",
   "metadata": {},
   "source": [
    "Voyons désormais la façon une façon plus pratique de décorer une fonction, à l'aide de la syntaxe de l'arobase."
   ]
  },
  {
   "cell_type": "code",
   "execution_count": 4,
   "metadata": {},
   "outputs": [
    {
     "name": "stdout",
     "output_type": "stream",
     "text": [
      "Une fonction va être appeleée et ce message s'affichera juste avant.\n",
      "Aloha !\n"
     ]
    }
   ],
   "source": [
    "# On demande à Python d'utiliser le décorateur \"mon_decorateur\" pour la déclaration\n",
    "# de fonction qui se trouvera à la ligne suivante\n",
    "@mon_decorateur\n",
    "def bonjour():\n",
    "    print(\"Aloha !\")\n",
    "\n",
    "bonjour()"
   ]
  },
  {
   "cell_type": "markdown",
   "metadata": {},
   "source": [
    "Comme vous avez pu le constater, on écrit directement le nom de notre **fonction décoratrice** précédé d'un arobase `@` juste au-dessus de la déclaration de la **fonction décorée**.\n",
    "\n",
    "C'est la syntaxe propre à Python qui permet de décorer immédiatement une fonction que l'on va déclarer, et c'est donc en général la façon la plus simple d'utiliser un décorateur."
   ]
  }
 ],
 "metadata": {
  "kernelspec": {
   "display_name": "Python 3",
   "language": "python",
   "name": "python3"
  },
  "language_info": {
   "codemirror_mode": {
    "name": "ipython",
    "version": 3
   },
   "file_extension": ".py",
   "mimetype": "text/x-python",
   "name": "python",
   "nbconvert_exporter": "python",
   "pygments_lexer": "ipython3",
   "version": "3.9.2"
  },
  "metadata": {
   "interpreter": {
    "hash": "d94eb1066f04d8685077601812ddd3c592b7f56086c802177159e4b57cd392de"
   }
  }
 },
 "nbformat": 4,
 "nbformat_minor": 4
}
